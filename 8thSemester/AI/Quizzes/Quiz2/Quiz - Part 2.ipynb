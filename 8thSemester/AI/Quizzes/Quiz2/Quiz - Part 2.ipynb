{
 "cells": [
  {
   "cell_type": "code",
   "execution_count": 1,
   "id": "8956fda2-fd5c-4006-bac8-9ee300932426",
   "metadata": {},
   "outputs": [],
   "source": [
    "import pandas as pd\n",
    "import numpy as np\n",
    "import matplotlib.pyplot as plt\n",
    "from sklearn.linear_model import LinearRegression\n",
    "import plotly.graph_objects as go\n",
    "\n",
    "# Load the dataset\n",
    "df = pd.read_csv(r'.\\exams.csv')"
   ]
  },
  {
   "cell_type": "code",
   "execution_count": 2,
   "id": "03fc6371-d07e-4792-be21-e03be8f5da38",
   "metadata": {},
   "outputs": [
    {
     "name": "stdout",
     "output_type": "stream",
     "text": [
      "<bound method NDFrame.head of      reading score  math score  writing score\n",
      "0               70          59             78\n",
      "1               93          96             87\n",
      "2               76          57             77\n",
      "3               70          70             63\n",
      "4               85          83             86\n",
      "..             ...         ...            ...\n",
      "995             77          77             71\n",
      "996             66          80             66\n",
      "997             86          67             86\n",
      "998             72          80             62\n",
      "999             47          58             45\n",
      "\n",
      "[1000 rows x 3 columns]>\n"
     ]
    }
   ],
   "source": [
    "# Select features for clustering\n",
    "#features = ['Rating', 'Installs', 'Reviews', 'Size', 'Price']\n",
    "features = ['reading score','math score','writing score']\n",
    "X = df[features]\n",
    "print(X.head)\n"
   ]
  },
  {
   "cell_type": "code",
   "execution_count": 3,
   "id": "3a7e5f9c-23d5-40ea-85f6-5dd0b1b672b7",
   "metadata": {},
   "outputs": [],
   "source": [
    "X = df[['reading score', 'writing score']]  # Feature (independent variable)\n",
    "y = df['math score']    # Target (dependent variable)\n"
   ]
  },
  {
   "cell_type": "code",
   "execution_count": 4,
   "id": "92fdced8",
   "metadata": {},
   "outputs": [],
   "source": [
    "\n",
    "model = LinearRegression().fit(X, y)\n",
    "y_pred = model.predict(X)\n"
   ]
  },
  {
   "cell_type": "code",
   "execution_count": 5,
   "id": "c7548ac3",
   "metadata": {},
   "outputs": [
    {
     "name": "stdout",
     "output_type": "stream",
     "text": [
      "Slope (Coefficient): [0.67394022 0.20143138]\n",
      "Intercept: 6.449773524626082\n"
     ]
    }
   ],
   "source": [
    "print(f\"Slope (Coefficient): {model.coef_}\")\n",
    "print(f\"Intercept: {model.intercept_}\")\n"
   ]
  },
  {
   "cell_type": "code",
   "execution_count": 6,
   "id": "1ffd71d5",
   "metadata": {},
   "outputs": [
    {
     "data": {
      "application/vnd.plotly.v1+json": {
       "config": {
        "plotlyServerURL": "https://plot.ly"
       },
       "data": [
        {
         "marker": {
          "color": "blue",
          "size": 5
         },
         "mode": "markers",
         "name": "Actual",
         "type": "scatter3d",
         "x": {
          "bdata": "Rl1MRlU5Uz1LRUUySkk2Li9cUkdCR0dYVVM0Qk9XUUxOI1I1SkJVVS5SUkk4R1JMNE1NU11IQ0BLXVZCSkVTREoiTVs+RlFSIToxLls9Sz1QXS5NWWFET0E+Q0ozS1hgVFBaPkgyRTpaS0xOOlFUT1ZASF9gRzdbSlRDPE5aT19LQUE6Lj1GQVpNQlFARU1NOE9NRlNORThNOUxJY1JPT1M1PDg6MjFIRU1LSEQtOEdJRlQ/SFlVREtiUShLUkFRPzlCP1k9Yl5hPUxbUV84Q0I7ODlNWk1OQjdaPVFEXEc+MFw8GUs+UFhHRE5SP004RkVPTVFLQEJYPkVPPEktUDlATlIyRTI5VERPSD07WEJYVEg4J1QoS044P0Q/Rkk2SEY1MF04QTUxNjhJTU1VUj1EPklSQE0tX082SjorOS5HO0VbLUdFNURHVkY/OC1BRDk9YFc8NUJWOzdERENNM0w5SE5YSUtVRExQVjk+U04sYC85UV48ORtPZEtZRVVOQkBSSz1kPkI3QD1HRUxJTj4wRk1ZMElDVFFCUE9OM0hMSjBEQUVNS0xPQUNEQmFCRDEyVEEnX0Y/RCpIMkM6PFY4TEQtQE9UWkVGUjJNSUBGVVdCL0RQWWA4O0RZNFZFHjVOT0NGXVpYRDlIIUM6PllBXkBhOTdXV1wxMTpJNVA9IFxZSzdVPjxHQTJRWkFaTFNQS0k7PzhTZCZDVEhES1FWLEFaTzI1KS5BQjxKW0E5KDhBYmRkO0JLR14xSkJJSjlNO1k7RihFRSc4Rj9CMThhOD1NSj1CXDdHMT5NTUtET1Q6Q0dDLEIyVkE4WTQ/Q1NKRFs6R0k7R0xKYVdERkUuRGJISD1OW1lAWlBfSCpIVzBWRj1UTFY9OEFXTlpOTj1JO1NCNlBYQVpCVkpDPDpWPz5MMDxWOj84MENMRVhDS1FcPEE1OyxOSFNOSjRKI0g3SEBML09YW1REX0ZNVTBMTT40UEZETkVBYDFFRThLMENMS1kzSVFRJT5MVllGSzNRSGQ4UiZKOzo5XTZWVkVDWUA/Wk1JSCtDMEhdQDRVR1VXPzlMJj5iQkFjS0xDOUVJQz48QUY6Py84P0g1TlYtNmRMNDMzXkhIPi0/XkRKTlRQRFwxPl1kOktNUDwtQ1BVRVBaTk9BOEJMOz1OSEZFTkxROzA+P0hIOlRUNT1TMUFkV1I8L1w2QUhITVNDQkNhUkhITlRSZEJPPFdTXEo1ST5QOkBCPkFGMy1LLWA8OD5VTUVWW11gR0RBNE1gRU5COUo1UTBCRjxCWFBdNlo7XVRKUxtOV0BIXzU+TU1DSmFNQlZILw==",
          "dtype": "i1"
         },
         "y": {
          "bdata": "O2A5RlNEUi5QOUo1TEY3OCNXUEFCQ0ZZY0o6RlBaUERFIFI5RURKWS5MVkU0P2BQO1BBSlpFRT5DWU9DUj9HNz0jS0k4UFNAFyk9P1Q3VUFYWzNJSWQwYkRASD8rUEdbRElLU1g7SitMSkU+PVhAQUkyP2JaQCZUUVJANztTTFNFKzQ4L0dCUVVMMkxBO1RVPUlSS1tDPj1CO1hDW1dTRlMxQTI+OCw/SEA9UjkrRT48UURBO1FUOEddTTJLQE1ARzovOVI1WVlLPj9kPkszSkI0RS5KZFNSOjtNPVU7RzQ+L2AwFEY7UFNLSU5eLk0/QDxKQ05YNFhON0dLPkInVS45QVY7MTM1UjNKSSopVEBKW0M2LEElOkVARjctUE05Q0QxKmA3RjMbPCw/SFJSRkw+Oj1YPVg5XFA+RzYrMzk+MD1eLDhEPTFHTkpCPTsxPTYtUUdDODxfPDxSTjlIJUg0UFlUQztfR0hTXjpLQUQiYSw8QmAnOB9KZERPPkhCQD5ERj9bOkssREFCSUNCUU0rOkFcOEFIZEVGWlo/KEBaTCotTD9UPkVNP0hLPU81TSwsRzwxUkQ6QTJJKDw5OVNESkwmP1dRVEQ5Syc2Rzo9Ukk0IUM9VmJIPEJWLUszFTZTSklFUV9hPj8yGUk5QFY+YT5bPDtLT08iMS9OLkgtHFNWQEFFQilDOSpLTUFXSEc8QzYwQzpQVDA3RUo+TFRdODRRVDc2LjBPQjg8S08pIzZDVVxjNEk+S1o2UUpESjNERWQ1SDI9QQ9ATT0xRjxUM0pAQ0xGVTVUNzJPUVk7UlYpQERKLCItUzc9US1HPk5MSVJFSEg5U0Q+Y1g4REstSGNMQDhKYVM3TU5ZTiFCVzJPRi9QW044Nk9dSlNaPjpJP1lLMzpcJ1RHVTtHSj5TSkBPGEJFQUI2OzxEPVQ+RkxRNkM4PyddQVNLRy48N08+NzpSHlBiU1E2Uj5GTTdORTonUEw0WFI+Wik7PUQ8JUNJSkMlPUBKIjZBUVhSRjxGQ2IjRSZGKi8xWjFTUkhDXDtAWFxSOy04NFZRPTNFUUlcRz1QJkhgQCxRVVJIKzpIUFFCSktEQzpPPzsvQ1wsOVNEOyQ4UD5aNyxIXElLUlRRUk8fSVlkL15PTT84Ok1SM1xXWE0+PUFUHj9PM0I/R0VGQzUyOzZRRVdYNDxNL0xcV0pDOFRJS0ZPVk06RkVeTEdMVV5bZEFEO0lMVktERDtUQzs6SD03KSRUOVE7QkFBNU9ZVU9TPkBCJEpVLEQ7QD4tVS1RQTA7UEJQL0o3ZFNMVxxMVkFYVzNDRkhLU1JNUENQOg==",
          "dtype": "i1"
         },
         "z": {
          "bdata": "O2A5RlNEUi5QOUo1TEY3OCNXUEFCQ0ZZY0o6RlBaUERFIFI5RURKWS5MVkU0P2BQO1BBSlpFRT5DWU9DUj9HNz0jS0k4UFNAFyk9P1Q3VUFYWzNJSWQwYkRASD8rUEdbRElLU1g7SitMSkU+PVhAQUkyP2JaQCZUUVJANztTTFNFKzQ4L0dCUVVMMkxBO1RVPUlSS1tDPj1CO1hDW1dTRlMxQTI+OCw/SEA9UjkrRT48UURBO1FUOEddTTJLQE1ARzovOVI1WVlLPj9kPkszSkI0RS5KZFNSOjtNPVU7RzQ+L2AwFEY7UFNLSU5eLk0/QDxKQ05YNFhON0dLPkInVS45QVY7MTM1UjNKSSopVEBKW0M2LEElOkVARjctUE05Q0QxKmA3RjMbPCw/SFJSRkw+Oj1YPVg5XFA+RzYrMzk+MD1eLDhEPTFHTkpCPTsxPTYtUUdDODxfPDxSTjlIJUg0UFlUQztfR0hTXjpLQUQiYSw8QmAnOB9KZERPPkhCQD5ERj9bOkssREFCSUNCUU0rOkFcOEFIZEVGWlo/KEBaTCotTD9UPkVNP0hLPU81TSwsRzwxUkQ6QTJJKDw5OVNESkwmP1dRVEQ5Syc2Rzo9Ukk0IUM9VmJIPEJWLUszFTZTSklFUV9hPj8yGUk5QFY+YT5bPDtLT08iMS9OLkgtHFNWQEFFQilDOSpLTUFXSEc8QzYwQzpQVDA3RUo+TFRdODRRVDc2LjBPQjg8S08pIzZDVVxjNEk+S1o2UUpESjNERWQ1SDI9QQ9ATT0xRjxUM0pAQ0xGVTVUNzJPUVk7UlYpQERKLCItUzc9US1HPk5MSVJFSEg5U0Q+Y1g4REstSGNMQDhKYVM3TU5ZTiFCVzJPRi9QW044Nk9dSlNaPjpJP1lLMzpcJ1RHVTtHSj5TSkBPGEJFQUI2OzxEPVQ+RkxRNkM4PyddQVNLRy48N08+NzpSHlBiU1E2Uj5GTTdORTonUEw0WFI+Wik7PUQ8JUNJSkMlPUBKIjZBUVhSRjxGQ2IjRSZGKi8xWjFTUkhDXDtAWFxSOy04NFZRPTNFUUlcRz1QJkhgQCxRVVJIKzpIUFFCSktEQzpPPzsvQ1wsOVNEOyQ4UD5aNyxIXElLUlRRUk8fSVlkL15PTT84Ok1SM1xXWE0+PUFUHj9PM0I/R0VGQzUyOzZRRVdYNDxNL0xcV0pDOFRJS0ZPVk06RkVeTEdMVV5bZEFEO0lMVktERDtUQzs6SD03KSRUOVE7QkFBNU9ZVU9TPkBCJEpVLEQ7QD4tVS1RQTA7UEJQL0o3ZFNMVxxMVkFYVzNDRkhLU1JNUENQOg==",
          "dtype": "i1"
         }
        },
        {
         "marker": {
          "color": "red",
          "size": 5
         },
         "mode": "markers",
         "name": "Predicted",
         "type": "scatter3d",
         "x": {
          "bdata": "Rl1MRlU5Uz1LRUUySkk2Li9cUkdCR0dYVVM0Qk9XUUxOI1I1SkJVVS5SUkk4R1JMNE1NU11IQ0BLXVZCSkVTREoiTVs+RlFSIToxLls9Sz1QXS5NWWFET0E+Q0ozS1hgVFBaPkgyRTpaS0xOOlFUT1ZASF9gRzdbSlRDPE5aT19LQUE6Lj1GQVpNQlFARU1NOE9NRlNORThNOUxJY1JPT1M1PDg6MjFIRU1LSEQtOEdJRlQ/SFlVREtiUShLUkFRPzlCP1k9Yl5hPUxbUV84Q0I7ODlNWk1OQjdaPVFEXEc+MFw8GUs+UFhHRE5SP004RkVPTVFLQEJYPkVPPEktUDlATlIyRTI5VERPSD07WEJYVEg4J1QoS044P0Q/Rkk2SEY1MF04QTUxNjhJTU1VUj1EPklSQE0tX082SjorOS5HO0VbLUdFNURHVkY/OC1BRDk9YFc8NUJWOzdERENNM0w5SE5YSUtVRExQVjk+U04sYC85UV48ORtPZEtZRVVOQkBSSz1kPkI3QD1HRUxJTj4wRk1ZMElDVFFCUE9OM0hMSjBEQUVNS0xPQUNEQmFCRDEyVEEnX0Y/RCpIMkM6PFY4TEQtQE9UWkVGUjJNSUBGVVdCL0RQWWA4O0RZNFZFHjVOT0NGXVpYRDlIIUM6PllBXkBhOTdXV1wxMTpJNVA9IFxZSzdVPjxHQTJRWkFaTFNQS0k7PzhTZCZDVEhES1FWLEFaTzI1KS5BQjxKW0E5KDhBYmRkO0JLR14xSkJJSjlNO1k7RihFRSc4Rj9CMThhOD1NSj1CXDdHMT5NTUtET1Q6Q0dDLEIyVkE4WTQ/Q1NKRFs6R0k7R0xKYVdERkUuRGJISD1OW1lAWlBfSCpIVzBWRj1UTFY9OEFXTlpOTj1JO1NCNlBYQVpCVkpDPDpWPz5MMDxWOj84MENMRVhDS1FcPEE1OyxOSFNOSjRKI0g3SEBML09YW1REX0ZNVTBMTT40UEZETkVBYDFFRThLMENMS1kzSVFRJT5MVllGSzNRSGQ4UiZKOzo5XTZWVkVDWUA/Wk1JSCtDMEhdQDRVR1VXPzlMJj5iQkFjS0xDOUVJQz48QUY6Py84P0g1TlYtNmRMNDMzXkhIPi0/XkRKTlRQRFwxPl1kOktNUDwtQ1BVRVBaTk9BOEJMOz1OSEZFTkxROzA+P0hIOlRUNT1TMUFkV1I8L1w2QUhITVNDQkNhUkhITlRSZEJPPFdTXEo1ST5QOkBCPkFGMy1LLWA8OD5VTUVWW11gR0RBNE1gRU5COUo1UTBCRjxCWFBdNlo7XVRKUxtOV0BIXzU+TU1DSmFNQlZILw==",
          "dtype": "i1"
         },
         "y": {
          "bdata": "O2A5RlNEUi5QOUo1TEY3OCNXUEFCQ0ZZY0o6RlBaUERFIFI5RURKWS5MVkU0P2BQO1BBSlpFRT5DWU9DUj9HNz0jS0k4UFNAFyk9P1Q3VUFYWzNJSWQwYkRASD8rUEdbRElLU1g7SitMSkU+PVhAQUkyP2JaQCZUUVJANztTTFNFKzQ4L0dCUVVMMkxBO1RVPUlSS1tDPj1CO1hDW1dTRlMxQTI+OCw/SEA9UjkrRT48UURBO1FUOEddTTJLQE1ARzovOVI1WVlLPj9kPkszSkI0RS5KZFNSOjtNPVU7RzQ+L2AwFEY7UFNLSU5eLk0/QDxKQ05YNFhON0dLPkInVS45QVY7MTM1UjNKSSopVEBKW0M2LEElOkVARjctUE05Q0QxKmA3RjMbPCw/SFJSRkw+Oj1YPVg5XFA+RzYrMzk+MD1eLDhEPTFHTkpCPTsxPTYtUUdDODxfPDxSTjlIJUg0UFlUQztfR0hTXjpLQUQiYSw8QmAnOB9KZERPPkhCQD5ERj9bOkssREFCSUNCUU0rOkFcOEFIZEVGWlo/KEBaTCotTD9UPkVNP0hLPU81TSwsRzwxUkQ6QTJJKDw5OVNESkwmP1dRVEQ5Syc2Rzo9Ukk0IUM9VmJIPEJWLUszFTZTSklFUV9hPj8yGUk5QFY+YT5bPDtLT08iMS9OLkgtHFNWQEFFQilDOSpLTUFXSEc8QzYwQzpQVDA3RUo+TFRdODRRVDc2LjBPQjg8S08pIzZDVVxjNEk+S1o2UUpESjNERWQ1SDI9QQ9ATT0xRjxUM0pAQ0xGVTVUNzJPUVk7UlYpQERKLCItUzc9US1HPk5MSVJFSEg5U0Q+Y1g4REstSGNMQDhKYVM3TU5ZTiFCVzJPRi9QW044Nk9dSlNaPjpJP1lLMzpcJ1RHVTtHSj5TSkBPGEJFQUI2OzxEPVQ+RkxRNkM4PyddQVNLRy48N08+NzpSHlBiU1E2Uj5GTTdORTonUEw0WFI+Wik7PUQ8JUNJSkMlPUBKIjZBUVhSRjxGQ2IjRSZGKi8xWjFTUkhDXDtAWFxSOy04NFZRPTNFUUlcRz1QJkhgQCxRVVJIKzpIUFFCSktEQzpPPzsvQ1wsOVNEOyQ4UD5aNyxIXElLUlRRUk8fSVlkL15PTT84Ok1SM1xXWE0+PUFUHj9PM0I/R0VGQzUyOzZRRVdYNDxNL0xcV0pDOFRJS0ZPVk06RkVeTEdMVV5bZEFEO0lMVktERDtUQzs6SD03KSRUOVE7QkFBNU9ZVU9TPkBCJEpVLEQ7QD4tVS1RQTA7UEJQL0o3ZFNMVxxMVkFYVzNDRkhLU1JNUENQOg==",
          "dtype": "i1"
         },
         "z": {
          "bdata": "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",
          "dtype": "f8"
         }
        }
       ],
       "layout": {
        "scene": {
         "xaxis": {
          "title": {
           "text": "Reading Score"
          }
         },
         "yaxis": {
          "title": {
           "text": "Math Score"
          }
         },
         "zaxis": {
          "title": {
           "text": "Writing Score"
          }
         }
        },
        "template": {
         "data": {
          "bar": [
           {
            "error_x": {
             "color": "#2a3f5f"
            },
            "error_y": {
             "color": "#2a3f5f"
            },
            "marker": {
             "line": {
              "color": "#E5ECF6",
              "width": 0.5
             },
             "pattern": {
              "fillmode": "overlay",
              "size": 10,
              "solidity": 0.2
             }
            },
            "type": "bar"
           }
          ],
          "barpolar": [
           {
            "marker": {
             "line": {
              "color": "#E5ECF6",
              "width": 0.5
             },
             "pattern": {
              "fillmode": "overlay",
              "size": 10,
              "solidity": 0.2
             }
            },
            "type": "barpolar"
           }
          ],
          "carpet": [
           {
            "aaxis": {
             "endlinecolor": "#2a3f5f",
             "gridcolor": "white",
             "linecolor": "white",
             "minorgridcolor": "white",
             "startlinecolor": "#2a3f5f"
            },
            "baxis": {
             "endlinecolor": "#2a3f5f",
             "gridcolor": "white",
             "linecolor": "white",
             "minorgridcolor": "white",
             "startlinecolor": "#2a3f5f"
            },
            "type": "carpet"
           }
          ],
          "choropleth": [
           {
            "colorbar": {
             "outlinewidth": 0,
             "ticks": ""
            },
            "type": "choropleth"
           }
          ],
          "contour": [
           {
            "colorbar": {
             "outlinewidth": 0,
             "ticks": ""
            },
            "colorscale": [
             [
              0,
              "#0d0887"
             ],
             [
              0.1111111111111111,
              "#46039f"
             ],
             [
              0.2222222222222222,
              "#7201a8"
             ],
             [
              0.3333333333333333,
              "#9c179e"
             ],
             [
              0.4444444444444444,
              "#bd3786"
             ],
             [
              0.5555555555555556,
              "#d8576b"
             ],
             [
              0.6666666666666666,
              "#ed7953"
             ],
             [
              0.7777777777777778,
              "#fb9f3a"
             ],
             [
              0.8888888888888888,
              "#fdca26"
             ],
             [
              1,
              "#f0f921"
             ]
            ],
            "type": "contour"
           }
          ],
          "contourcarpet": [
           {
            "colorbar": {
             "outlinewidth": 0,
             "ticks": ""
            },
            "type": "contourcarpet"
           }
          ],
          "heatmap": [
           {
            "colorbar": {
             "outlinewidth": 0,
             "ticks": ""
            },
            "colorscale": [
             [
              0,
              "#0d0887"
             ],
             [
              0.1111111111111111,
              "#46039f"
             ],
             [
              0.2222222222222222,
              "#7201a8"
             ],
             [
              0.3333333333333333,
              "#9c179e"
             ],
             [
              0.4444444444444444,
              "#bd3786"
             ],
             [
              0.5555555555555556,
              "#d8576b"
             ],
             [
              0.6666666666666666,
              "#ed7953"
             ],
             [
              0.7777777777777778,
              "#fb9f3a"
             ],
             [
              0.8888888888888888,
              "#fdca26"
             ],
             [
              1,
              "#f0f921"
             ]
            ],
            "type": "heatmap"
           }
          ],
          "histogram": [
           {
            "marker": {
             "pattern": {
              "fillmode": "overlay",
              "size": 10,
              "solidity": 0.2
             }
            },
            "type": "histogram"
           }
          ],
          "histogram2d": [
           {
            "colorbar": {
             "outlinewidth": 0,
             "ticks": ""
            },
            "colorscale": [
             [
              0,
              "#0d0887"
             ],
             [
              0.1111111111111111,
              "#46039f"
             ],
             [
              0.2222222222222222,
              "#7201a8"
             ],
             [
              0.3333333333333333,
              "#9c179e"
             ],
             [
              0.4444444444444444,
              "#bd3786"
             ],
             [
              0.5555555555555556,
              "#d8576b"
             ],
             [
              0.6666666666666666,
              "#ed7953"
             ],
             [
              0.7777777777777778,
              "#fb9f3a"
             ],
             [
              0.8888888888888888,
              "#fdca26"
             ],
             [
              1,
              "#f0f921"
             ]
            ],
            "type": "histogram2d"
           }
          ],
          "histogram2dcontour": [
           {
            "colorbar": {
             "outlinewidth": 0,
             "ticks": ""
            },
            "colorscale": [
             [
              0,
              "#0d0887"
             ],
             [
              0.1111111111111111,
              "#46039f"
             ],
             [
              0.2222222222222222,
              "#7201a8"
             ],
             [
              0.3333333333333333,
              "#9c179e"
             ],
             [
              0.4444444444444444,
              "#bd3786"
             ],
             [
              0.5555555555555556,
              "#d8576b"
             ],
             [
              0.6666666666666666,
              "#ed7953"
             ],
             [
              0.7777777777777778,
              "#fb9f3a"
             ],
             [
              0.8888888888888888,
              "#fdca26"
             ],
             [
              1,
              "#f0f921"
             ]
            ],
            "type": "histogram2dcontour"
           }
          ],
          "mesh3d": [
           {
            "colorbar": {
             "outlinewidth": 0,
             "ticks": ""
            },
            "type": "mesh3d"
           }
          ],
          "parcoords": [
           {
            "line": {
             "colorbar": {
              "outlinewidth": 0,
              "ticks": ""
             }
            },
            "type": "parcoords"
           }
          ],
          "pie": [
           {
            "automargin": true,
            "type": "pie"
           }
          ],
          "scatter": [
           {
            "fillpattern": {
             "fillmode": "overlay",
             "size": 10,
             "solidity": 0.2
            },
            "type": "scatter"
           }
          ],
          "scatter3d": [
           {
            "line": {
             "colorbar": {
              "outlinewidth": 0,
              "ticks": ""
             }
            },
            "marker": {
             "colorbar": {
              "outlinewidth": 0,
              "ticks": ""
             }
            },
            "type": "scatter3d"
           }
          ],
          "scattercarpet": [
           {
            "marker": {
             "colorbar": {
              "outlinewidth": 0,
              "ticks": ""
             }
            },
            "type": "scattercarpet"
           }
          ],
          "scattergeo": [
           {
            "marker": {
             "colorbar": {
              "outlinewidth": 0,
              "ticks": ""
             }
            },
            "type": "scattergeo"
           }
          ],
          "scattergl": [
           {
            "marker": {
             "colorbar": {
              "outlinewidth": 0,
              "ticks": ""
             }
            },
            "type": "scattergl"
           }
          ],
          "scattermap": [
           {
            "marker": {
             "colorbar": {
              "outlinewidth": 0,
              "ticks": ""
             }
            },
            "type": "scattermap"
           }
          ],
          "scattermapbox": [
           {
            "marker": {
             "colorbar": {
              "outlinewidth": 0,
              "ticks": ""
             }
            },
            "type": "scattermapbox"
           }
          ],
          "scatterpolar": [
           {
            "marker": {
             "colorbar": {
              "outlinewidth": 0,
              "ticks": ""
             }
            },
            "type": "scatterpolar"
           }
          ],
          "scatterpolargl": [
           {
            "marker": {
             "colorbar": {
              "outlinewidth": 0,
              "ticks": ""
             }
            },
            "type": "scatterpolargl"
           }
          ],
          "scatterternary": [
           {
            "marker": {
             "colorbar": {
              "outlinewidth": 0,
              "ticks": ""
             }
            },
            "type": "scatterternary"
           }
          ],
          "surface": [
           {
            "colorbar": {
             "outlinewidth": 0,
             "ticks": ""
            },
            "colorscale": [
             [
              0,
              "#0d0887"
             ],
             [
              0.1111111111111111,
              "#46039f"
             ],
             [
              0.2222222222222222,
              "#7201a8"
             ],
             [
              0.3333333333333333,
              "#9c179e"
             ],
             [
              0.4444444444444444,
              "#bd3786"
             ],
             [
              0.5555555555555556,
              "#d8576b"
             ],
             [
              0.6666666666666666,
              "#ed7953"
             ],
             [
              0.7777777777777778,
              "#fb9f3a"
             ],
             [
              0.8888888888888888,
              "#fdca26"
             ],
             [
              1,
              "#f0f921"
             ]
            ],
            "type": "surface"
           }
          ],
          "table": [
           {
            "cells": {
             "fill": {
              "color": "#EBF0F8"
             },
             "line": {
              "color": "white"
             }
            },
            "header": {
             "fill": {
              "color": "#C8D4E3"
             },
             "line": {
              "color": "white"
             }
            },
            "type": "table"
           }
          ]
         },
         "layout": {
          "annotationdefaults": {
           "arrowcolor": "#2a3f5f",
           "arrowhead": 0,
           "arrowwidth": 1
          },
          "autotypenumbers": "strict",
          "coloraxis": {
           "colorbar": {
            "outlinewidth": 0,
            "ticks": ""
           }
          },
          "colorscale": {
           "diverging": [
            [
             0,
             "#8e0152"
            ],
            [
             0.1,
             "#c51b7d"
            ],
            [
             0.2,
             "#de77ae"
            ],
            [
             0.3,
             "#f1b6da"
            ],
            [
             0.4,
             "#fde0ef"
            ],
            [
             0.5,
             "#f7f7f7"
            ],
            [
             0.6,
             "#e6f5d0"
            ],
            [
             0.7,
             "#b8e186"
            ],
            [
             0.8,
             "#7fbc41"
            ],
            [
             0.9,
             "#4d9221"
            ],
            [
             1,
             "#276419"
            ]
           ],
           "sequential": [
            [
             0,
             "#0d0887"
            ],
            [
             0.1111111111111111,
             "#46039f"
            ],
            [
             0.2222222222222222,
             "#7201a8"
            ],
            [
             0.3333333333333333,
             "#9c179e"
            ],
            [
             0.4444444444444444,
             "#bd3786"
            ],
            [
             0.5555555555555556,
             "#d8576b"
            ],
            [
             0.6666666666666666,
             "#ed7953"
            ],
            [
             0.7777777777777778,
             "#fb9f3a"
            ],
            [
             0.8888888888888888,
             "#fdca26"
            ],
            [
             1,
             "#f0f921"
            ]
           ],
           "sequentialminus": [
            [
             0,
             "#0d0887"
            ],
            [
             0.1111111111111111,
             "#46039f"
            ],
            [
             0.2222222222222222,
             "#7201a8"
            ],
            [
             0.3333333333333333,
             "#9c179e"
            ],
            [
             0.4444444444444444,
             "#bd3786"
            ],
            [
             0.5555555555555556,
             "#d8576b"
            ],
            [
             0.6666666666666666,
             "#ed7953"
            ],
            [
             0.7777777777777778,
             "#fb9f3a"
            ],
            [
             0.8888888888888888,
             "#fdca26"
            ],
            [
             1,
             "#f0f921"
            ]
           ]
          },
          "colorway": [
           "#636efa",
           "#EF553B",
           "#00cc96",
           "#ab63fa",
           "#FFA15A",
           "#19d3f3",
           "#FF6692",
           "#B6E880",
           "#FF97FF",
           "#FECB52"
          ],
          "font": {
           "color": "#2a3f5f"
          },
          "geo": {
           "bgcolor": "white",
           "lakecolor": "white",
           "landcolor": "#E5ECF6",
           "showlakes": true,
           "showland": true,
           "subunitcolor": "white"
          },
          "hoverlabel": {
           "align": "left"
          },
          "hovermode": "closest",
          "mapbox": {
           "style": "light"
          },
          "paper_bgcolor": "white",
          "plot_bgcolor": "#E5ECF6",
          "polar": {
           "angularaxis": {
            "gridcolor": "white",
            "linecolor": "white",
            "ticks": ""
           },
           "bgcolor": "#E5ECF6",
           "radialaxis": {
            "gridcolor": "white",
            "linecolor": "white",
            "ticks": ""
           }
          },
          "scene": {
           "xaxis": {
            "backgroundcolor": "#E5ECF6",
            "gridcolor": "white",
            "gridwidth": 2,
            "linecolor": "white",
            "showbackground": true,
            "ticks": "",
            "zerolinecolor": "white"
           },
           "yaxis": {
            "backgroundcolor": "#E5ECF6",
            "gridcolor": "white",
            "gridwidth": 2,
            "linecolor": "white",
            "showbackground": true,
            "ticks": "",
            "zerolinecolor": "white"
           },
           "zaxis": {
            "backgroundcolor": "#E5ECF6",
            "gridcolor": "white",
            "gridwidth": 2,
            "linecolor": "white",
            "showbackground": true,
            "ticks": "",
            "zerolinecolor": "white"
           }
          },
          "shapedefaults": {
           "line": {
            "color": "#2a3f5f"
           }
          },
          "ternary": {
           "aaxis": {
            "gridcolor": "white",
            "linecolor": "white",
            "ticks": ""
           },
           "baxis": {
            "gridcolor": "white",
            "linecolor": "white",
            "ticks": ""
           },
           "bgcolor": "#E5ECF6",
           "caxis": {
            "gridcolor": "white",
            "linecolor": "white",
            "ticks": ""
           }
          },
          "title": {
           "x": 0.05
          },
          "xaxis": {
           "automargin": true,
           "gridcolor": "white",
           "linecolor": "white",
           "ticks": "",
           "title": {
            "standoff": 15
           },
           "zerolinecolor": "white",
           "zerolinewidth": 2
          },
          "yaxis": {
           "automargin": true,
           "gridcolor": "white",
           "linecolor": "white",
           "ticks": "",
           "title": {
            "standoff": 15
           },
           "zerolinecolor": "white",
           "zerolinewidth": 2
          }
         }
        },
        "title": {
         "text": "Interactive 3D Multiple Regression Plot"
        }
       }
      }
     },
     "metadata": {},
     "output_type": "display_data"
    }
   ],
   "source": [
    "# Create an interactive 3D figure\n",
    "fig = go.Figure()\n",
    "\n",
    "# Add scatter trace for actual points\n",
    "fig.add_trace(go.Scatter3d(\n",
    "    x=df['reading score'],\n",
    "    y=df['math score'],\n",
    "    z=y,\n",
    "    mode='markers',\n",
    "    marker=dict(size=5, color='blue'),\n",
    "    name='Actual'\n",
    "))\n",
    "\n",
    "# Add scatter trace for predicted points\n",
    "fig.add_trace(go.Scatter3d(\n",
    "    x=df['reading score'],\n",
    "    y=df['math score'],\n",
    "    z=y_pred,\n",
    "    mode='markers',\n",
    "    marker=dict(size=5, color='red'),\n",
    "    name='Predicted'\n",
    "))\n",
    "\n",
    "# Update layout with axis labels and title\n",
    "fig.update_layout(\n",
    "    title='Interactive 3D Multiple Regression Plot',\n",
    "    scene=dict(\n",
    "        xaxis_title='Reading Score',\n",
    "        yaxis_title='Math Score',\n",
    "        zaxis_title='Writing Score'\n",
    "    )\n",
    ")\n",
    "\n",
    "fig.show()\n"
   ]
  },
  {
   "cell_type": "code",
   "execution_count": 7,
   "id": "877edbfe",
   "metadata": {},
   "outputs": [
    {
     "name": "stderr",
     "output_type": "stream",
     "text": [
      "c:\\Users\\Engineer\\AppData\\Local\\Programs\\Python\\Python311\\Lib\\site-packages\\sklearn\\utils\\validation.py:2739: UserWarning:\n",
      "\n",
      "X does not have valid feature names, but LinearRegression was fitted with feature names\n",
      "\n"
     ]
    },
    {
     "data": {
      "text/plain": [
       "array([63.00069738])"
      ]
     },
     "execution_count": 7,
     "metadata": {},
     "output_type": "execute_result"
    }
   ],
   "source": [
    "model.predict([[60,80]])"
   ]
  },
  {
   "cell_type": "code",
   "execution_count": null,
   "id": "4bf8fb08",
   "metadata": {},
   "outputs": [],
   "source": []
  }
 ],
 "metadata": {
  "kernelspec": {
   "display_name": "Python 3",
   "language": "python",
   "name": "python3"
  },
  "language_info": {
   "codemirror_mode": {
    "name": "ipython",
    "version": 3
   },
   "file_extension": ".py",
   "mimetype": "text/x-python",
   "name": "python",
   "nbconvert_exporter": "python",
   "pygments_lexer": "ipython3",
   "version": "3.11.0"
  }
 },
 "nbformat": 4,
 "nbformat_minor": 5
}
