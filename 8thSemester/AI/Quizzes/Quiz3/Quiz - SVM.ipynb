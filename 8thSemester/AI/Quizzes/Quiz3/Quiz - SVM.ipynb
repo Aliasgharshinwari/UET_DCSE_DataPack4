{
 "cells": [
  {
   "cell_type": "code",
   "execution_count": 16,
   "id": "89e728e6",
   "metadata": {},
   "outputs": [
    {
     "data": {
      "text/plain": [
       "'\\n# Train KNN classifier\\nknn = KNeighborsClassifier(n_neighbors=3)\\nknn.fit(X_train, y_train)\\n\\n# Predict on test data\\ny_pred = knn.predict(X_test)\\naccuracy = accuracy_score(y_test, y_pred)\\nprint(f\"Accuracy: {accuracy:.2f}\")\\n\\n# Plot the data\\nplt.scatter(X_class1[:, 0], X_class1[:, 1], label=\"Class 0\", alpha=0.6)\\nplt.scatter(X_class2[:, 0], X_class2[:, 1], label=\"Class 1\", alpha=0.6)\\nplt.scatter(X_test[:, 0], X_test[:, 1], c=y_pred, marker=\\'x\\', label=\"Predictions\", edgecolors=\\'k\\')\\nplt.legend()\\nplt.title(\"Random Data Classification with k-NN\")\\nplt.show()\\n'"
      ]
     },
     "execution_count": 16,
     "metadata": {},
     "output_type": "execute_result"
    }
   ],
   "source": [
    "import numpy as np\n",
    "import matplotlib.pyplot as plt\n",
    "from sklearn.model_selection import train_test_split\n",
    "from sklearn.neighbors import KNeighborsClassifier\n",
    "from sklearn.metrics import accuracy_score\n",
    "\n",
    "# Generate random data\n",
    "np.random.seed(42)\n",
    "num_samples = 200\n",
    "\n",
    "# Generate two classes of data\n",
    "X_class1 = np.random.randn(num_samples // 2, 2) + np.array([2, 2])\n",
    "X_class2 = np.random.randn(num_samples // 2, 2) + np.array([-2, -2])\n",
    "\n",
    "y_class1 = np.zeros(num_samples // 2)\n",
    "y_class2 = np.ones(num_samples // 2)\n",
    "\n",
    "X = np.vstack((X_class1, X_class2))\n",
    "y = np.hstack((y_class1, y_class2))\n",
    "\n",
    "# Split into train and test sets\n",
    "X_train, X_test, y_train, y_test = train_test_split(X, y, test_size=0.2, random_state=42)\n",
    "\n",
    "import numpy as np\n",
    "import matplotlib.pyplot as plt\n",
    "\n",
    "# Function to calculate Euclidean distance\n",
    "def euclidean_distance(point1, point2):\n",
    "    return np.sqrt(np.sum((point1 - point2) ** 2))\n",
    "\n",
    "# k-NN classification function\n",
    "def knn_predict(X_train, y_train, X_test, k=3):\n",
    "    y_pred = []\n",
    "    \n",
    "    for test_point in X_test:\n",
    "        # Compute distances from test_point to all training points\n",
    "        distances = [euclidean_distance(test_point, train_point) for train_point in X_train]\n",
    "        \n",
    "        # Get indices of k nearest neighbors\n",
    "        k_indices = np.argsort(distances)[:k]\n",
    "        \n",
    "        # Get labels of k nearest neighbors\n",
    "        k_labels = y_train[k_indices]\n",
    "        \n",
    "        # Determine the most common class label (majority voting)\n",
    "        predicted_label = np.bincount(k_labels.astype(int)).argmax()\n",
    "        y_pred.append(predicted_label)\n",
    "    \n",
    "    return np.array(y_pred)\n",
    "\n",
    "\n",
    "\"\"\"\n",
    "# Train KNN classifier\n",
    "knn = KNeighborsClassifier(n_neighbors=3)\n",
    "knn.fit(X_train, y_train)\n",
    "\n",
    "# Predict on test data\n",
    "y_pred = knn.predict(X_test)\n",
    "accuracy = accuracy_score(y_test, y_pred)\n",
    "print(f\"Accuracy: {accuracy:.2f}\")\n",
    "\n",
    "# Plot the data\n",
    "plt.scatter(X_class1[:, 0], X_class1[:, 1], label=\"Class 0\", alpha=0.6)\n",
    "plt.scatter(X_class2[:, 0], X_class2[:, 1], label=\"Class 1\", alpha=0.6)\n",
    "plt.scatter(X_test[:, 0], X_test[:, 1], c=y_pred, marker='x', label=\"Predictions\", edgecolors='k')\n",
    "plt.legend()\n",
    "plt.title(\"Random Data Classification with k-NN\")\n",
    "plt.show()\n",
    "\"\"\""
   ]
  },
  {
   "cell_type": "code",
   "execution_count": 20,
   "id": "f5dc4352",
   "metadata": {},
   "outputs": [
    {
     "name": "stdout",
     "output_type": "stream",
     "text": [
      "Manual k-NN Accuracy: 0.97\n"
     ]
    }
   ],
   "source": [
    "# Set k value\n",
    "k = 1\n",
    "\n",
    "# Predict test labels using manual k-NN\n",
    "y_pred = knn_predict(X_train, y_train, X_test, k)\n",
    "\n",
    "# Compute accuracy\n",
    "accuracy = np.mean(y_pred == y_test)\n",
    "print(f\"Manual k-NN Accuracy: {accuracy:.2f}\")\n"
   ]
  },
  {
   "cell_type": "code",
   "execution_count": null,
   "id": "859eec2c",
   "metadata": {},
   "outputs": [],
   "source": []
  }
 ],
 "metadata": {
  "kernelspec": {
   "display_name": "Python 3",
   "language": "python",
   "name": "python3"
  },
  "language_info": {
   "codemirror_mode": {
    "name": "ipython",
    "version": 3
   },
   "file_extension": ".py",
   "mimetype": "text/x-python",
   "name": "python",
   "nbconvert_exporter": "python",
   "pygments_lexer": "ipython3",
   "version": "3.11.0"
  }
 },
 "nbformat": 4,
 "nbformat_minor": 5
}
