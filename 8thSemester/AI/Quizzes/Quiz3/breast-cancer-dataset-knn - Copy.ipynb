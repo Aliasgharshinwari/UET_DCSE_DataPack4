{
 "cells": [
  {
   "cell_type": "code",
   "execution_count": null,
   "id": "b28c075c",
   "metadata": {
    "_cell_guid": "b1076dfc-b9ad-4769-8c92-a6c4dae69d19",
    "_uuid": "8f2839f25d086af736a60e9eeb907d3b93b6e0e5",
    "execution": {
     "iopub.execute_input": "2022-12-28T07:09:14.670872Z",
     "iopub.status.busy": "2022-12-28T07:09:14.669933Z",
     "iopub.status.idle": "2022-12-28T07:09:14.694595Z",
     "shell.execute_reply": "2022-12-28T07:09:14.693077Z"
    },
    "papermill": {
     "duration": 0.038902,
     "end_time": "2022-12-28T07:09:14.697584",
     "exception": false,
     "start_time": "2022-12-28T07:09:14.658682",
     "status": "completed"
    },
    "tags": []
   },
   "outputs": [],
   "source": [
    "import numpy as np # linear algebra\n",
    "import pandas as pd # data processing, CSV file I/O (e.g. pd.read_csv)\n",
    "import matplotlib.pyplot as plt \n",
    "# Input data files are available in the read-only \"../input/\" directory\n",
    "# For example, running this (by clicking run or pressing Shift+Enter) will list all files under the input directory\n",
    "\n",
    "import os\n",
    "for dirname, _, filenames in os.walk('/kaggle/input'):\n",
    "    for filename in filenames:\n",
    "        print(os.path.join(dirname, filename))\n",
    "\n",
    "# You can write up to 20GB to the current directory (/kaggle/working/) that gets preserved as output when you create a version using \"Save & Run All\" \n",
    "# You can also write temporary files to /kaggle/temp/, but they won't be saved outside of the current session"
   ]
  },
  {
   "cell_type": "code",
   "execution_count": 17,
   "id": "7b717eb3",
   "metadata": {
    "execution": {
     "iopub.execute_input": "2022-12-28T07:09:14.713310Z",
     "iopub.status.busy": "2022-12-28T07:09:14.712904Z",
     "iopub.status.idle": "2022-12-28T07:09:14.786817Z",
     "shell.execute_reply": "2022-12-28T07:09:14.785158Z"
    },
    "papermill": {
     "duration": 0.085225,
     "end_time": "2022-12-28T07:09:14.789782",
     "exception": false,
     "start_time": "2022-12-28T07:09:14.704557",
     "status": "completed"
    },
    "tags": []
   },
   "outputs": [
    {
     "data": {
      "text/html": [
       "<div>\n",
       "<style scoped>\n",
       "    .dataframe tbody tr th:only-of-type {\n",
       "        vertical-align: middle;\n",
       "    }\n",
       "\n",
       "    .dataframe tbody tr th {\n",
       "        vertical-align: top;\n",
       "    }\n",
       "\n",
       "    .dataframe thead th {\n",
       "        text-align: right;\n",
       "    }\n",
       "</style>\n",
       "<table border=\"1\" class=\"dataframe\">\n",
       "  <thead>\n",
       "    <tr style=\"text-align: right;\">\n",
       "      <th></th>\n",
       "      <th>id</th>\n",
       "      <th>diagnosis</th>\n",
       "      <th>radius_mean</th>\n",
       "      <th>texture_mean</th>\n",
       "      <th>perimeter_mean</th>\n",
       "      <th>area_mean</th>\n",
       "      <th>smoothness_mean</th>\n",
       "      <th>compactness_mean</th>\n",
       "      <th>concavity_mean</th>\n",
       "      <th>concave points_mean</th>\n",
       "      <th>...</th>\n",
       "      <th>radius_worst</th>\n",
       "      <th>texture_worst</th>\n",
       "      <th>perimeter_worst</th>\n",
       "      <th>area_worst</th>\n",
       "      <th>smoothness_worst</th>\n",
       "      <th>compactness_worst</th>\n",
       "      <th>concavity_worst</th>\n",
       "      <th>concave points_worst</th>\n",
       "      <th>symmetry_worst</th>\n",
       "      <th>fractal_dimension_worst</th>\n",
       "    </tr>\n",
       "  </thead>\n",
       "  <tbody>\n",
       "    <tr>\n",
       "      <th>0</th>\n",
       "      <td>842302</td>\n",
       "      <td>M</td>\n",
       "      <td>17.99</td>\n",
       "      <td>10.38</td>\n",
       "      <td>122.80</td>\n",
       "      <td>1001.0</td>\n",
       "      <td>0.11840</td>\n",
       "      <td>0.27760</td>\n",
       "      <td>0.3001</td>\n",
       "      <td>0.14710</td>\n",
       "      <td>...</td>\n",
       "      <td>25.38</td>\n",
       "      <td>17.33</td>\n",
       "      <td>184.60</td>\n",
       "      <td>2019.0</td>\n",
       "      <td>0.1622</td>\n",
       "      <td>0.6656</td>\n",
       "      <td>0.7119</td>\n",
       "      <td>0.2654</td>\n",
       "      <td>0.4601</td>\n",
       "      <td>0.11890</td>\n",
       "    </tr>\n",
       "    <tr>\n",
       "      <th>1</th>\n",
       "      <td>842517</td>\n",
       "      <td>M</td>\n",
       "      <td>20.57</td>\n",
       "      <td>17.77</td>\n",
       "      <td>132.90</td>\n",
       "      <td>1326.0</td>\n",
       "      <td>0.08474</td>\n",
       "      <td>0.07864</td>\n",
       "      <td>0.0869</td>\n",
       "      <td>0.07017</td>\n",
       "      <td>...</td>\n",
       "      <td>24.99</td>\n",
       "      <td>23.41</td>\n",
       "      <td>158.80</td>\n",
       "      <td>1956.0</td>\n",
       "      <td>0.1238</td>\n",
       "      <td>0.1866</td>\n",
       "      <td>0.2416</td>\n",
       "      <td>0.1860</td>\n",
       "      <td>0.2750</td>\n",
       "      <td>0.08902</td>\n",
       "    </tr>\n",
       "    <tr>\n",
       "      <th>2</th>\n",
       "      <td>84300903</td>\n",
       "      <td>M</td>\n",
       "      <td>19.69</td>\n",
       "      <td>21.25</td>\n",
       "      <td>130.00</td>\n",
       "      <td>1203.0</td>\n",
       "      <td>0.10960</td>\n",
       "      <td>0.15990</td>\n",
       "      <td>0.1974</td>\n",
       "      <td>0.12790</td>\n",
       "      <td>...</td>\n",
       "      <td>23.57</td>\n",
       "      <td>25.53</td>\n",
       "      <td>152.50</td>\n",
       "      <td>1709.0</td>\n",
       "      <td>0.1444</td>\n",
       "      <td>0.4245</td>\n",
       "      <td>0.4504</td>\n",
       "      <td>0.2430</td>\n",
       "      <td>0.3613</td>\n",
       "      <td>0.08758</td>\n",
       "    </tr>\n",
       "    <tr>\n",
       "      <th>3</th>\n",
       "      <td>84348301</td>\n",
       "      <td>M</td>\n",
       "      <td>11.42</td>\n",
       "      <td>20.38</td>\n",
       "      <td>77.58</td>\n",
       "      <td>386.1</td>\n",
       "      <td>0.14250</td>\n",
       "      <td>0.28390</td>\n",
       "      <td>0.2414</td>\n",
       "      <td>0.10520</td>\n",
       "      <td>...</td>\n",
       "      <td>14.91</td>\n",
       "      <td>26.50</td>\n",
       "      <td>98.87</td>\n",
       "      <td>567.7</td>\n",
       "      <td>0.2098</td>\n",
       "      <td>0.8663</td>\n",
       "      <td>0.6869</td>\n",
       "      <td>0.2575</td>\n",
       "      <td>0.6638</td>\n",
       "      <td>0.17300</td>\n",
       "    </tr>\n",
       "    <tr>\n",
       "      <th>4</th>\n",
       "      <td>84358402</td>\n",
       "      <td>M</td>\n",
       "      <td>20.29</td>\n",
       "      <td>14.34</td>\n",
       "      <td>135.10</td>\n",
       "      <td>1297.0</td>\n",
       "      <td>0.10030</td>\n",
       "      <td>0.13280</td>\n",
       "      <td>0.1980</td>\n",
       "      <td>0.10430</td>\n",
       "      <td>...</td>\n",
       "      <td>22.54</td>\n",
       "      <td>16.67</td>\n",
       "      <td>152.20</td>\n",
       "      <td>1575.0</td>\n",
       "      <td>0.1374</td>\n",
       "      <td>0.2050</td>\n",
       "      <td>0.4000</td>\n",
       "      <td>0.1625</td>\n",
       "      <td>0.2364</td>\n",
       "      <td>0.07678</td>\n",
       "    </tr>\n",
       "  </tbody>\n",
       "</table>\n",
       "<p>5 rows × 32 columns</p>\n",
       "</div>"
      ],
      "text/plain": [
       "         id diagnosis  radius_mean  texture_mean  perimeter_mean  area_mean  \\\n",
       "0    842302         M        17.99         10.38          122.80     1001.0   \n",
       "1    842517         M        20.57         17.77          132.90     1326.0   \n",
       "2  84300903         M        19.69         21.25          130.00     1203.0   \n",
       "3  84348301         M        11.42         20.38           77.58      386.1   \n",
       "4  84358402         M        20.29         14.34          135.10     1297.0   \n",
       "\n",
       "   smoothness_mean  compactness_mean  concavity_mean  concave points_mean  \\\n",
       "0          0.11840           0.27760          0.3001              0.14710   \n",
       "1          0.08474           0.07864          0.0869              0.07017   \n",
       "2          0.10960           0.15990          0.1974              0.12790   \n",
       "3          0.14250           0.28390          0.2414              0.10520   \n",
       "4          0.10030           0.13280          0.1980              0.10430   \n",
       "\n",
       "   ...  radius_worst  texture_worst  perimeter_worst  area_worst  \\\n",
       "0  ...         25.38          17.33           184.60      2019.0   \n",
       "1  ...         24.99          23.41           158.80      1956.0   \n",
       "2  ...         23.57          25.53           152.50      1709.0   \n",
       "3  ...         14.91          26.50            98.87       567.7   \n",
       "4  ...         22.54          16.67           152.20      1575.0   \n",
       "\n",
       "   smoothness_worst  compactness_worst  concavity_worst  concave points_worst  \\\n",
       "0            0.1622             0.6656           0.7119                0.2654   \n",
       "1            0.1238             0.1866           0.2416                0.1860   \n",
       "2            0.1444             0.4245           0.4504                0.2430   \n",
       "3            0.2098             0.8663           0.6869                0.2575   \n",
       "4            0.1374             0.2050           0.4000                0.1625   \n",
       "\n",
       "   symmetry_worst  fractal_dimension_worst  \n",
       "0          0.4601                  0.11890  \n",
       "1          0.2750                  0.08902  \n",
       "2          0.3613                  0.08758  \n",
       "3          0.6638                  0.17300  \n",
       "4          0.2364                  0.07678  \n",
       "\n",
       "[5 rows x 32 columns]"
      ]
     },
     "execution_count": 17,
     "metadata": {},
     "output_type": "execute_result"
    }
   ],
   "source": [
    "df=pd.read_csv(\"./breast-cancer.csv\")\n",
    "df.head()"
   ]
  },
  {
   "cell_type": "code",
   "execution_count": 18,
   "id": "700ce6a2",
   "metadata": {
    "execution": {
     "iopub.execute_input": "2022-12-28T07:09:14.806949Z",
     "iopub.status.busy": "2022-12-28T07:09:14.805747Z",
     "iopub.status.idle": "2022-12-28T07:09:14.821700Z",
     "shell.execute_reply": "2022-12-28T07:09:14.820179Z"
    },
    "papermill": {
     "duration": 0.027234,
     "end_time": "2022-12-28T07:09:14.824580",
     "exception": false,
     "start_time": "2022-12-28T07:09:14.797346",
     "status": "completed"
    },
    "tags": []
   },
   "outputs": [],
   "source": [
    "df.diagnosis=[1 if each==\"M\" else 0 for each in df.diagnosis] # Binary classification\n",
    "y=df.diagnosis.values\n",
    "x_data=df.drop([\"diagnosis\",\"id\"],axis=1)\n"
   ]
  },
  {
   "cell_type": "code",
   "execution_count": 19,
   "id": "189e7e42",
   "metadata": {},
   "outputs": [],
   "source": [
    "selected_features = [\"radius_mean\", \"texture_mean\", \"perimeter_mean\"]  # Replace with actual feature names\n",
    "x_data = x_data[selected_features]\n"
   ]
  },
  {
   "cell_type": "code",
   "execution_count": 20,
   "id": "e78d1369",
   "metadata": {
    "execution": {
     "iopub.execute_input": "2022-12-28T07:09:14.840268Z",
     "iopub.status.busy": "2022-12-28T07:09:14.839837Z",
     "iopub.status.idle": "2022-12-28T07:09:14.884302Z",
     "shell.execute_reply": "2022-12-28T07:09:14.883031Z"
    },
    "papermill": {
     "duration": 0.05584,
     "end_time": "2022-12-28T07:09:14.887486",
     "exception": false,
     "start_time": "2022-12-28T07:09:14.831646",
     "status": "completed"
    },
    "tags": []
   },
   "outputs": [
    {
     "data": {
      "text/html": [
       "<div>\n",
       "<style scoped>\n",
       "    .dataframe tbody tr th:only-of-type {\n",
       "        vertical-align: middle;\n",
       "    }\n",
       "\n",
       "    .dataframe tbody tr th {\n",
       "        vertical-align: top;\n",
       "    }\n",
       "\n",
       "    .dataframe thead th {\n",
       "        text-align: right;\n",
       "    }\n",
       "</style>\n",
       "<table border=\"1\" class=\"dataframe\">\n",
       "  <thead>\n",
       "    <tr style=\"text-align: right;\">\n",
       "      <th></th>\n",
       "      <th>radius_mean</th>\n",
       "      <th>texture_mean</th>\n",
       "      <th>perimeter_mean</th>\n",
       "    </tr>\n",
       "  </thead>\n",
       "  <tbody>\n",
       "    <tr>\n",
       "      <th>0</th>\n",
       "      <td>17.99</td>\n",
       "      <td>10.38</td>\n",
       "      <td>122.80</td>\n",
       "    </tr>\n",
       "    <tr>\n",
       "      <th>1</th>\n",
       "      <td>20.57</td>\n",
       "      <td>17.77</td>\n",
       "      <td>132.90</td>\n",
       "    </tr>\n",
       "    <tr>\n",
       "      <th>2</th>\n",
       "      <td>19.69</td>\n",
       "      <td>21.25</td>\n",
       "      <td>130.00</td>\n",
       "    </tr>\n",
       "    <tr>\n",
       "      <th>3</th>\n",
       "      <td>11.42</td>\n",
       "      <td>20.38</td>\n",
       "      <td>77.58</td>\n",
       "    </tr>\n",
       "    <tr>\n",
       "      <th>4</th>\n",
       "      <td>20.29</td>\n",
       "      <td>14.34</td>\n",
       "      <td>135.10</td>\n",
       "    </tr>\n",
       "    <tr>\n",
       "      <th>...</th>\n",
       "      <td>...</td>\n",
       "      <td>...</td>\n",
       "      <td>...</td>\n",
       "    </tr>\n",
       "    <tr>\n",
       "      <th>564</th>\n",
       "      <td>21.56</td>\n",
       "      <td>22.39</td>\n",
       "      <td>142.00</td>\n",
       "    </tr>\n",
       "    <tr>\n",
       "      <th>565</th>\n",
       "      <td>20.13</td>\n",
       "      <td>28.25</td>\n",
       "      <td>131.20</td>\n",
       "    </tr>\n",
       "    <tr>\n",
       "      <th>566</th>\n",
       "      <td>16.60</td>\n",
       "      <td>28.08</td>\n",
       "      <td>108.30</td>\n",
       "    </tr>\n",
       "    <tr>\n",
       "      <th>567</th>\n",
       "      <td>20.60</td>\n",
       "      <td>29.33</td>\n",
       "      <td>140.10</td>\n",
       "    </tr>\n",
       "    <tr>\n",
       "      <th>568</th>\n",
       "      <td>7.76</td>\n",
       "      <td>24.54</td>\n",
       "      <td>47.92</td>\n",
       "    </tr>\n",
       "  </tbody>\n",
       "</table>\n",
       "<p>569 rows × 3 columns</p>\n",
       "</div>"
      ],
      "text/plain": [
       "     radius_mean  texture_mean  perimeter_mean\n",
       "0          17.99         10.38          122.80\n",
       "1          20.57         17.77          132.90\n",
       "2          19.69         21.25          130.00\n",
       "3          11.42         20.38           77.58\n",
       "4          20.29         14.34          135.10\n",
       "..           ...           ...             ...\n",
       "564        21.56         22.39          142.00\n",
       "565        20.13         28.25          131.20\n",
       "566        16.60         28.08          108.30\n",
       "567        20.60         29.33          140.10\n",
       "568         7.76         24.54           47.92\n",
       "\n",
       "[569 rows x 3 columns]"
      ]
     },
     "execution_count": 20,
     "metadata": {},
     "output_type": "execute_result"
    }
   ],
   "source": [
    "x_data"
   ]
  },
  {
   "cell_type": "code",
   "execution_count": 21,
   "id": "630d4c6d",
   "metadata": {},
   "outputs": [
    {
     "data": {
      "application/vnd.plotly.v1+json": {
       "config": {
        "plotlyServerURL": "https://plot.ly"
       },
       "data": [
        {
         "marker": {
          "color": "blue",
          "size": 5
         },
         "mode": "markers",
         "name": "Actual",
         "type": "scatter3d",
         "x": {
          "bdata": "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",
          "dtype": "f8"
         },
         "y": {
          "bdata": "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",
          "dtype": "f8"
         },
         "z": {
          "bdata": "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",
          "dtype": "f8"
         }
        }
       ],
       "layout": {
        "scene": {
         "xaxis": {
          "title": {
           "text": "radius_mean"
          }
         },
         "yaxis": {
          "title": {
           "text": "texture_mean"
          }
         },
         "zaxis": {
          "title": {
           "text": "perimeter_mean"
          }
         }
        },
        "template": {
         "data": {
          "bar": [
           {
            "error_x": {
             "color": "#2a3f5f"
            },
            "error_y": {
             "color": "#2a3f5f"
            },
            "marker": {
             "line": {
              "color": "#E5ECF6",
              "width": 0.5
             },
             "pattern": {
              "fillmode": "overlay",
              "size": 10,
              "solidity": 0.2
             }
            },
            "type": "bar"
           }
          ],
          "barpolar": [
           {
            "marker": {
             "line": {
              "color": "#E5ECF6",
              "width": 0.5
             },
             "pattern": {
              "fillmode": "overlay",
              "size": 10,
              "solidity": 0.2
             }
            },
            "type": "barpolar"
           }
          ],
          "carpet": [
           {
            "aaxis": {
             "endlinecolor": "#2a3f5f",
             "gridcolor": "white",
             "linecolor": "white",
             "minorgridcolor": "white",
             "startlinecolor": "#2a3f5f"
            },
            "baxis": {
             "endlinecolor": "#2a3f5f",
             "gridcolor": "white",
             "linecolor": "white",
             "minorgridcolor": "white",
             "startlinecolor": "#2a3f5f"
            },
            "type": "carpet"
           }
          ],
          "choropleth": [
           {
            "colorbar": {
             "outlinewidth": 0,
             "ticks": ""
            },
            "type": "choropleth"
           }
          ],
          "contour": [
           {
            "colorbar": {
             "outlinewidth": 0,
             "ticks": ""
            },
            "colorscale": [
             [
              0,
              "#0d0887"
             ],
             [
              0.1111111111111111,
              "#46039f"
             ],
             [
              0.2222222222222222,
              "#7201a8"
             ],
             [
              0.3333333333333333,
              "#9c179e"
             ],
             [
              0.4444444444444444,
              "#bd3786"
             ],
             [
              0.5555555555555556,
              "#d8576b"
             ],
             [
              0.6666666666666666,
              "#ed7953"
             ],
             [
              0.7777777777777778,
              "#fb9f3a"
             ],
             [
              0.8888888888888888,
              "#fdca26"
             ],
             [
              1,
              "#f0f921"
             ]
            ],
            "type": "contour"
           }
          ],
          "contourcarpet": [
           {
            "colorbar": {
             "outlinewidth": 0,
             "ticks": ""
            },
            "type": "contourcarpet"
           }
          ],
          "heatmap": [
           {
            "colorbar": {
             "outlinewidth": 0,
             "ticks": ""
            },
            "colorscale": [
             [
              0,
              "#0d0887"
             ],
             [
              0.1111111111111111,
              "#46039f"
             ],
             [
              0.2222222222222222,
              "#7201a8"
             ],
             [
              0.3333333333333333,
              "#9c179e"
             ],
             [
              0.4444444444444444,
              "#bd3786"
             ],
             [
              0.5555555555555556,
              "#d8576b"
             ],
             [
              0.6666666666666666,
              "#ed7953"
             ],
             [
              0.7777777777777778,
              "#fb9f3a"
             ],
             [
              0.8888888888888888,
              "#fdca26"
             ],
             [
              1,
              "#f0f921"
             ]
            ],
            "type": "heatmap"
           }
          ],
          "histogram": [
           {
            "marker": {
             "pattern": {
              "fillmode": "overlay",
              "size": 10,
              "solidity": 0.2
             }
            },
            "type": "histogram"
           }
          ],
          "histogram2d": [
           {
            "colorbar": {
             "outlinewidth": 0,
             "ticks": ""
            },
            "colorscale": [
             [
              0,
              "#0d0887"
             ],
             [
              0.1111111111111111,
              "#46039f"
             ],
             [
              0.2222222222222222,
              "#7201a8"
             ],
             [
              0.3333333333333333,
              "#9c179e"
             ],
             [
              0.4444444444444444,
              "#bd3786"
             ],
             [
              0.5555555555555556,
              "#d8576b"
             ],
             [
              0.6666666666666666,
              "#ed7953"
             ],
             [
              0.7777777777777778,
              "#fb9f3a"
             ],
             [
              0.8888888888888888,
              "#fdca26"
             ],
             [
              1,
              "#f0f921"
             ]
            ],
            "type": "histogram2d"
           }
          ],
          "histogram2dcontour": [
           {
            "colorbar": {
             "outlinewidth": 0,
             "ticks": ""
            },
            "colorscale": [
             [
              0,
              "#0d0887"
             ],
             [
              0.1111111111111111,
              "#46039f"
             ],
             [
              0.2222222222222222,
              "#7201a8"
             ],
             [
              0.3333333333333333,
              "#9c179e"
             ],
             [
              0.4444444444444444,
              "#bd3786"
             ],
             [
              0.5555555555555556,
              "#d8576b"
             ],
             [
              0.6666666666666666,
              "#ed7953"
             ],
             [
              0.7777777777777778,
              "#fb9f3a"
             ],
             [
              0.8888888888888888,
              "#fdca26"
             ],
             [
              1,
              "#f0f921"
             ]
            ],
            "type": "histogram2dcontour"
           }
          ],
          "mesh3d": [
           {
            "colorbar": {
             "outlinewidth": 0,
             "ticks": ""
            },
            "type": "mesh3d"
           }
          ],
          "parcoords": [
           {
            "line": {
             "colorbar": {
              "outlinewidth": 0,
              "ticks": ""
             }
            },
            "type": "parcoords"
           }
          ],
          "pie": [
           {
            "automargin": true,
            "type": "pie"
           }
          ],
          "scatter": [
           {
            "fillpattern": {
             "fillmode": "overlay",
             "size": 10,
             "solidity": 0.2
            },
            "type": "scatter"
           }
          ],
          "scatter3d": [
           {
            "line": {
             "colorbar": {
              "outlinewidth": 0,
              "ticks": ""
             }
            },
            "marker": {
             "colorbar": {
              "outlinewidth": 0,
              "ticks": ""
             }
            },
            "type": "scatter3d"
           }
          ],
          "scattercarpet": [
           {
            "marker": {
             "colorbar": {
              "outlinewidth": 0,
              "ticks": ""
             }
            },
            "type": "scattercarpet"
           }
          ],
          "scattergeo": [
           {
            "marker": {
             "colorbar": {
              "outlinewidth": 0,
              "ticks": ""
             }
            },
            "type": "scattergeo"
           }
          ],
          "scattergl": [
           {
            "marker": {
             "colorbar": {
              "outlinewidth": 0,
              "ticks": ""
             }
            },
            "type": "scattergl"
           }
          ],
          "scattermap": [
           {
            "marker": {
             "colorbar": {
              "outlinewidth": 0,
              "ticks": ""
             }
            },
            "type": "scattermap"
           }
          ],
          "scattermapbox": [
           {
            "marker": {
             "colorbar": {
              "outlinewidth": 0,
              "ticks": ""
             }
            },
            "type": "scattermapbox"
           }
          ],
          "scatterpolar": [
           {
            "marker": {
             "colorbar": {
              "outlinewidth": 0,
              "ticks": ""
             }
            },
            "type": "scatterpolar"
           }
          ],
          "scatterpolargl": [
           {
            "marker": {
             "colorbar": {
              "outlinewidth": 0,
              "ticks": ""
             }
            },
            "type": "scatterpolargl"
           }
          ],
          "scatterternary": [
           {
            "marker": {
             "colorbar": {
              "outlinewidth": 0,
              "ticks": ""
             }
            },
            "type": "scatterternary"
           }
          ],
          "surface": [
           {
            "colorbar": {
             "outlinewidth": 0,
             "ticks": ""
            },
            "colorscale": [
             [
              0,
              "#0d0887"
             ],
             [
              0.1111111111111111,
              "#46039f"
             ],
             [
              0.2222222222222222,
              "#7201a8"
             ],
             [
              0.3333333333333333,
              "#9c179e"
             ],
             [
              0.4444444444444444,
              "#bd3786"
             ],
             [
              0.5555555555555556,
              "#d8576b"
             ],
             [
              0.6666666666666666,
              "#ed7953"
             ],
             [
              0.7777777777777778,
              "#fb9f3a"
             ],
             [
              0.8888888888888888,
              "#fdca26"
             ],
             [
              1,
              "#f0f921"
             ]
            ],
            "type": "surface"
           }
          ],
          "table": [
           {
            "cells": {
             "fill": {
              "color": "#EBF0F8"
             },
             "line": {
              "color": "white"
             }
            },
            "header": {
             "fill": {
              "color": "#C8D4E3"
             },
             "line": {
              "color": "white"
             }
            },
            "type": "table"
           }
          ]
         },
         "layout": {
          "annotationdefaults": {
           "arrowcolor": "#2a3f5f",
           "arrowhead": 0,
           "arrowwidth": 1
          },
          "autotypenumbers": "strict",
          "coloraxis": {
           "colorbar": {
            "outlinewidth": 0,
            "ticks": ""
           }
          },
          "colorscale": {
           "diverging": [
            [
             0,
             "#8e0152"
            ],
            [
             0.1,
             "#c51b7d"
            ],
            [
             0.2,
             "#de77ae"
            ],
            [
             0.3,
             "#f1b6da"
            ],
            [
             0.4,
             "#fde0ef"
            ],
            [
             0.5,
             "#f7f7f7"
            ],
            [
             0.6,
             "#e6f5d0"
            ],
            [
             0.7,
             "#b8e186"
            ],
            [
             0.8,
             "#7fbc41"
            ],
            [
             0.9,
             "#4d9221"
            ],
            [
             1,
             "#276419"
            ]
           ],
           "sequential": [
            [
             0,
             "#0d0887"
            ],
            [
             0.1111111111111111,
             "#46039f"
            ],
            [
             0.2222222222222222,
             "#7201a8"
            ],
            [
             0.3333333333333333,
             "#9c179e"
            ],
            [
             0.4444444444444444,
             "#bd3786"
            ],
            [
             0.5555555555555556,
             "#d8576b"
            ],
            [
             0.6666666666666666,
             "#ed7953"
            ],
            [
             0.7777777777777778,
             "#fb9f3a"
            ],
            [
             0.8888888888888888,
             "#fdca26"
            ],
            [
             1,
             "#f0f921"
            ]
           ],
           "sequentialminus": [
            [
             0,
             "#0d0887"
            ],
            [
             0.1111111111111111,
             "#46039f"
            ],
            [
             0.2222222222222222,
             "#7201a8"
            ],
            [
             0.3333333333333333,
             "#9c179e"
            ],
            [
             0.4444444444444444,
             "#bd3786"
            ],
            [
             0.5555555555555556,
             "#d8576b"
            ],
            [
             0.6666666666666666,
             "#ed7953"
            ],
            [
             0.7777777777777778,
             "#fb9f3a"
            ],
            [
             0.8888888888888888,
             "#fdca26"
            ],
            [
             1,
             "#f0f921"
            ]
           ]
          },
          "colorway": [
           "#636efa",
           "#EF553B",
           "#00cc96",
           "#ab63fa",
           "#FFA15A",
           "#19d3f3",
           "#FF6692",
           "#B6E880",
           "#FF97FF",
           "#FECB52"
          ],
          "font": {
           "color": "#2a3f5f"
          },
          "geo": {
           "bgcolor": "white",
           "lakecolor": "white",
           "landcolor": "#E5ECF6",
           "showlakes": true,
           "showland": true,
           "subunitcolor": "white"
          },
          "hoverlabel": {
           "align": "left"
          },
          "hovermode": "closest",
          "mapbox": {
           "style": "light"
          },
          "paper_bgcolor": "white",
          "plot_bgcolor": "#E5ECF6",
          "polar": {
           "angularaxis": {
            "gridcolor": "white",
            "linecolor": "white",
            "ticks": ""
           },
           "bgcolor": "#E5ECF6",
           "radialaxis": {
            "gridcolor": "white",
            "linecolor": "white",
            "ticks": ""
           }
          },
          "scene": {
           "xaxis": {
            "backgroundcolor": "#E5ECF6",
            "gridcolor": "white",
            "gridwidth": 2,
            "linecolor": "white",
            "showbackground": true,
            "ticks": "",
            "zerolinecolor": "white"
           },
           "yaxis": {
            "backgroundcolor": "#E5ECF6",
            "gridcolor": "white",
            "gridwidth": 2,
            "linecolor": "white",
            "showbackground": true,
            "ticks": "",
            "zerolinecolor": "white"
           },
           "zaxis": {
            "backgroundcolor": "#E5ECF6",
            "gridcolor": "white",
            "gridwidth": 2,
            "linecolor": "white",
            "showbackground": true,
            "ticks": "",
            "zerolinecolor": "white"
           }
          },
          "shapedefaults": {
           "line": {
            "color": "#2a3f5f"
           }
          },
          "ternary": {
           "aaxis": {
            "gridcolor": "white",
            "linecolor": "white",
            "ticks": ""
           },
           "baxis": {
            "gridcolor": "white",
            "linecolor": "white",
            "ticks": ""
           },
           "bgcolor": "#E5ECF6",
           "caxis": {
            "gridcolor": "white",
            "linecolor": "white",
            "ticks": ""
           }
          },
          "title": {
           "x": 0.05
          },
          "xaxis": {
           "automargin": true,
           "gridcolor": "white",
           "linecolor": "white",
           "ticks": "",
           "title": {
            "standoff": 15
           },
           "zerolinecolor": "white",
           "zerolinewidth": 2
          },
          "yaxis": {
           "automargin": true,
           "gridcolor": "white",
           "linecolor": "white",
           "ticks": "",
           "title": {
            "standoff": 15
           },
           "zerolinecolor": "white",
           "zerolinewidth": 2
          }
         }
        },
        "title": {
         "text": "Original Data Plot"
        }
       }
      }
     },
     "metadata": {},
     "output_type": "display_data"
    }
   ],
   "source": [
    "import plotly.graph_objects as go\n",
    "# Create an interactive 3D figure\n",
    "fig = go.Figure()\n",
    "\n",
    "# Add scatter trace for actual points\n",
    "fig.add_trace(go.Scatter3d(\n",
    "    x=df[selected_features[0]],\n",
    "    y=df[selected_features[1]],\n",
    "    z=df[selected_features[2]],\n",
    "    mode='markers',\n",
    "    marker=dict(size=5, color='blue'),\n",
    "    name='Actual'\n",
    "))\n",
    "\n",
    "\n",
    "# Update layout with axis labels and title\n",
    "fig.update_layout(\n",
    "    title='Original Data Plot',\n",
    "    scene=dict(\n",
    "        xaxis_title=selected_features[0],\n",
    "        yaxis_title=selected_features[1],\n",
    "        zaxis_title=selected_features[2]\n",
    "    )\n",
    ")\n",
    "fig.show()\n"
   ]
  },
  {
   "cell_type": "code",
   "execution_count": 22,
   "id": "953aa572",
   "metadata": {
    "execution": {
     "iopub.execute_input": "2022-12-28T07:09:14.904648Z",
     "iopub.status.busy": "2022-12-28T07:09:14.904244Z",
     "iopub.status.idle": "2022-12-28T07:09:14.914528Z",
     "shell.execute_reply": "2022-12-28T07:09:14.913020Z"
    },
    "papermill": {
     "duration": 0.021789,
     "end_time": "2022-12-28T07:09:14.917035",
     "exception": false,
     "start_time": "2022-12-28T07:09:14.895246",
     "status": "completed"
    },
    "tags": []
   },
   "outputs": [
    {
     "data": {
      "text/plain": [
       "array([1, 1, 1, 1, 1, 1, 1, 1, 1, 1, 1, 1, 1, 1, 1, 1, 1, 1, 1, 0, 0, 0,\n",
       "       1, 1, 1, 1, 1, 1, 1, 1, 1, 1, 1, 1, 1, 1, 1, 0, 1, 1, 1, 1, 1, 1,\n",
       "       1, 1, 0, 1, 0, 0, 0, 0, 0, 1, 1, 0, 1, 1, 0, 0, 0, 0, 1, 0, 1, 1,\n",
       "       0, 0, 0, 0, 1, 0, 1, 1, 0, 1, 0, 1, 1, 0, 0, 0, 1, 1, 0, 1, 1, 1,\n",
       "       0, 0, 0, 1, 0, 0, 1, 1, 0, 0, 0, 1, 1, 0, 0, 0, 0, 1, 0, 0, 1, 0,\n",
       "       0, 0, 0, 0, 0, 0, 0, 1, 1, 1, 0, 1, 1, 0, 0, 0, 1, 1, 0, 1, 0, 1,\n",
       "       1, 0, 1, 1, 0, 0, 1, 0, 0, 1, 0, 0, 0, 0, 1, 0, 0, 0, 0, 0, 0, 0,\n",
       "       0, 0, 1, 0, 0, 0, 0, 1, 1, 0, 1, 0, 0, 1, 1, 0, 0, 1, 1, 0, 0, 0,\n",
       "       0, 1, 0, 0, 1, 1, 1, 0, 1, 0, 1, 0, 0, 0, 1, 0, 0, 1, 1, 0, 1, 1,\n",
       "       1, 1, 0, 1, 1, 1, 0, 1, 0, 1, 0, 0, 1, 0, 1, 1, 1, 1, 0, 0, 1, 1,\n",
       "       0, 0, 0, 1, 0, 0, 0, 0, 0, 1, 1, 0, 0, 1, 0, 0, 1, 1, 0, 1, 0, 0,\n",
       "       0, 0, 1, 0, 0, 0, 0, 0, 1, 0, 1, 1, 1, 1, 1, 1, 1, 1, 1, 1, 1, 1,\n",
       "       1, 1, 0, 0, 0, 0, 0, 0, 1, 0, 1, 0, 0, 1, 0, 0, 1, 0, 1, 1, 0, 0,\n",
       "       0, 0, 0, 0, 0, 0, 0, 0, 0, 0, 0, 1, 0, 0, 1, 0, 1, 0, 0, 0, 0, 0,\n",
       "       0, 0, 0, 0, 0, 0, 0, 0, 0, 1, 0, 0, 0, 1, 0, 1, 0, 0, 0, 0, 1, 1,\n",
       "       1, 0, 0, 0, 0, 1, 0, 1, 0, 1, 0, 0, 0, 1, 0, 0, 0, 0, 0, 0, 0, 1,\n",
       "       1, 1, 0, 0, 0, 0, 0, 0, 0, 0, 0, 0, 0, 1, 1, 0, 1, 1, 1, 0, 1, 1,\n",
       "       0, 0, 0, 0, 0, 1, 0, 0, 0, 0, 0, 1, 0, 0, 0, 1, 0, 0, 1, 1, 0, 0,\n",
       "       0, 0, 0, 0, 1, 0, 0, 0, 0, 0, 0, 0, 1, 0, 0, 0, 0, 0, 1, 0, 0, 1,\n",
       "       0, 0, 0, 0, 0, 0, 0, 0, 0, 0, 0, 0, 1, 0, 1, 1, 0, 1, 0, 0, 0, 0,\n",
       "       0, 1, 0, 0, 1, 0, 1, 0, 0, 1, 0, 1, 0, 0, 0, 0, 0, 0, 0, 0, 1, 1,\n",
       "       0, 0, 0, 0, 0, 0, 1, 0, 0, 0, 0, 0, 0, 0, 0, 0, 0, 1, 0, 0, 0, 0,\n",
       "       0, 0, 0, 1, 0, 1, 0, 0, 1, 0, 0, 0, 0, 0, 1, 1, 0, 1, 0, 1, 0, 0,\n",
       "       0, 0, 0, 1, 0, 0, 1, 0, 1, 0, 1, 1, 0, 0, 0, 1, 0, 0, 0, 0, 0, 0,\n",
       "       0, 0, 0, 0, 0, 1, 0, 1, 1, 0, 0, 0, 0, 0, 0, 0, 0, 0, 0, 0, 0, 0,\n",
       "       0, 0, 0, 0, 0, 0, 0, 0, 0, 0, 0, 0, 1, 1, 1, 1, 1, 1, 0],\n",
       "      dtype=int64)"
      ]
     },
     "execution_count": 22,
     "metadata": {},
     "output_type": "execute_result"
    }
   ],
   "source": [
    "y"
   ]
  },
  {
   "cell_type": "code",
   "execution_count": 23,
   "id": "eb0017bc",
   "metadata": {
    "execution": {
     "iopub.execute_input": "2022-12-28T07:09:14.934503Z",
     "iopub.status.busy": "2022-12-28T07:09:14.933500Z",
     "iopub.status.idle": "2022-12-28T07:09:14.973230Z",
     "shell.execute_reply": "2022-12-28T07:09:14.972013Z"
    },
    "papermill": {
     "duration": 0.051938,
     "end_time": "2022-12-28T07:09:14.976538",
     "exception": false,
     "start_time": "2022-12-28T07:09:14.924600",
     "status": "completed"
    },
    "tags": []
   },
   "outputs": [
    {
     "data": {
      "text/html": [
       "<div>\n",
       "<style scoped>\n",
       "    .dataframe tbody tr th:only-of-type {\n",
       "        vertical-align: middle;\n",
       "    }\n",
       "\n",
       "    .dataframe tbody tr th {\n",
       "        vertical-align: top;\n",
       "    }\n",
       "\n",
       "    .dataframe thead th {\n",
       "        text-align: right;\n",
       "    }\n",
       "</style>\n",
       "<table border=\"1\" class=\"dataframe\">\n",
       "  <thead>\n",
       "    <tr style=\"text-align: right;\">\n",
       "      <th></th>\n",
       "      <th>radius_mean</th>\n",
       "      <th>texture_mean</th>\n",
       "      <th>perimeter_mean</th>\n",
       "    </tr>\n",
       "  </thead>\n",
       "  <tbody>\n",
       "    <tr>\n",
       "      <th>0</th>\n",
       "      <td>0.060649</td>\n",
       "      <td>0.018725</td>\n",
       "      <td>0.638054</td>\n",
       "    </tr>\n",
       "    <tr>\n",
       "      <th>1</th>\n",
       "      <td>0.074863</td>\n",
       "      <td>0.059437</td>\n",
       "      <td>0.693696</td>\n",
       "    </tr>\n",
       "    <tr>\n",
       "      <th>2</th>\n",
       "      <td>0.070015</td>\n",
       "      <td>0.078609</td>\n",
       "      <td>0.677720</td>\n",
       "    </tr>\n",
       "    <tr>\n",
       "      <th>3</th>\n",
       "      <td>0.024455</td>\n",
       "      <td>0.073816</td>\n",
       "      <td>0.388934</td>\n",
       "    </tr>\n",
       "    <tr>\n",
       "      <th>4</th>\n",
       "      <td>0.073320</td>\n",
       "      <td>0.040541</td>\n",
       "      <td>0.705816</td>\n",
       "    </tr>\n",
       "    <tr>\n",
       "      <th>...</th>\n",
       "      <td>...</td>\n",
       "      <td>...</td>\n",
       "      <td>...</td>\n",
       "    </tr>\n",
       "    <tr>\n",
       "      <th>564</th>\n",
       "      <td>0.080317</td>\n",
       "      <td>0.084889</td>\n",
       "      <td>0.743828</td>\n",
       "    </tr>\n",
       "    <tr>\n",
       "      <th>565</th>\n",
       "      <td>0.072439</td>\n",
       "      <td>0.117172</td>\n",
       "      <td>0.684331</td>\n",
       "    </tr>\n",
       "    <tr>\n",
       "      <th>566</th>\n",
       "      <td>0.052992</td>\n",
       "      <td>0.116236</td>\n",
       "      <td>0.558173</td>\n",
       "    </tr>\n",
       "    <tr>\n",
       "      <th>567</th>\n",
       "      <td>0.075028</td>\n",
       "      <td>0.123122</td>\n",
       "      <td>0.733361</td>\n",
       "    </tr>\n",
       "    <tr>\n",
       "      <th>568</th>\n",
       "      <td>0.004292</td>\n",
       "      <td>0.096734</td>\n",
       "      <td>0.225536</td>\n",
       "    </tr>\n",
       "  </tbody>\n",
       "</table>\n",
       "<p>569 rows × 3 columns</p>\n",
       "</div>"
      ],
      "text/plain": [
       "     radius_mean  texture_mean  perimeter_mean\n",
       "0       0.060649      0.018725        0.638054\n",
       "1       0.074863      0.059437        0.693696\n",
       "2       0.070015      0.078609        0.677720\n",
       "3       0.024455      0.073816        0.388934\n",
       "4       0.073320      0.040541        0.705816\n",
       "..           ...           ...             ...\n",
       "564     0.080317      0.084889        0.743828\n",
       "565     0.072439      0.117172        0.684331\n",
       "566     0.052992      0.116236        0.558173\n",
       "567     0.075028      0.123122        0.733361\n",
       "568     0.004292      0.096734        0.225536\n",
       "\n",
       "[569 rows x 3 columns]"
      ]
     },
     "execution_count": 23,
     "metadata": {},
     "output_type": "execute_result"
    }
   ],
   "source": [
    "# normalization(Adjusting the range from 0 to 1)\n",
    "\n",
    "x=(x_data-np.min(x_data))/(np.max(x_data)-np.min(x_data))\n",
    "x"
   ]
  },
  {
   "cell_type": "markdown",
   "id": "53bb22dc",
   "metadata": {
    "papermill": {
     "duration": 0.008216,
     "end_time": "2022-12-28T07:09:14.993721",
     "exception": false,
     "start_time": "2022-12-28T07:09:14.985505",
     "status": "completed"
    },
    "tags": []
   },
   "source": [
    "# K-NEAREST NEIGHBOUR(KNN) CLASSIFICATION"
   ]
  },
  {
   "cell_type": "code",
   "execution_count": 24,
   "id": "972aabc9",
   "metadata": {
    "execution": {
     "iopub.execute_input": "2022-12-28T07:09:15.014486Z",
     "iopub.status.busy": "2022-12-28T07:09:15.014077Z",
     "iopub.status.idle": "2022-12-28T07:09:16.335238Z",
     "shell.execute_reply": "2022-12-28T07:09:16.333841Z"
    },
    "papermill": {
     "duration": 1.336051,
     "end_time": "2022-12-28T07:09:16.338424",
     "exception": false,
     "start_time": "2022-12-28T07:09:15.002373",
     "status": "completed"
    },
    "tags": []
   },
   "outputs": [],
   "source": [
    "from sklearn.model_selection import train_test_split\n",
    "x_train,x_test,y_train,y_test=train_test_split(x,y,test_size=0.3,random_state=1)"
   ]
  },
  {
   "cell_type": "code",
   "execution_count": 25,
   "id": "a5de0b32",
   "metadata": {
    "execution": {
     "iopub.execute_input": "2022-12-28T07:09:16.356793Z",
     "iopub.status.busy": "2022-12-28T07:09:16.356376Z",
     "iopub.status.idle": "2022-12-28T07:09:16.553788Z",
     "shell.execute_reply": "2022-12-28T07:09:16.551826Z"
    },
    "papermill": {
     "duration": 0.211731,
     "end_time": "2022-12-28T07:09:16.558517",
     "exception": false,
     "start_time": "2022-12-28T07:09:16.346786",
     "status": "completed"
    },
    "tags": []
   },
   "outputs": [
    {
     "data": {
      "text/plain": [
       "array([0, 0, 0, 1, 1, 1, 1, 1, 0, 0, 0, 1, 1, 0, 1, 0, 0, 0, 0, 1, 0, 0,\n",
       "       1, 0, 1, 0, 1, 1, 1, 1, 1, 0, 1, 0, 0, 0, 1, 1, 0, 0, 0, 0, 0, 0,\n",
       "       0, 1, 0, 0, 0, 1, 1, 1, 0, 0, 0, 0, 0, 1, 0, 0, 0, 1, 0, 0, 0, 0,\n",
       "       0, 1, 0, 0, 0, 0, 0, 1, 0, 1, 1, 0, 0, 1, 0, 1, 0, 1, 0, 0, 1, 0,\n",
       "       1, 0, 0, 0, 0, 0, 1, 0, 0, 0, 0, 0, 0, 0, 0, 0, 0, 0, 0, 0, 1, 0,\n",
       "       0, 0, 1, 0, 1, 1, 0, 0, 0, 0, 0, 1, 1, 0, 0, 1, 0, 1, 1, 1, 0, 0,\n",
       "       0, 1, 0, 1, 1, 0, 0, 1, 0, 1, 0, 1, 0, 1, 0, 0, 0, 1, 0, 0, 0, 0,\n",
       "       0, 0, 0, 0, 0, 0, 0, 0, 0, 1, 0, 0, 1, 1, 1, 0, 0], dtype=int64)"
      ]
     },
     "execution_count": 25,
     "metadata": {},
     "output_type": "execute_result"
    }
   ],
   "source": [
    "from sklearn.neighbors import KNeighborsClassifier\n",
    "\n",
    "knn=KNeighborsClassifier(n_neighbors=3)\n",
    "knn.fit(x_train,y_train)\n",
    "prediction=knn.predict(x_test)\n",
    "prediction"
   ]
  },
  {
   "cell_type": "code",
   "execution_count": 26,
   "id": "55f02b17",
   "metadata": {},
   "outputs": [
    {
     "data": {
      "application/vnd.plotly.v1+json": {
       "config": {
        "plotlyServerURL": "https://plot.ly"
       },
       "data": [
        {
         "hoverinfo": "text",
         "marker": {
          "color": {
           "bdata": "AAAAAAAAAAAAAAAAAAABAQABAAAAAAEBAAABAQABAAEAAQEAAAEBAAAAAAEAAAAAAAAAAQABAAABAQEBAAABAAEBAQABAAAAAAABAAABAQEBAAEAAAEAAQAAAAEAAAABAAAAAAEAAAEBAQAAAQAAAAAAAQAAAAEAAQEBAQABAQEAAAEAAAAAAQEAAAABAAAAAQAAAQAAAAABAQABAQABAAEBAAABAAAAAAABAAAAAAEAAAAAAAEBAQABAQABAAAAAQABAAAAAAEBAAAAAAEAAAEBAQABAQEAAAAAAAAAAQABAQEBAAABAAAAAAAAAAEBAAAAAAEAAAAAAQAAAAEAAQAAAQEBAQEAAAAAAAEAAAAAAQEAAAABAAAAAQAAAQAAAQABAAAAAAEBAAAAAQABAQEAAAABAAAAAQEBAAEAAQEAAAAAAQEAAAAAAAEBAAEAAAAAAAEBAAAAAAEBAQAAAQEBAQABAAEBAAAAAAAAAAABAAAAAAAAAQEBAQABAQAAAQEAAQAAAAAAAQABAAA=",
           "dtype": "i1"
          },
          "colorscale": [
           [
            0,
            "#440154"
           ],
           [
            0.1111111111111111,
            "#482878"
           ],
           [
            0.2222222222222222,
            "#3e4989"
           ],
           [
            0.3333333333333333,
            "#31688e"
           ],
           [
            0.4444444444444444,
            "#26828e"
           ],
           [
            0.5555555555555556,
            "#1f9e89"
           ],
           [
            0.6666666666666666,
            "#35b779"
           ],
           [
            0.7777777777777778,
            "#6ece58"
           ],
           [
            0.8888888888888888,
            "#b5de2b"
           ],
           [
            1,
            "#fde725"
           ]
          ],
          "showscale": true,
          "size": 5
         },
         "mode": "markers",
         "name": "Actual",
         "text": {
          "bdata": "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",
          "dtype": "f8"
         },
         "type": "scatter3d",
         "x": {
          "bdata": "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",
          "dtype": "f8"
         },
         "y": {
          "bdata": "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",
          "dtype": "f8"
         },
         "z": {
          "bdata": "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",
          "dtype": "f8"
         }
        }
       ],
       "layout": {
        "scene": {
         "xaxis": {
          "title": {
           "text": "radius_mean"
          }
         },
         "yaxis": {
          "title": {
           "text": "texture_mean"
          }
         },
         "zaxis": {
          "title": {
           "text": "perimeter_mean"
          }
         }
        },
        "template": {
         "data": {
          "bar": [
           {
            "error_x": {
             "color": "#2a3f5f"
            },
            "error_y": {
             "color": "#2a3f5f"
            },
            "marker": {
             "line": {
              "color": "#E5ECF6",
              "width": 0.5
             },
             "pattern": {
              "fillmode": "overlay",
              "size": 10,
              "solidity": 0.2
             }
            },
            "type": "bar"
           }
          ],
          "barpolar": [
           {
            "marker": {
             "line": {
              "color": "#E5ECF6",
              "width": 0.5
             },
             "pattern": {
              "fillmode": "overlay",
              "size": 10,
              "solidity": 0.2
             }
            },
            "type": "barpolar"
           }
          ],
          "carpet": [
           {
            "aaxis": {
             "endlinecolor": "#2a3f5f",
             "gridcolor": "white",
             "linecolor": "white",
             "minorgridcolor": "white",
             "startlinecolor": "#2a3f5f"
            },
            "baxis": {
             "endlinecolor": "#2a3f5f",
             "gridcolor": "white",
             "linecolor": "white",
             "minorgridcolor": "white",
             "startlinecolor": "#2a3f5f"
            },
            "type": "carpet"
           }
          ],
          "choropleth": [
           {
            "colorbar": {
             "outlinewidth": 0,
             "ticks": ""
            },
            "type": "choropleth"
           }
          ],
          "contour": [
           {
            "colorbar": {
             "outlinewidth": 0,
             "ticks": ""
            },
            "colorscale": [
             [
              0,
              "#0d0887"
             ],
             [
              0.1111111111111111,
              "#46039f"
             ],
             [
              0.2222222222222222,
              "#7201a8"
             ],
             [
              0.3333333333333333,
              "#9c179e"
             ],
             [
              0.4444444444444444,
              "#bd3786"
             ],
             [
              0.5555555555555556,
              "#d8576b"
             ],
             [
              0.6666666666666666,
              "#ed7953"
             ],
             [
              0.7777777777777778,
              "#fb9f3a"
             ],
             [
              0.8888888888888888,
              "#fdca26"
             ],
             [
              1,
              "#f0f921"
             ]
            ],
            "type": "contour"
           }
          ],
          "contourcarpet": [
           {
            "colorbar": {
             "outlinewidth": 0,
             "ticks": ""
            },
            "type": "contourcarpet"
           }
          ],
          "heatmap": [
           {
            "colorbar": {
             "outlinewidth": 0,
             "ticks": ""
            },
            "colorscale": [
             [
              0,
              "#0d0887"
             ],
             [
              0.1111111111111111,
              "#46039f"
             ],
             [
              0.2222222222222222,
              "#7201a8"
             ],
             [
              0.3333333333333333,
              "#9c179e"
             ],
             [
              0.4444444444444444,
              "#bd3786"
             ],
             [
              0.5555555555555556,
              "#d8576b"
             ],
             [
              0.6666666666666666,
              "#ed7953"
             ],
             [
              0.7777777777777778,
              "#fb9f3a"
             ],
             [
              0.8888888888888888,
              "#fdca26"
             ],
             [
              1,
              "#f0f921"
             ]
            ],
            "type": "heatmap"
           }
          ],
          "histogram": [
           {
            "marker": {
             "pattern": {
              "fillmode": "overlay",
              "size": 10,
              "solidity": 0.2
             }
            },
            "type": "histogram"
           }
          ],
          "histogram2d": [
           {
            "colorbar": {
             "outlinewidth": 0,
             "ticks": ""
            },
            "colorscale": [
             [
              0,
              "#0d0887"
             ],
             [
              0.1111111111111111,
              "#46039f"
             ],
             [
              0.2222222222222222,
              "#7201a8"
             ],
             [
              0.3333333333333333,
              "#9c179e"
             ],
             [
              0.4444444444444444,
              "#bd3786"
             ],
             [
              0.5555555555555556,
              "#d8576b"
             ],
             [
              0.6666666666666666,
              "#ed7953"
             ],
             [
              0.7777777777777778,
              "#fb9f3a"
             ],
             [
              0.8888888888888888,
              "#fdca26"
             ],
             [
              1,
              "#f0f921"
             ]
            ],
            "type": "histogram2d"
           }
          ],
          "histogram2dcontour": [
           {
            "colorbar": {
             "outlinewidth": 0,
             "ticks": ""
            },
            "colorscale": [
             [
              0,
              "#0d0887"
             ],
             [
              0.1111111111111111,
              "#46039f"
             ],
             [
              0.2222222222222222,
              "#7201a8"
             ],
             [
              0.3333333333333333,
              "#9c179e"
             ],
             [
              0.4444444444444444,
              "#bd3786"
             ],
             [
              0.5555555555555556,
              "#d8576b"
             ],
             [
              0.6666666666666666,
              "#ed7953"
             ],
             [
              0.7777777777777778,
              "#fb9f3a"
             ],
             [
              0.8888888888888888,
              "#fdca26"
             ],
             [
              1,
              "#f0f921"
             ]
            ],
            "type": "histogram2dcontour"
           }
          ],
          "mesh3d": [
           {
            "colorbar": {
             "outlinewidth": 0,
             "ticks": ""
            },
            "type": "mesh3d"
           }
          ],
          "parcoords": [
           {
            "line": {
             "colorbar": {
              "outlinewidth": 0,
              "ticks": ""
             }
            },
            "type": "parcoords"
           }
          ],
          "pie": [
           {
            "automargin": true,
            "type": "pie"
           }
          ],
          "scatter": [
           {
            "fillpattern": {
             "fillmode": "overlay",
             "size": 10,
             "solidity": 0.2
            },
            "type": "scatter"
           }
          ],
          "scatter3d": [
           {
            "line": {
             "colorbar": {
              "outlinewidth": 0,
              "ticks": ""
             }
            },
            "marker": {
             "colorbar": {
              "outlinewidth": 0,
              "ticks": ""
             }
            },
            "type": "scatter3d"
           }
          ],
          "scattercarpet": [
           {
            "marker": {
             "colorbar": {
              "outlinewidth": 0,
              "ticks": ""
             }
            },
            "type": "scattercarpet"
           }
          ],
          "scattergeo": [
           {
            "marker": {
             "colorbar": {
              "outlinewidth": 0,
              "ticks": ""
             }
            },
            "type": "scattergeo"
           }
          ],
          "scattergl": [
           {
            "marker": {
             "colorbar": {
              "outlinewidth": 0,
              "ticks": ""
             }
            },
            "type": "scattergl"
           }
          ],
          "scattermap": [
           {
            "marker": {
             "colorbar": {
              "outlinewidth": 0,
              "ticks": ""
             }
            },
            "type": "scattermap"
           }
          ],
          "scattermapbox": [
           {
            "marker": {
             "colorbar": {
              "outlinewidth": 0,
              "ticks": ""
             }
            },
            "type": "scattermapbox"
           }
          ],
          "scatterpolar": [
           {
            "marker": {
             "colorbar": {
              "outlinewidth": 0,
              "ticks": ""
             }
            },
            "type": "scatterpolar"
           }
          ],
          "scatterpolargl": [
           {
            "marker": {
             "colorbar": {
              "outlinewidth": 0,
              "ticks": ""
             }
            },
            "type": "scatterpolargl"
           }
          ],
          "scatterternary": [
           {
            "marker": {
             "colorbar": {
              "outlinewidth": 0,
              "ticks": ""
             }
            },
            "type": "scatterternary"
           }
          ],
          "surface": [
           {
            "colorbar": {
             "outlinewidth": 0,
             "ticks": ""
            },
            "colorscale": [
             [
              0,
              "#0d0887"
             ],
             [
              0.1111111111111111,
              "#46039f"
             ],
             [
              0.2222222222222222,
              "#7201a8"
             ],
             [
              0.3333333333333333,
              "#9c179e"
             ],
             [
              0.4444444444444444,
              "#bd3786"
             ],
             [
              0.5555555555555556,
              "#d8576b"
             ],
             [
              0.6666666666666666,
              "#ed7953"
             ],
             [
              0.7777777777777778,
              "#fb9f3a"
             ],
             [
              0.8888888888888888,
              "#fdca26"
             ],
             [
              1,
              "#f0f921"
             ]
            ],
            "type": "surface"
           }
          ],
          "table": [
           {
            "cells": {
             "fill": {
              "color": "#EBF0F8"
             },
             "line": {
              "color": "white"
             }
            },
            "header": {
             "fill": {
              "color": "#C8D4E3"
             },
             "line": {
              "color": "white"
             }
            },
            "type": "table"
           }
          ]
         },
         "layout": {
          "annotationdefaults": {
           "arrowcolor": "#2a3f5f",
           "arrowhead": 0,
           "arrowwidth": 1
          },
          "autotypenumbers": "strict",
          "coloraxis": {
           "colorbar": {
            "outlinewidth": 0,
            "ticks": ""
           }
          },
          "colorscale": {
           "diverging": [
            [
             0,
             "#8e0152"
            ],
            [
             0.1,
             "#c51b7d"
            ],
            [
             0.2,
             "#de77ae"
            ],
            [
             0.3,
             "#f1b6da"
            ],
            [
             0.4,
             "#fde0ef"
            ],
            [
             0.5,
             "#f7f7f7"
            ],
            [
             0.6,
             "#e6f5d0"
            ],
            [
             0.7,
             "#b8e186"
            ],
            [
             0.8,
             "#7fbc41"
            ],
            [
             0.9,
             "#4d9221"
            ],
            [
             1,
             "#276419"
            ]
           ],
           "sequential": [
            [
             0,
             "#0d0887"
            ],
            [
             0.1111111111111111,
             "#46039f"
            ],
            [
             0.2222222222222222,
             "#7201a8"
            ],
            [
             0.3333333333333333,
             "#9c179e"
            ],
            [
             0.4444444444444444,
             "#bd3786"
            ],
            [
             0.5555555555555556,
             "#d8576b"
            ],
            [
             0.6666666666666666,
             "#ed7953"
            ],
            [
             0.7777777777777778,
             "#fb9f3a"
            ],
            [
             0.8888888888888888,
             "#fdca26"
            ],
            [
             1,
             "#f0f921"
            ]
           ],
           "sequentialminus": [
            [
             0,
             "#0d0887"
            ],
            [
             0.1111111111111111,
             "#46039f"
            ],
            [
             0.2222222222222222,
             "#7201a8"
            ],
            [
             0.3333333333333333,
             "#9c179e"
            ],
            [
             0.4444444444444444,
             "#bd3786"
            ],
            [
             0.5555555555555556,
             "#d8576b"
            ],
            [
             0.6666666666666666,
             "#ed7953"
            ],
            [
             0.7777777777777778,
             "#fb9f3a"
            ],
            [
             0.8888888888888888,
             "#fdca26"
            ],
            [
             1,
             "#f0f921"
            ]
           ]
          },
          "colorway": [
           "#636efa",
           "#EF553B",
           "#00cc96",
           "#ab63fa",
           "#FFA15A",
           "#19d3f3",
           "#FF6692",
           "#B6E880",
           "#FF97FF",
           "#FECB52"
          ],
          "font": {
           "color": "#2a3f5f"
          },
          "geo": {
           "bgcolor": "white",
           "lakecolor": "white",
           "landcolor": "#E5ECF6",
           "showlakes": true,
           "showland": true,
           "subunitcolor": "white"
          },
          "hoverlabel": {
           "align": "left"
          },
          "hovermode": "closest",
          "mapbox": {
           "style": "light"
          },
          "paper_bgcolor": "white",
          "plot_bgcolor": "#E5ECF6",
          "polar": {
           "angularaxis": {
            "gridcolor": "white",
            "linecolor": "white",
            "ticks": ""
           },
           "bgcolor": "#E5ECF6",
           "radialaxis": {
            "gridcolor": "white",
            "linecolor": "white",
            "ticks": ""
           }
          },
          "scene": {
           "xaxis": {
            "backgroundcolor": "#E5ECF6",
            "gridcolor": "white",
            "gridwidth": 2,
            "linecolor": "white",
            "showbackground": true,
            "ticks": "",
            "zerolinecolor": "white"
           },
           "yaxis": {
            "backgroundcolor": "#E5ECF6",
            "gridcolor": "white",
            "gridwidth": 2,
            "linecolor": "white",
            "showbackground": true,
            "ticks": "",
            "zerolinecolor": "white"
           },
           "zaxis": {
            "backgroundcolor": "#E5ECF6",
            "gridcolor": "white",
            "gridwidth": 2,
            "linecolor": "white",
            "showbackground": true,
            "ticks": "",
            "zerolinecolor": "white"
           }
          },
          "shapedefaults": {
           "line": {
            "color": "#2a3f5f"
           }
          },
          "ternary": {
           "aaxis": {
            "gridcolor": "white",
            "linecolor": "white",
            "ticks": ""
           },
           "baxis": {
            "gridcolor": "white",
            "linecolor": "white",
            "ticks": ""
           },
           "bgcolor": "#E5ECF6",
           "caxis": {
            "gridcolor": "white",
            "linecolor": "white",
            "ticks": ""
           }
          },
          "title": {
           "x": 0.05
          },
          "xaxis": {
           "automargin": true,
           "gridcolor": "white",
           "linecolor": "white",
           "ticks": "",
           "title": {
            "standoff": 15
           },
           "zerolinecolor": "white",
           "zerolinewidth": 2
          },
          "yaxis": {
           "automargin": true,
           "gridcolor": "white",
           "linecolor": "white",
           "ticks": "",
           "title": {
            "standoff": 15
           },
           "zerolinecolor": "white",
           "zerolinewidth": 2
          }
         }
        },
        "title": {
         "text": "Training Data Plot"
        }
       }
      }
     },
     "metadata": {},
     "output_type": "display_data"
    }
   ],
   "source": [
    "fig = go.Figure()\n",
    "\n",
    "# Add scatter trace for actual points with labels\n",
    "fig.add_trace(go.Scatter3d(\n",
    "    x=x_train[selected_features[0]],\n",
    "    y=x_train[selected_features[1]],\n",
    "    z=x_train[selected_features[2]],\n",
    "    mode='markers',\n",
    "    marker=dict(size=5, color=y_train, colorscale='Viridis', showscale=True),\n",
    "    text=y_train,  # Hover text to show labels\n",
    "    hoverinfo=\"text\",\n",
    "    name='Actual'\n",
    "))\n",
    "\n",
    "# Update layout with axis labels and title\n",
    "fig.update_layout(\n",
    "    title='Training Data Plot',\n",
    "    scene=dict(\n",
    "        xaxis_title=selected_features[0],\n",
    "        yaxis_title=selected_features[1],\n",
    "        zaxis_title=selected_features[2]\n",
    "    )\n",
    ")\n",
    "\n",
    "fig.show()\n"
   ]
  },
  {
   "cell_type": "code",
   "execution_count": 27,
   "id": "ea537c65",
   "metadata": {},
   "outputs": [
    {
     "data": {
      "application/vnd.plotly.v1+json": {
       "config": {
        "plotlyServerURL": "https://plot.ly"
       },
       "data": [
        {
         "hoverinfo": "text",
         "marker": {
          "color": {
           "bdata": "AAEAAQEBAQEAAAABAQAAAAAAAAEAAAEAAQAAAQEBAQABAQAAAQABAAAAAAAAAQAAAAEBAQAAAAAAAQAAAAEAAAAAAAEAAAAAAQEAAQEBAAEAAQABAAABAAEAAAEAAAEBAAAAAAAAAAAAAAAAAQEBAAAAAQEAAAAAAAEBAAABAQABAQAAAAEAAQEAAAABAQABAAEAAAABAAAAAQAAAAAAAAAAAAEAAAEBAQAA",
           "dtype": "i1"
          },
          "colorscale": [
           [
            0,
            "#440154"
           ],
           [
            0.1111111111111111,
            "#482878"
           ],
           [
            0.2222222222222222,
            "#3e4989"
           ],
           [
            0.3333333333333333,
            "#31688e"
           ],
           [
            0.4444444444444444,
            "#26828e"
           ],
           [
            0.5555555555555556,
            "#1f9e89"
           ],
           [
            0.6666666666666666,
            "#35b779"
           ],
           [
            0.7777777777777778,
            "#6ece58"
           ],
           [
            0.8888888888888888,
            "#b5de2b"
           ],
           [
            1,
            "#fde725"
           ]
          ],
          "showscale": true,
          "size": 5
         },
         "mode": "markers",
         "name": "Predicted",
         "text": {
          "bdata": "AAAAAAAAAAAAAAAAAADwPwAAAAAAAAAAAAAAAAAA8D8AAAAAAADwPwAAAAAAAPA/AAAAAAAA8D8AAAAAAADwPwAAAAAAAAAAAAAAAAAAAAAAAAAAAAAAAAAAAAAAAPA/AAAAAAAA8D8AAAAAAAAAAAAAAAAAAAAAAAAAAAAAAAAAAAAAAAAAAAAAAAAAAAAAAAAAAAAAAAAAAAAAAADwPwAAAAAAAAAAAAAAAAAAAAAAAAAAAADwPwAAAAAAAAAAAAAAAAAA8D8AAAAAAAAAAAAAAAAAAAAAAAAAAAAA8D8AAAAAAADwPwAAAAAAAPA/AAAAAAAA8D8AAAAAAAAAAAAAAAAAAPA/AAAAAAAA8D8AAAAAAAAAAAAAAAAAAAAAAAAAAAAA8D8AAAAAAAAAAAAAAAAAAPA/AAAAAAAAAAAAAAAAAAAAAAAAAAAAAAAAAAAAAAAAAAAAAAAAAAAAAAAAAAAAAAAAAAAAAAAA8D8AAAAAAAAAAAAAAAAAAAAAAAAAAAAAAAAAAAAAAADwPwAAAAAAAPA/AAAAAAAA8D8AAAAAAAAAAAAAAAAAAAAAAAAAAAAAAAAAAAAAAAAAAAAAAAAAAAAAAAAAAAAA8D8AAAAAAAAAAAAAAAAAAAAAAAAAAAAAAAAAAAAAAADwPwAAAAAAAAAAAAAAAAAAAAAAAAAAAAAAAAAAAAAAAAAAAAAAAAAAAAAAAAAAAADwPwAAAAAAAAAAAAAAAAAAAAAAAAAAAAAAAAAAAAAAAAAAAAAAAAAA8D8AAAAAAADwPwAAAAAAAAAAAAAAAAAA8D8AAAAAAADwPwAAAAAAAPA/AAAAAAAAAAAAAAAAAADwPwAAAAAAAAAAAAAAAAAA8D8AAAAAAAAAAAAAAAAAAPA/AAAAAAAAAAAAAAAAAAAAAAAAAAAAAPA/AAAAAAAAAAAAAAAAAADwPwAAAAAAAAAAAAAAAAAAAAAAAAAAAADwPwAAAAAAAAAAAAAAAAAAAAAAAAAAAADwPwAAAAAAAPA/AAAAAAAAAAAAAAAAAAAAAAAAAAAAAAAAAAAAAAAAAAAAAAAAAAAAAAAAAAAAAAAAAAAAAAAAAAAAAAAAAAAAAAAAAAAAAAAAAAAAAAAAAAAAAAAAAAAAAAAAAAAAAAAAAAAAAAAA8D8AAAAAAADwPwAAAAAAAPA/AAAAAAAAAAAAAAAAAAAAAAAAAAAAAAAAAAAAAAAA8D8AAAAAAADwPwAAAAAAAAAAAAAAAAAAAAAAAAAAAAAAAAAAAAAAAAAAAAAAAAAAAAAAAAAAAADwPwAAAAAAAPA/AAAAAAAAAAAAAAAAAAAAAAAAAAAAAPA/AAAAAAAA8D8AAAAAAAAAAAAAAAAAAPA/AAAAAAAA8D8AAAAAAAAAAAAAAAAAAAAAAAAAAAAAAAAAAAAAAADwPwAAAAAAAAAAAAAAAAAA8D8AAAAAAADwPwAAAAAAAAAAAAAAAAAAAAAAAAAAAAAAAAAAAAAAAPA/AAAAAAAA8D8AAAAAAAAAAAAAAAAAAPA/AAAAAAAAAAAAAAAAAADwPwAAAAAAAAAAAAAAAAAAAAAAAAAAAAAAAAAAAAAAAPA/AAAAAAAAAAAAAAAAAAAAAAAAAAAAAAAAAAAAAAAA8D8AAAAAAAAAAAAAAAAAAAAAAAAAAAAAAAAAAAAAAAAAAAAAAAAAAAAAAAAAAAAAAAAAAAAAAAAAAAAAAAAAAAAAAAAAAAAAAAAAAAAAAADwPwAAAAAAAAAAAAAAAAAAAAAAAAAAAADwPwAAAAAAAPA/AAAAAAAA8D8AAAAAAAAAAAAAAAAAAAAA",
          "dtype": "f8"
         },
         "type": "scatter3d",
         "x": {
          "bdata": "blJQCYy+pT9K+PSi+nShP9IC4doe1qA/lHaB5X30rz9ePXiZQ/ymPz3GMsIC5Kk/OqbogvY3sT8KU1WUaU6vP7EgGSklvZM/XHHNdwNLpT8nSK0j4eWWPxhTl0KBVaQ/xDb0Cscdqj/FyZyELlieP8Q4ybam4qU/W8A3G5OjoD+iB5dhHXGdP7JQxK8lgpo/5F3MzB4/lD+IQYANtQmzP46XFa7sTKA/PFuw50njmT+PP8w4YcixP31p/SS0RaA/B/Ep24j/pT+io5b8XF2YP8OFXq5WdqU/yxT29mYwsD8C5lSGIYu8P+oROkfISaw/IfmZ+KGPtD9uAA5IwwKXPwk86iZZzqk/soubA969oz9JMtnloAaMP4/i1fm8G6Q/C6Dqixnirj/2D6dJAIylP/QK+n/nY5Y/G2VV5nitmj/A9Wx7nBuKP226+sULXKI/otUWLz3nmj+fkdhYZQWiP+X8o4WXjqI/oqhDxnWFpz/lNaYtcAVwP7FVUKKyJo8/GWzXW3GapT+lJYREJt6tP5UQrNTdG68/cbR7wmwNrz9hgbZvG96fP7W0xBTmlZ8/sVVQorImjz8pG9q6GYSjP45KgLY8uaA/9TodVsSusD+PyZXgzNaiP8A18Zhtf5I/Sz4IJbIblj8cY4A6meiePyoAxfVJeqY/9cTm/S+9oT99gj0+pIqhPyqsrYih+Zs/G5fVGFk3nT+ihiTbiRSzP/qgeheIAZ4/TqIIinIvmz/kfY5bB3GgP7DzRcBdW6A/F9SBGPE3oj+HjhUFZZ2yP6C+q8EsZ4U/58Z5+/d6qD9vuCUaLJemP5/FLTclVKA/xWWcH25EmT8JPOomWc6pP8T/xg7Oa5g/Pfiy9OJtrD9+6BJPRGOiP4Ix/u40bao/wdTIUebOoD8ZmarEOPyYP6CqGHJVSqM/ShE1vOq5oj9/Zyh51ICkPxtlVeZ4rZo/j7BVx9yRoT/VEsrSNmmbPyZKgs/AqpI/5F3MzB4/lD/qQ7p5qNOuP/gGUCgo2p4/sQfZDzV4gj+lOReU/fqfP48o6Xt0wpg/xv3xYu6mnD+R9JOdtHOaP6FvQR6dDpo/ru6Y9kQzkT/llPnIF/GlP38ak4Ek7aQ/TVz1B7uIpj/BzUbc7eGVP0vEn8Q6JqM/Lfwanorwrj+SLZZFjeqnPzv12tapCpk/pzZgTVAbhz9ccc13A0ulP1vyt01zLaM/cbR7wmwNrz/lixr3G8WyP+G5R0qNx4Y/x2PHc45/nT+BETxgTDueP5Bh6yNNOaY/waBzcyaAoj+Q8jZBsTSyP8PiVO36IrM/1nif49ZBnD9bwDcbk6OgP6LR5CZa47Y/oY8DrYVApj/GAp8sB8+rP48/zDhhyLE/h44VBWWdsj+RjOngNNadP18JI7uDrag/+qB6F4gBnj/TkVdMowyxP7G4bmylH5c/gGVTzfS7qD9xmzupfMitPz2t8qgSn6g/kcITa9Tplz9vuCUaLJemP9bMtlB/wqY/7YlmIsiDsT+B37stbLGbP/jbUWtAPac/PC7dfoKBpj9dJDiAU7elP45eEwYU1pI/92765Kd3mz9vmGOLQ2WaP8W33uA2AKg/Xk82PTtUnT9dhWDH2meXPxgGAkvRwaQ/TqIIinIvmz8rTVrt+Q2mP32CPT6kiqE/KrMv/pnmpj9s7k+ky6qgP9OB9gSv86I/m9qiIcqLjz/1Q/wnwNqjP2zuT6TLqqA/bcy4aQO0mD/pkiQdOCyqP1xRC+kaGZk/Jzbvf+mNoD8uYvCuKsmvPxDmljQ5krE/s++baJ7RqD9Jkh+SWpygP8OZ8f0tk5c/",
          "dtype": "f8"
         },
         "y": {
          "bdata": "soubA969oz914edRnHiwP01B4ELrfqk/MCmHLbpbsD/TGQhwHRnAPxDLgW9piLQ/xdAe+iZFqT8Rfux3ufS0P3atknPcKbI/soubA969oz+01IajzserP6M3ujf6u7c/097sQ1OgsD8OzVYbSU2wPwK01FNBAbo/+tenE4Gzrz/nrTniBzanP0/0Sks766k/qepFF9arsj/NEiFLh2u0Pw+AwSOZubA/uUyzfs4BsT+a7NgUnmm5P9Z9TK3vaas/E2PXsunqtz/JTV94152vP94M5PX/I7Y//Z4+khBGsD8rw5BFjv+0P8xGdilHurI/53AFMky7tT88Lt1+goGmPzIOcmjqUbM/qYRwBjbTsT9NBoE+D8mzP1vANxuTo6A/4D5kKOCtuD9XGzjXywe4P28VHFnQQ7Q/HU/t6sHLrD8pG9q6GYSjP5qhGMnNmrU/h44VBWWdsj/G6V4TF4qqPykb2roZhKM/pL+uM4YFrT8U4uzceQi6P/j0kYQwgqg/2DC3tT/Wqz/WzLZQf8KmP8v54DGXJrM/XIc1c7oskz93xtKMzG6zP5eKrVu9GrA//gQUo7AesT9PDYtkKzCrP17VzdzDXqo/3cEjqi9Vsj+AmairtAqnPwlVKkBJE6s/5DD5Y1fdoD9mSVBgBA+4P9Pe7ENToLA/5ZT5yBfxpT+1oDHFDnmtP3fG0ozMbrM/t2zc5k4qrz/7NJ5SJWC9P4EYvtVEKKk/lZGWqk3+rD+P/eq+jCWhP2+2UG5M0qo/MieygdqWtD9kzA/iU7axP8W33uA2AKg/mrpY4r3ftj9Gucpv07G5PyopZlYu2LU/lcMW3S2Irz+1uXHe/r2uP7lMs37OAbE/Q+/0+XLFsz85sZwA0iigP+aJRUs8ALc/T/RKSzvrqT86XYWTKaiVP+hV8Gx8sbg/tf/8r5Lqtj8ZSOPEpWS1P4D/fbxU46c/cCyHxuDDuT+XPRhkDYewP09orPfvF70/pqSZbrb7rz9UHQ2Dq8yzPyp/2h/al6g/KUbYdwEhmz+n8S5mZo+vPzrzfXqmy7A/QgoKv0LPsD/+HVS8oGOyP+hV8Gx8sbg/M3RHeYoqtD/EOMm2puKlPz/Uvl0XOLw/IccZxsEFsj/dQDnUv3K0P/XE5v0vvaE/9wbIdwRgsj+B37stbLGbPzJbB2Ca5bI/CtQ/atkwrT+6/x2HHm6xP8QdtPHW2Kg/IeBZ37FKsz8YBgJL0cGkP38ak4Ek7aQ/bYal50sNpD8qAMX1SXqmP3LPkIc8F6w/OmIyXULQpD/MRnYpR7qyP8ysSzrnkrM/Pe/TIudBuT+vMVwL5/C+PyymptTeMLw/pfMDEkZUqz8hFK+9cZmxP4KV/lP1gK8/Kqh7gL71tz/8cdIC4dquP1vrNdh6QJg/qB6b9ZX6sD/5NnP+BCW5P5GugBv9zKU/wy/q5Kq2sj+p0QX+5WaxP1ylIlbDmaM/fxh6/TLrwj/367KyNFa1P9ORV0yjDLE/mm3D6g1Mtz/VdkKH0wK0P66+MUhWq8A/7db7GXgXsT9cG1muV4uyP4Ix/u40bao/6ip6YLiOrT9PJst9G3WsP9Oql2WTUbI/qZ2wHyYYsz8S5MGIWc21P0teyrOaTaI/CVUqQEkTqz8/xF0WIx+uP/in/IyA7qg/xuleExeKqj+P4tX5vBukPx1oLQSyEK4/xbUJNVc7rD/nxnn793qoPyp/2h/al6g/pSWERCberT8y2hyKKgO1P+h3D1hoIq0/gEM04ghLtD/dwSOqL1WyP/5RqZpgsrA/yOeJZzfFrj+TrKtvHQiqP6KfZPR5WbQ/",
          "dtype": "f8"
         },
         "z": {
          "bdata": "23Z01KMV4D+CZXW5fdrbPyMCm7Ym2to/mmLcCmWt4z80iECN/KLfP29wCorHfeE/kAuI0OUI5T8bCacGPXfjP/ES+MsSENU/FB9Deb6h3j9yhW3pKovWPwHlt9hiSN4/BV3TPR7z4T/ytxoRYGXZP8cCwRiQ7d4/e/SGe2RQ2z8deGxfHQvZPwLN8oCoJ9g/DsrkwapF1j+mBPGQtCDmP9UmOzaFZ9o/L+ZM3jiz1z+mnhuAFEjlP12X/H5Jodo/iBWxK0Th3z+2SpsP2prXP/DP32gaht8/ZTL2aDge5D9VzTiUKt/uPyVg+0C8G+I/3LPsXHHN5z+szTm6nb7WP3qTCeaG0+E/S/XGIW6q3T+uNIqMc7vSP6KB3dULSN0/sI+aqfMT4z/rt/k51OHeP8S51Xif49Y/lvrdFIze1z9O3nyL6a3SPwh9LvNuLtw/RCxLlrde2D+bqhmHUuXbP29EKjISxtw/rxCFf2P24D87dgmFKyrNPxdVjtrpONM/nugM0VXB3j8aVjz+7ArjPwYpfl9epOM/2xuXGfFq5D8RyA8Wy4DaPyCQUo5jr9k/s0xwu7lf0z9AH129XujcP+GiQqEXo9o/0fiXvTEV5D8qjMkNMKncP/cdEfmLwdQ/VoHr++LB1T8U4PVEESXbP3MJ2459BOA/eJt+bJFq2z82PCZXgjPbP38ngm96/tg/WRlBP2Mk2T+yJ/Dsc3bmP0tQpNwgVdk/kkjN9uUS2D/Z2EtUKzPaP+oGZN1jOto/rdgxEIvs2z/yetXqX1vmPx+gb/1Fi9E/GvBm7Uwy4j975j64YTnfP3TQLTX7Wdo/7Yb0yCl81z/FVoM34qHhPy6Ad82Y2tY/xbxYSIJ64j+Dvn3IUMDbP5qWMekk/OE/LRkn+8Ld2j/39ogcmWXXPw2uVDulF94/RB4D07RH3D834Uicz4jfPyDEp2wj/tc/8Cq9I80w2z8MSlTW5APZP1G2msRMsdQ/hkxWdxkZ1T+G6Ih0JrPkP+m5zuWzpto/Hzqa7KWy0D8D/3KziLHaPz5Vh0f++9Y/vG70VUOR2D/GKx6hYg7YP3b3tRHutdc/PyKtKnTR0z+sZBQ86PzeP/x/PLJsEN4/cs+yc8U13z+wGXXHo7HVPz4T6qU7ltw/xW/DUNLm4j8kR7snzNbgP4CAin5N5Ng/lDx7tk5E0j+n/5gV8sTeP8DFJ7k2stw/RXxjXUqJ4z888blEC5bmP03FPHL5aNE/gTP1hp1Q2T9ZGUE/YyTZPzBwWl62/t4/vbm0oRNg3D/RxELfccblP536MU7lD+c/x5HzsQLn2D+bkdltYqDaP+iiltpw1Ok/yO9TPJgo4D/a6RbnEOHhP2b+oIp4z+U/UZ2NDSoa6D9xXuUMOC/ZP4SdyChW5OA/QC2lgGH/2D9nSzaCKGPlP5rstigVS9Y/72NqfU/b4D/lcutTcA/jPy+3T3s7wOA/lzqmCm9/1j9jYHgKAO3fP+rExjuh1N8/uzGvL0OH5T9C00KH5HjYP0VK4ypq/+A/eUChsd6/3z/PGU1dLPHePwTnrVvOkNQ/zemh1iss2D9ExnWFF4bXP1oqDNJI0uA/M7GdFc/D2D+szTm6nb7WP7QVy2/kJ94/bazU7pFj2T9DquX+EVjfP6kZVPAXLts/bP7BYQRT4D9mFF7UhX3bP35mz6Mne9w/7JQ8jCyT0z9FhNjjVCDdP2wfdwH/Lts/gQ3oa+AY1z+65u7jcrjhPzuv6UB7gtc/dtygTB6s2j+FgrNjhtrjP9AR2NYhWuU/2YNB1nAI4T+BTDWgjZXaP7iW1hzgjdY/",
          "dtype": "f8"
         }
        }
       ],
       "layout": {
        "scene": {
         "xaxis": {
          "title": {
           "text": "radius_mean"
          }
         },
         "yaxis": {
          "title": {
           "text": "texture_mean"
          }
         },
         "zaxis": {
          "title": {
           "text": "perimeter_mean"
          }
         }
        },
        "template": {
         "data": {
          "bar": [
           {
            "error_x": {
             "color": "#2a3f5f"
            },
            "error_y": {
             "color": "#2a3f5f"
            },
            "marker": {
             "line": {
              "color": "#E5ECF6",
              "width": 0.5
             },
             "pattern": {
              "fillmode": "overlay",
              "size": 10,
              "solidity": 0.2
             }
            },
            "type": "bar"
           }
          ],
          "barpolar": [
           {
            "marker": {
             "line": {
              "color": "#E5ECF6",
              "width": 0.5
             },
             "pattern": {
              "fillmode": "overlay",
              "size": 10,
              "solidity": 0.2
             }
            },
            "type": "barpolar"
           }
          ],
          "carpet": [
           {
            "aaxis": {
             "endlinecolor": "#2a3f5f",
             "gridcolor": "white",
             "linecolor": "white",
             "minorgridcolor": "white",
             "startlinecolor": "#2a3f5f"
            },
            "baxis": {
             "endlinecolor": "#2a3f5f",
             "gridcolor": "white",
             "linecolor": "white",
             "minorgridcolor": "white",
             "startlinecolor": "#2a3f5f"
            },
            "type": "carpet"
           }
          ],
          "choropleth": [
           {
            "colorbar": {
             "outlinewidth": 0,
             "ticks": ""
            },
            "type": "choropleth"
           }
          ],
          "contour": [
           {
            "colorbar": {
             "outlinewidth": 0,
             "ticks": ""
            },
            "colorscale": [
             [
              0,
              "#0d0887"
             ],
             [
              0.1111111111111111,
              "#46039f"
             ],
             [
              0.2222222222222222,
              "#7201a8"
             ],
             [
              0.3333333333333333,
              "#9c179e"
             ],
             [
              0.4444444444444444,
              "#bd3786"
             ],
             [
              0.5555555555555556,
              "#d8576b"
             ],
             [
              0.6666666666666666,
              "#ed7953"
             ],
             [
              0.7777777777777778,
              "#fb9f3a"
             ],
             [
              0.8888888888888888,
              "#fdca26"
             ],
             [
              1,
              "#f0f921"
             ]
            ],
            "type": "contour"
           }
          ],
          "contourcarpet": [
           {
            "colorbar": {
             "outlinewidth": 0,
             "ticks": ""
            },
            "type": "contourcarpet"
           }
          ],
          "heatmap": [
           {
            "colorbar": {
             "outlinewidth": 0,
             "ticks": ""
            },
            "colorscale": [
             [
              0,
              "#0d0887"
             ],
             [
              0.1111111111111111,
              "#46039f"
             ],
             [
              0.2222222222222222,
              "#7201a8"
             ],
             [
              0.3333333333333333,
              "#9c179e"
             ],
             [
              0.4444444444444444,
              "#bd3786"
             ],
             [
              0.5555555555555556,
              "#d8576b"
             ],
             [
              0.6666666666666666,
              "#ed7953"
             ],
             [
              0.7777777777777778,
              "#fb9f3a"
             ],
             [
              0.8888888888888888,
              "#fdca26"
             ],
             [
              1,
              "#f0f921"
             ]
            ],
            "type": "heatmap"
           }
          ],
          "histogram": [
           {
            "marker": {
             "pattern": {
              "fillmode": "overlay",
              "size": 10,
              "solidity": 0.2
             }
            },
            "type": "histogram"
           }
          ],
          "histogram2d": [
           {
            "colorbar": {
             "outlinewidth": 0,
             "ticks": ""
            },
            "colorscale": [
             [
              0,
              "#0d0887"
             ],
             [
              0.1111111111111111,
              "#46039f"
             ],
             [
              0.2222222222222222,
              "#7201a8"
             ],
             [
              0.3333333333333333,
              "#9c179e"
             ],
             [
              0.4444444444444444,
              "#bd3786"
             ],
             [
              0.5555555555555556,
              "#d8576b"
             ],
             [
              0.6666666666666666,
              "#ed7953"
             ],
             [
              0.7777777777777778,
              "#fb9f3a"
             ],
             [
              0.8888888888888888,
              "#fdca26"
             ],
             [
              1,
              "#f0f921"
             ]
            ],
            "type": "histogram2d"
           }
          ],
          "histogram2dcontour": [
           {
            "colorbar": {
             "outlinewidth": 0,
             "ticks": ""
            },
            "colorscale": [
             [
              0,
              "#0d0887"
             ],
             [
              0.1111111111111111,
              "#46039f"
             ],
             [
              0.2222222222222222,
              "#7201a8"
             ],
             [
              0.3333333333333333,
              "#9c179e"
             ],
             [
              0.4444444444444444,
              "#bd3786"
             ],
             [
              0.5555555555555556,
              "#d8576b"
             ],
             [
              0.6666666666666666,
              "#ed7953"
             ],
             [
              0.7777777777777778,
              "#fb9f3a"
             ],
             [
              0.8888888888888888,
              "#fdca26"
             ],
             [
              1,
              "#f0f921"
             ]
            ],
            "type": "histogram2dcontour"
           }
          ],
          "mesh3d": [
           {
            "colorbar": {
             "outlinewidth": 0,
             "ticks": ""
            },
            "type": "mesh3d"
           }
          ],
          "parcoords": [
           {
            "line": {
             "colorbar": {
              "outlinewidth": 0,
              "ticks": ""
             }
            },
            "type": "parcoords"
           }
          ],
          "pie": [
           {
            "automargin": true,
            "type": "pie"
           }
          ],
          "scatter": [
           {
            "fillpattern": {
             "fillmode": "overlay",
             "size": 10,
             "solidity": 0.2
            },
            "type": "scatter"
           }
          ],
          "scatter3d": [
           {
            "line": {
             "colorbar": {
              "outlinewidth": 0,
              "ticks": ""
             }
            },
            "marker": {
             "colorbar": {
              "outlinewidth": 0,
              "ticks": ""
             }
            },
            "type": "scatter3d"
           }
          ],
          "scattercarpet": [
           {
            "marker": {
             "colorbar": {
              "outlinewidth": 0,
              "ticks": ""
             }
            },
            "type": "scattercarpet"
           }
          ],
          "scattergeo": [
           {
            "marker": {
             "colorbar": {
              "outlinewidth": 0,
              "ticks": ""
             }
            },
            "type": "scattergeo"
           }
          ],
          "scattergl": [
           {
            "marker": {
             "colorbar": {
              "outlinewidth": 0,
              "ticks": ""
             }
            },
            "type": "scattergl"
           }
          ],
          "scattermap": [
           {
            "marker": {
             "colorbar": {
              "outlinewidth": 0,
              "ticks": ""
             }
            },
            "type": "scattermap"
           }
          ],
          "scattermapbox": [
           {
            "marker": {
             "colorbar": {
              "outlinewidth": 0,
              "ticks": ""
             }
            },
            "type": "scattermapbox"
           }
          ],
          "scatterpolar": [
           {
            "marker": {
             "colorbar": {
              "outlinewidth": 0,
              "ticks": ""
             }
            },
            "type": "scatterpolar"
           }
          ],
          "scatterpolargl": [
           {
            "marker": {
             "colorbar": {
              "outlinewidth": 0,
              "ticks": ""
             }
            },
            "type": "scatterpolargl"
           }
          ],
          "scatterternary": [
           {
            "marker": {
             "colorbar": {
              "outlinewidth": 0,
              "ticks": ""
             }
            },
            "type": "scatterternary"
           }
          ],
          "surface": [
           {
            "colorbar": {
             "outlinewidth": 0,
             "ticks": ""
            },
            "colorscale": [
             [
              0,
              "#0d0887"
             ],
             [
              0.1111111111111111,
              "#46039f"
             ],
             [
              0.2222222222222222,
              "#7201a8"
             ],
             [
              0.3333333333333333,
              "#9c179e"
             ],
             [
              0.4444444444444444,
              "#bd3786"
             ],
             [
              0.5555555555555556,
              "#d8576b"
             ],
             [
              0.6666666666666666,
              "#ed7953"
             ],
             [
              0.7777777777777778,
              "#fb9f3a"
             ],
             [
              0.8888888888888888,
              "#fdca26"
             ],
             [
              1,
              "#f0f921"
             ]
            ],
            "type": "surface"
           }
          ],
          "table": [
           {
            "cells": {
             "fill": {
              "color": "#EBF0F8"
             },
             "line": {
              "color": "white"
             }
            },
            "header": {
             "fill": {
              "color": "#C8D4E3"
             },
             "line": {
              "color": "white"
             }
            },
            "type": "table"
           }
          ]
         },
         "layout": {
          "annotationdefaults": {
           "arrowcolor": "#2a3f5f",
           "arrowhead": 0,
           "arrowwidth": 1
          },
          "autotypenumbers": "strict",
          "coloraxis": {
           "colorbar": {
            "outlinewidth": 0,
            "ticks": ""
           }
          },
          "colorscale": {
           "diverging": [
            [
             0,
             "#8e0152"
            ],
            [
             0.1,
             "#c51b7d"
            ],
            [
             0.2,
             "#de77ae"
            ],
            [
             0.3,
             "#f1b6da"
            ],
            [
             0.4,
             "#fde0ef"
            ],
            [
             0.5,
             "#f7f7f7"
            ],
            [
             0.6,
             "#e6f5d0"
            ],
            [
             0.7,
             "#b8e186"
            ],
            [
             0.8,
             "#7fbc41"
            ],
            [
             0.9,
             "#4d9221"
            ],
            [
             1,
             "#276419"
            ]
           ],
           "sequential": [
            [
             0,
             "#0d0887"
            ],
            [
             0.1111111111111111,
             "#46039f"
            ],
            [
             0.2222222222222222,
             "#7201a8"
            ],
            [
             0.3333333333333333,
             "#9c179e"
            ],
            [
             0.4444444444444444,
             "#bd3786"
            ],
            [
             0.5555555555555556,
             "#d8576b"
            ],
            [
             0.6666666666666666,
             "#ed7953"
            ],
            [
             0.7777777777777778,
             "#fb9f3a"
            ],
            [
             0.8888888888888888,
             "#fdca26"
            ],
            [
             1,
             "#f0f921"
            ]
           ],
           "sequentialminus": [
            [
             0,
             "#0d0887"
            ],
            [
             0.1111111111111111,
             "#46039f"
            ],
            [
             0.2222222222222222,
             "#7201a8"
            ],
            [
             0.3333333333333333,
             "#9c179e"
            ],
            [
             0.4444444444444444,
             "#bd3786"
            ],
            [
             0.5555555555555556,
             "#d8576b"
            ],
            [
             0.6666666666666666,
             "#ed7953"
            ],
            [
             0.7777777777777778,
             "#fb9f3a"
            ],
            [
             0.8888888888888888,
             "#fdca26"
            ],
            [
             1,
             "#f0f921"
            ]
           ]
          },
          "colorway": [
           "#636efa",
           "#EF553B",
           "#00cc96",
           "#ab63fa",
           "#FFA15A",
           "#19d3f3",
           "#FF6692",
           "#B6E880",
           "#FF97FF",
           "#FECB52"
          ],
          "font": {
           "color": "#2a3f5f"
          },
          "geo": {
           "bgcolor": "white",
           "lakecolor": "white",
           "landcolor": "#E5ECF6",
           "showlakes": true,
           "showland": true,
           "subunitcolor": "white"
          },
          "hoverlabel": {
           "align": "left"
          },
          "hovermode": "closest",
          "mapbox": {
           "style": "light"
          },
          "paper_bgcolor": "white",
          "plot_bgcolor": "#E5ECF6",
          "polar": {
           "angularaxis": {
            "gridcolor": "white",
            "linecolor": "white",
            "ticks": ""
           },
           "bgcolor": "#E5ECF6",
           "radialaxis": {
            "gridcolor": "white",
            "linecolor": "white",
            "ticks": ""
           }
          },
          "scene": {
           "xaxis": {
            "backgroundcolor": "#E5ECF6",
            "gridcolor": "white",
            "gridwidth": 2,
            "linecolor": "white",
            "showbackground": true,
            "ticks": "",
            "zerolinecolor": "white"
           },
           "yaxis": {
            "backgroundcolor": "#E5ECF6",
            "gridcolor": "white",
            "gridwidth": 2,
            "linecolor": "white",
            "showbackground": true,
            "ticks": "",
            "zerolinecolor": "white"
           },
           "zaxis": {
            "backgroundcolor": "#E5ECF6",
            "gridcolor": "white",
            "gridwidth": 2,
            "linecolor": "white",
            "showbackground": true,
            "ticks": "",
            "zerolinecolor": "white"
           }
          },
          "shapedefaults": {
           "line": {
            "color": "#2a3f5f"
           }
          },
          "ternary": {
           "aaxis": {
            "gridcolor": "white",
            "linecolor": "white",
            "ticks": ""
           },
           "baxis": {
            "gridcolor": "white",
            "linecolor": "white",
            "ticks": ""
           },
           "bgcolor": "#E5ECF6",
           "caxis": {
            "gridcolor": "white",
            "linecolor": "white",
            "ticks": ""
           }
          },
          "title": {
           "x": 0.05
          },
          "xaxis": {
           "automargin": true,
           "gridcolor": "white",
           "linecolor": "white",
           "ticks": "",
           "title": {
            "standoff": 15
           },
           "zerolinecolor": "white",
           "zerolinewidth": 2
          },
          "yaxis": {
           "automargin": true,
           "gridcolor": "white",
           "linecolor": "white",
           "ticks": "",
           "title": {
            "standoff": 15
           },
           "zerolinecolor": "white",
           "zerolinewidth": 2
          }
         }
        },
        "title": {
         "text": "Predicted Data Plot"
        }
       }
      }
     },
     "metadata": {},
     "output_type": "display_data"
    }
   ],
   "source": [
    "fig = go.Figure()\n",
    "\n",
    "# Add scatter trace for actual points with labels\n",
    "fig.add_trace(go.Scatter3d(\n",
    "    x=x_test[selected_features[0]],\n",
    "    y=x_test[selected_features[1]],\n",
    "    z=x_test[selected_features[2]],\n",
    "    mode='markers',\n",
    "    marker=dict(size=5, color=y_test, colorscale='Viridis', showscale=True),\n",
    "    text=y_test,  # Hover text to show labels\n",
    "    hoverinfo=\"text\",\n",
    "    name='Predicted'\n",
    "))\n",
    "\n",
    "# Update layout with axis labels and title\n",
    "fig.update_layout(\n",
    "    title='Predicted Data Plot',\n",
    "    scene=dict(\n",
    "        xaxis_title=selected_features[0],\n",
    "        yaxis_title=selected_features[1],\n",
    "        zaxis_title=selected_features[2]\n",
    "    )\n",
    ")\n",
    "\n",
    "fig.show()\n"
   ]
  },
  {
   "cell_type": "code",
   "execution_count": 28,
   "id": "f88c7eec",
   "metadata": {
    "execution": {
     "iopub.execute_input": "2022-12-28T07:09:16.605729Z",
     "iopub.status.busy": "2022-12-28T07:09:16.604988Z",
     "iopub.status.idle": "2022-12-28T07:09:16.639570Z",
     "shell.execute_reply": "2022-12-28T07:09:16.637762Z"
    },
    "papermill": {
     "duration": 0.063604,
     "end_time": "2022-12-28T07:09:16.644224",
     "exception": false,
     "start_time": "2022-12-28T07:09:16.580620",
     "status": "completed"
    },
    "tags": []
   },
   "outputs": [
    {
     "name": "stdout",
     "output_type": "stream",
     "text": [
      "3 nn score: 0.8947368421052632\n"
     ]
    }
   ],
   "source": [
    "print(\"{} nn score: {}\".format(3,knn.score(x_test,y_test)))"
   ]
  },
  {
   "cell_type": "code",
   "execution_count": 29,
   "id": "23940546",
   "metadata": {
    "execution": {
     "iopub.execute_input": "2022-12-28T07:09:16.689439Z",
     "iopub.status.busy": "2022-12-28T07:09:16.688660Z",
     "iopub.status.idle": "2022-12-28T07:09:17.307310Z",
     "shell.execute_reply": "2022-12-28T07:09:17.305624Z"
    },
    "papermill": {
     "duration": 0.646794,
     "end_time": "2022-12-28T07:09:17.311948",
     "exception": false,
     "start_time": "2022-12-28T07:09:16.665154",
     "status": "completed"
    },
    "tags": []
   },
   "outputs": [
    {
     "name": "stdout",
     "output_type": "stream",
     "text": [
      "1 nn score: 0.8830409356725146\n",
      "2 nn score: 0.8654970760233918\n",
      "3 nn score: 0.8947368421052632\n",
      "4 nn score: 0.8771929824561403\n",
      "5 nn score: 0.8654970760233918\n",
      "6 nn score: 0.8771929824561403\n",
      "7 nn score: 0.8713450292397661\n",
      "8 nn score: 0.8713450292397661\n",
      "9 nn score: 0.8538011695906432\n",
      "10 nn score: 0.8771929824561403\n",
      "11 nn score: 0.8771929824561403\n",
      "12 nn score: 0.8713450292397661\n",
      "13 nn score: 0.8654970760233918\n",
      "14 nn score: 0.8596491228070176\n"
     ]
    }
   ],
   "source": [
    "# find k value\n",
    "score_list=[]\n",
    "for each in range(1,15):\n",
    "    knn2=KNeighborsClassifier(n_neighbors=each)\n",
    "    knn2.fit(x_train,y_train)\n",
    "    score_list.append(knn2.score(x_test,y_test))\n",
    "    print(\"{} nn score: {}\".format(each,knn2.score(x_test,y_test)))\n",
    "    "
   ]
  },
  {
   "cell_type": "code",
   "execution_count": 30,
   "id": "4654283b",
   "metadata": {
    "execution": {
     "iopub.execute_input": "2022-12-28T07:09:17.362093Z",
     "iopub.status.busy": "2022-12-28T07:09:17.361379Z",
     "iopub.status.idle": "2022-12-28T07:09:17.632066Z",
     "shell.execute_reply": "2022-12-28T07:09:17.630630Z"
    },
    "papermill": {
     "duration": 0.300022,
     "end_time": "2022-12-28T07:09:17.635420",
     "exception": false,
     "start_time": "2022-12-28T07:09:17.335398",
     "status": "completed"
    },
    "tags": []
   },
   "outputs": [
    {
     "data": {
      "image/png": "[encoded data removed]",
      "text/plain": [
       "<Figure size 640x480 with 1 Axes>"
      ]
     },
     "metadata": {},
     "output_type": "display_data"
    }
   ],
   "source": [
    "plt.plot(range(1,15),score_list,color=\"r\")\n",
    "plt.xlabel(\"knn values\")\n",
    "plt.ylabel(\"accuracy\")\n",
    "plt.show()"
   ]
  }
 ],
 "metadata": {
  "kernelspec": {
   "display_name": "Python 3",
   "language": "python",
   "name": "python3"
  },
  "language_info": {
   "codemirror_mode": {
    "name": "ipython",
    "version": 3
   },
   "file_extension": ".py",
   "mimetype": "text/x-python",
   "name": "python",
   "nbconvert_exporter": "python",
   "pygments_lexer": "ipython3",
   "version": "3.11.0"
  },
  "papermill": {
   "default_parameters": {},
   "duration": 14.654443,
   "end_time": "2022-12-28T07:09:19.245350",
   "environment_variables": {},
   "exception": null,
   "input_path": "__notebook__.ipynb",
   "output_path": "__notebook__.ipynb",
   "parameters": {},
   "start_time": "2022-12-28T07:09:04.590907",
   "version": "2.3.4"
  }
 },
 "nbformat": 4,
 "nbformat_minor": 5
}
