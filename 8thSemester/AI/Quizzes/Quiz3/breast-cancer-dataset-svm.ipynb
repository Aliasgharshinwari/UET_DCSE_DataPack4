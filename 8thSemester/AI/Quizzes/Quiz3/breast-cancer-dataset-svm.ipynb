{
 "cells": [
  {
   "cell_type": "code",
   "execution_count": 2,
   "id": "b28c075c",
   "metadata": {
    "_cell_guid": "b1076dfc-b9ad-4769-8c92-a6c4dae69d19",
    "_uuid": "8f2839f25d086af736a60e9eeb907d3b93b6e0e5",
    "execution": {
     "iopub.execute_input": "2022-12-28T07:09:14.670872Z",
     "iopub.status.busy": "2022-12-28T07:09:14.669933Z",
     "iopub.status.idle": "2022-12-28T07:09:14.694595Z",
     "shell.execute_reply": "2022-12-28T07:09:14.693077Z"
    },
    "papermill": {
     "duration": 0.038902,
     "end_time": "2022-12-28T07:09:14.697584",
     "exception": false,
     "start_time": "2022-12-28T07:09:14.658682",
     "status": "completed"
    },
    "tags": []
   },
   "outputs": [],
   "source": [
    "import numpy as np # linear algebra\n",
    "import pandas as pd # data processing, CSV file I/O (e.g. pd.read_csv)\n",
    "import matplotlib.pyplot as plt \n",
    "\n",
    "import os\n",
    "for dirname, _, filenames in os.walk('/kaggle/input'):\n",
    "    for filename in filenames:\n",
    "        print(os.path.join(dirname, filename))"
   ]
  },
  {
   "cell_type": "code",
   "execution_count": 3,
   "id": "7b717eb3",
   "metadata": {
    "execution": {
     "iopub.execute_input": "2022-12-28T07:09:14.713310Z",
     "iopub.status.busy": "2022-12-28T07:09:14.712904Z",
     "iopub.status.idle": "2022-12-28T07:09:14.786817Z",
     "shell.execute_reply": "2022-12-28T07:09:14.785158Z"
    },
    "papermill": {
     "duration": 0.085225,
     "end_time": "2022-12-28T07:09:14.789782",
     "exception": false,
     "start_time": "2022-12-28T07:09:14.704557",
     "status": "completed"
    },
    "tags": []
   },
   "outputs": [
    {
     "data": {
      "text/html": [
       "<div>\n",
       "<style scoped>\n",
       "    .dataframe tbody tr th:only-of-type {\n",
       "        vertical-align: middle;\n",
       "    }\n",
       "\n",
       "    .dataframe tbody tr th {\n",
       "        vertical-align: top;\n",
       "    }\n",
       "\n",
       "    .dataframe thead th {\n",
       "        text-align: right;\n",
       "    }\n",
       "</style>\n",
       "<table border=\"1\" class=\"dataframe\">\n",
       "  <thead>\n",
       "    <tr style=\"text-align: right;\">\n",
       "      <th></th>\n",
       "      <th>id</th>\n",
       "      <th>diagnosis</th>\n",
       "      <th>radius_mean</th>\n",
       "      <th>texture_mean</th>\n",
       "      <th>perimeter_mean</th>\n",
       "      <th>area_mean</th>\n",
       "      <th>smoothness_mean</th>\n",
       "      <th>compactness_mean</th>\n",
       "      <th>concavity_mean</th>\n",
       "      <th>concave points_mean</th>\n",
       "      <th>...</th>\n",
       "      <th>radius_worst</th>\n",
       "      <th>texture_worst</th>\n",
       "      <th>perimeter_worst</th>\n",
       "      <th>area_worst</th>\n",
       "      <th>smoothness_worst</th>\n",
       "      <th>compactness_worst</th>\n",
       "      <th>concavity_worst</th>\n",
       "      <th>concave points_worst</th>\n",
       "      <th>symmetry_worst</th>\n",
       "      <th>fractal_dimension_worst</th>\n",
       "    </tr>\n",
       "  </thead>\n",
       "  <tbody>\n",
       "    <tr>\n",
       "      <th>0</th>\n",
       "      <td>842302</td>\n",
       "      <td>M</td>\n",
       "      <td>17.99</td>\n",
       "      <td>10.38</td>\n",
       "      <td>122.80</td>\n",
       "      <td>1001.0</td>\n",
       "      <td>0.11840</td>\n",
       "      <td>0.27760</td>\n",
       "      <td>0.3001</td>\n",
       "      <td>0.14710</td>\n",
       "      <td>...</td>\n",
       "      <td>25.38</td>\n",
       "      <td>17.33</td>\n",
       "      <td>184.60</td>\n",
       "      <td>2019.0</td>\n",
       "      <td>0.1622</td>\n",
       "      <td>0.6656</td>\n",
       "      <td>0.7119</td>\n",
       "      <td>0.2654</td>\n",
       "      <td>0.4601</td>\n",
       "      <td>0.11890</td>\n",
       "    </tr>\n",
       "    <tr>\n",
       "      <th>1</th>\n",
       "      <td>842517</td>\n",
       "      <td>M</td>\n",
       "      <td>20.57</td>\n",
       "      <td>17.77</td>\n",
       "      <td>132.90</td>\n",
       "      <td>1326.0</td>\n",
       "      <td>0.08474</td>\n",
       "      <td>0.07864</td>\n",
       "      <td>0.0869</td>\n",
       "      <td>0.07017</td>\n",
       "      <td>...</td>\n",
       "      <td>24.99</td>\n",
       "      <td>23.41</td>\n",
       "      <td>158.80</td>\n",
       "      <td>1956.0</td>\n",
       "      <td>0.1238</td>\n",
       "      <td>0.1866</td>\n",
       "      <td>0.2416</td>\n",
       "      <td>0.1860</td>\n",
       "      <td>0.2750</td>\n",
       "      <td>0.08902</td>\n",
       "    </tr>\n",
       "    <tr>\n",
       "      <th>2</th>\n",
       "      <td>84300903</td>\n",
       "      <td>M</td>\n",
       "      <td>19.69</td>\n",
       "      <td>21.25</td>\n",
       "      <td>130.00</td>\n",
       "      <td>1203.0</td>\n",
       "      <td>0.10960</td>\n",
       "      <td>0.15990</td>\n",
       "      <td>0.1974</td>\n",
       "      <td>0.12790</td>\n",
       "      <td>...</td>\n",
       "      <td>23.57</td>\n",
       "      <td>25.53</td>\n",
       "      <td>152.50</td>\n",
       "      <td>1709.0</td>\n",
       "      <td>0.1444</td>\n",
       "      <td>0.4245</td>\n",
       "      <td>0.4504</td>\n",
       "      <td>0.2430</td>\n",
       "      <td>0.3613</td>\n",
       "      <td>0.08758</td>\n",
       "    </tr>\n",
       "    <tr>\n",
       "      <th>3</th>\n",
       "      <td>84348301</td>\n",
       "      <td>M</td>\n",
       "      <td>11.42</td>\n",
       "      <td>20.38</td>\n",
       "      <td>77.58</td>\n",
       "      <td>386.1</td>\n",
       "      <td>0.14250</td>\n",
       "      <td>0.28390</td>\n",
       "      <td>0.2414</td>\n",
       "      <td>0.10520</td>\n",
       "      <td>...</td>\n",
       "      <td>14.91</td>\n",
       "      <td>26.50</td>\n",
       "      <td>98.87</td>\n",
       "      <td>567.7</td>\n",
       "      <td>0.2098</td>\n",
       "      <td>0.8663</td>\n",
       "      <td>0.6869</td>\n",
       "      <td>0.2575</td>\n",
       "      <td>0.6638</td>\n",
       "      <td>0.17300</td>\n",
       "    </tr>\n",
       "    <tr>\n",
       "      <th>4</th>\n",
       "      <td>84358402</td>\n",
       "      <td>M</td>\n",
       "      <td>20.29</td>\n",
       "      <td>14.34</td>\n",
       "      <td>135.10</td>\n",
       "      <td>1297.0</td>\n",
       "      <td>0.10030</td>\n",
       "      <td>0.13280</td>\n",
       "      <td>0.1980</td>\n",
       "      <td>0.10430</td>\n",
       "      <td>...</td>\n",
       "      <td>22.54</td>\n",
       "      <td>16.67</td>\n",
       "      <td>152.20</td>\n",
       "      <td>1575.0</td>\n",
       "      <td>0.1374</td>\n",
       "      <td>0.2050</td>\n",
       "      <td>0.4000</td>\n",
       "      <td>0.1625</td>\n",
       "      <td>0.2364</td>\n",
       "      <td>0.07678</td>\n",
       "    </tr>\n",
       "  </tbody>\n",
       "</table>\n",
       "<p>5 rows × 32 columns</p>\n",
       "</div>"
      ],
      "text/plain": [
       "         id diagnosis  radius_mean  texture_mean  perimeter_mean  area_mean  \\\n",
       "0    842302         M        17.99         10.38          122.80     1001.0   \n",
       "1    842517         M        20.57         17.77          132.90     1326.0   \n",
       "2  84300903         M        19.69         21.25          130.00     1203.0   \n",
       "3  84348301         M        11.42         20.38           77.58      386.1   \n",
       "4  84358402         M        20.29         14.34          135.10     1297.0   \n",
       "\n",
       "   smoothness_mean  compactness_mean  concavity_mean  concave points_mean  \\\n",
       "0          0.11840           0.27760          0.3001              0.14710   \n",
       "1          0.08474           0.07864          0.0869              0.07017   \n",
       "2          0.10960           0.15990          0.1974              0.12790   \n",
       "3          0.14250           0.28390          0.2414              0.10520   \n",
       "4          0.10030           0.13280          0.1980              0.10430   \n",
       "\n",
       "   ...  radius_worst  texture_worst  perimeter_worst  area_worst  \\\n",
       "0  ...         25.38          17.33           184.60      2019.0   \n",
       "1  ...         24.99          23.41           158.80      1956.0   \n",
       "2  ...         23.57          25.53           152.50      1709.0   \n",
       "3  ...         14.91          26.50            98.87       567.7   \n",
       "4  ...         22.54          16.67           152.20      1575.0   \n",
       "\n",
       "   smoothness_worst  compactness_worst  concavity_worst  concave points_worst  \\\n",
       "0            0.1622             0.6656           0.7119                0.2654   \n",
       "1            0.1238             0.1866           0.2416                0.1860   \n",
       "2            0.1444             0.4245           0.4504                0.2430   \n",
       "3            0.2098             0.8663           0.6869                0.2575   \n",
       "4            0.1374             0.2050           0.4000                0.1625   \n",
       "\n",
       "   symmetry_worst  fractal_dimension_worst  \n",
       "0          0.4601                  0.11890  \n",
       "1          0.2750                  0.08902  \n",
       "2          0.3613                  0.08758  \n",
       "3          0.6638                  0.17300  \n",
       "4          0.2364                  0.07678  \n",
       "\n",
       "[5 rows x 32 columns]"
      ]
     },
     "execution_count": 3,
     "metadata": {},
     "output_type": "execute_result"
    }
   ],
   "source": [
    "df=pd.read_csv(\"./breast-cancer.csv\")\n",
    "df.head()"
   ]
  },
  {
   "cell_type": "code",
   "execution_count": 4,
   "id": "700ce6a2",
   "metadata": {
    "execution": {
     "iopub.execute_input": "2022-12-28T07:09:14.806949Z",
     "iopub.status.busy": "2022-12-28T07:09:14.805747Z",
     "iopub.status.idle": "2022-12-28T07:09:14.821700Z",
     "shell.execute_reply": "2022-12-28T07:09:14.820179Z"
    },
    "papermill": {
     "duration": 0.027234,
     "end_time": "2022-12-28T07:09:14.824580",
     "exception": false,
     "start_time": "2022-12-28T07:09:14.797346",
     "status": "completed"
    },
    "tags": []
   },
   "outputs": [],
   "source": [
    "df.diagnosis=[1 if each==\"M\" else 0 for each in df.diagnosis] # Binary classification\n",
    "y=df.diagnosis.values\n",
    "x_data=df.drop([\"diagnosis\",\"id\"],axis=1)\n"
   ]
  },
  {
   "cell_type": "code",
   "execution_count": 5,
   "id": "189e7e42",
   "metadata": {},
   "outputs": [],
   "source": [
    "selected_features = [\"perimeter_mean\", \"area_mean\", \"smoothness_mean\"]  # Replace with actual feature names\n",
    "x_data = x_data[selected_features]\n"
   ]
  },
  {
   "cell_type": "code",
   "execution_count": 6,
   "id": "e78d1369",
   "metadata": {
    "execution": {
     "iopub.execute_input": "2022-12-28T07:09:14.840268Z",
     "iopub.status.busy": "2022-12-28T07:09:14.839837Z",
     "iopub.status.idle": "2022-12-28T07:09:14.884302Z",
     "shell.execute_reply": "2022-12-28T07:09:14.883031Z"
    },
    "papermill": {
     "duration": 0.05584,
     "end_time": "2022-12-28T07:09:14.887486",
     "exception": false,
     "start_time": "2022-12-28T07:09:14.831646",
     "status": "completed"
    },
    "tags": []
   },
   "outputs": [
    {
     "data": {
      "text/html": [
       "<div>\n",
       "<style scoped>\n",
       "    .dataframe tbody tr th:only-of-type {\n",
       "        vertical-align: middle;\n",
       "    }\n",
       "\n",
       "    .dataframe tbody tr th {\n",
       "        vertical-align: top;\n",
       "    }\n",
       "\n",
       "    .dataframe thead th {\n",
       "        text-align: right;\n",
       "    }\n",
       "</style>\n",
       "<table border=\"1\" class=\"dataframe\">\n",
       "  <thead>\n",
       "    <tr style=\"text-align: right;\">\n",
       "      <th></th>\n",
       "      <th>perimeter_mean</th>\n",
       "      <th>area_mean</th>\n",
       "      <th>smoothness_mean</th>\n",
       "    </tr>\n",
       "  </thead>\n",
       "  <tbody>\n",
       "    <tr>\n",
       "      <th>0</th>\n",
       "      <td>122.80</td>\n",
       "      <td>1001.0</td>\n",
       "      <td>0.11840</td>\n",
       "    </tr>\n",
       "    <tr>\n",
       "      <th>1</th>\n",
       "      <td>132.90</td>\n",
       "      <td>1326.0</td>\n",
       "      <td>0.08474</td>\n",
       "    </tr>\n",
       "    <tr>\n",
       "      <th>2</th>\n",
       "      <td>130.00</td>\n",
       "      <td>1203.0</td>\n",
       "      <td>0.10960</td>\n",
       "    </tr>\n",
       "    <tr>\n",
       "      <th>3</th>\n",
       "      <td>77.58</td>\n",
       "      <td>386.1</td>\n",
       "      <td>0.14250</td>\n",
       "    </tr>\n",
       "    <tr>\n",
       "      <th>4</th>\n",
       "      <td>135.10</td>\n",
       "      <td>1297.0</td>\n",
       "      <td>0.10030</td>\n",
       "    </tr>\n",
       "    <tr>\n",
       "      <th>...</th>\n",
       "      <td>...</td>\n",
       "      <td>...</td>\n",
       "      <td>...</td>\n",
       "    </tr>\n",
       "    <tr>\n",
       "      <th>564</th>\n",
       "      <td>142.00</td>\n",
       "      <td>1479.0</td>\n",
       "      <td>0.11100</td>\n",
       "    </tr>\n",
       "    <tr>\n",
       "      <th>565</th>\n",
       "      <td>131.20</td>\n",
       "      <td>1261.0</td>\n",
       "      <td>0.09780</td>\n",
       "    </tr>\n",
       "    <tr>\n",
       "      <th>566</th>\n",
       "      <td>108.30</td>\n",
       "      <td>858.1</td>\n",
       "      <td>0.08455</td>\n",
       "    </tr>\n",
       "    <tr>\n",
       "      <th>567</th>\n",
       "      <td>140.10</td>\n",
       "      <td>1265.0</td>\n",
       "      <td>0.11780</td>\n",
       "    </tr>\n",
       "    <tr>\n",
       "      <th>568</th>\n",
       "      <td>47.92</td>\n",
       "      <td>181.0</td>\n",
       "      <td>0.05263</td>\n",
       "    </tr>\n",
       "  </tbody>\n",
       "</table>\n",
       "<p>569 rows × 3 columns</p>\n",
       "</div>"
      ],
      "text/plain": [
       "     perimeter_mean  area_mean  smoothness_mean\n",
       "0            122.80     1001.0          0.11840\n",
       "1            132.90     1326.0          0.08474\n",
       "2            130.00     1203.0          0.10960\n",
       "3             77.58      386.1          0.14250\n",
       "4            135.10     1297.0          0.10030\n",
       "..              ...        ...              ...\n",
       "564          142.00     1479.0          0.11100\n",
       "565          131.20     1261.0          0.09780\n",
       "566          108.30      858.1          0.08455\n",
       "567          140.10     1265.0          0.11780\n",
       "568           47.92      181.0          0.05263\n",
       "\n",
       "[569 rows x 3 columns]"
      ]
     },
     "execution_count": 6,
     "metadata": {},
     "output_type": "execute_result"
    }
   ],
   "source": [
    "x_data"
   ]
  },
  {
   "cell_type": "code",
   "execution_count": 7,
   "id": "630d4c6d",
   "metadata": {},
   "outputs": [
    {
     "data": {
      "application/vnd.plotly.v1+json": {
       "config": {
        "plotlyServerURL": "https://plot.ly"
       },
       "data": [
        {
         "marker": {
          "color": "blue",
          "size": 5
         },
         "mode": "markers",
         "name": "Actual",
         "type": "scatter3d",
         "x": {
          "bdata": "MzMzMzOzXkDNzMzMzJxgQAAAAAAAQGBAhetRuB5lU0AzMzMzM+NgQBSuR+F6pFRAZmZmZmbmXUDNzMzMzIxWQAAAAAAA4FVArkfhehT+VEDNzMzMzKxZQGZmZmZm5llAzczMzMyMYEDNzMzMzOxZQGZmZmZmZldAH4XrUbguWECPwvUoXK9XQGZmZmZmBltAAAAAAABAYEA9CtejcN1VQLgehetRaFVA7FG4HoUrTkAAAAAAAKBZQGZmZmZmJmFAAAAAAACAW0AAAAAAAABdQArXo3A9WlhAZmZmZmaGXkCamZmZmZlZQAAAAAAAwFxAMzMzMzMzX0DsUbgehXtTQDMzMzMzM1xAmpmZmZn5X0AAAAAAAMBaQGZmZmZmhltAuB6F61FoV0DXo3A9CqdUQMP1KFyP4ldAmpmZmZkZVkDsUbgehYtVQJqZmZmZ+VFAmpmZmZkJYEAUrkfhetRVQHsUrkfhWlVAzczMzMzsXkB7FK5H4dpJQB+F61G4flVAw/UoXI+CU0AK16NwPbpVQK5H4XoUrlJAPQrXo3DNVUA9CtejcO1SQDMzMzMzE15AcT0K16NQWED2KFyPwlVSQAAAAAAAYF9AMzMzMzPjV0DXo3A9CqdUQOxRuB6FK0tAMzMzMzMjUEAUrkfhelRLQHsUrkfhGlhAmpmZmZmZTUBcj8L1KKxUQJqZmZmZWVhArkfhehQOTkAzMzMzM/NRQIXrUbgeZU1ASOF6FK5XVEBmZmZmZuZeQIXrUbgeZU1AzczMzMyMXEDsUbgehZtWQFyPwvUozFNAZmZmZmYGWkAK16NwPfpVQM3MzMzMDF5AZmZmZmb2YUBcj8L1KMxUQKRwPQrXc1JAj8L1KFyfVUAAAAAAAHBlQDMzMzMzI2BAzczMzMw8U0BmZmZmZkZeQAAAAAAAkFdAAAAAAACAXkBSuB6F6/FTQOF6FK5H8VdAFK5H4XqkV0DNzMzMzAxZQI/C9ShcL1VAZmZmZmamVUAzMzMzMxNZQM3MzMzMjGBAw/UoXI9yU0CuR+F6FA5PQPYoXI/ClVJAH4XrUbieV0AzMzMzMwNWQIXrUbge5UVArkfhehROU0CamZmZmflPQArXo3A92lBAPQrXo3DNVUB7FK5H4cpSQHE9CtejwFNAmpmZmZkZY0AfhetRuB5SQAAAAAAAQE9AmpmZmZmJVECF61G4HnVYQClcj8L1KFFA7FG4HoXrS0BSuB6F6yFTQB+F61G4Xk1AKVyPwvWoWEDNzMzMzGxaQM3MzMzMjFxA9ihcj8JVUkCamZmZmVleQGZmZmZmxmRAUrgeheuRV0BmZmZmZoZVQFyPwvUoHFZAcT0K16PwVUCamZmZmdleQIXrUbge5VhAzczMzMxMYECF61G4HsVTQM3MzMzMbFlAzczMzMyMWkAAAAAAAIBZQM3MzMzMDF5ArkfhehRuVECuR+F6FK5SQKRwPQrXQ1JAZmZmZmY2WEAAAAAAAEBSQB+F61G4nk5AZmZmZmZGWkAK16NwPWpSQI/C9Shc71RAcT0K16MQUUDXo3A9CodTQI/C9Shcv1NA9ihcj8J1WECuR+F6FH5XQEjhehSuB1ZAcT0K16PgVEDD9Shcj6JKQKRwPQrX409ASOF6FK63UUCkcD0K11NVQOF6FK5HkVNAmpmZmZlZXUCamZmZmRlbQPYoXI/CNVNAXI/C9SgsUUBmZmZmZgZTQDMzMzMzk19AZmZmZmZWYEBmZmZmZvZTQDMzMzMzA2NAAAAAAADgV0DhehSuRzFRQDMzMzMzU1tAZmZmZmYGXUCuR+F6FA5YQGZmZmZmtlNA9ihcj8J1VUAAAAAAAKBZQD0K16NwjVFAj8L1KFzfUED2KFyPwjVLQGZmZmZmJlBAMzMzMzNTW0BxPQrXo4BUQMP1KFyPUlRAMzMzMzPDZkBmZmZmZtZhQM3MzMzMTFlAUrgehethUkB7FK5H4bpYQOF6FK5H4U9AZmZmZmamXUDsUbgehatSQOF6FK5H0VJAhetRuB61U0BI4XoUrpdXQOF6FK5HgVRAPQrXo3BdTkCamZmZmUlUQJqZmZmZGVlAUrgeheuhVEC4HoXrUahWQJqZmZmZWV1AAAAAAADgX0CPwvUoXJ9XQMP1KFyPolNAZmZmZmbGXEDNzMzMzNxjQKRwPQrX41ZA9ihcj8JFVEBSuB6F67FYQPYoXI/CdU9AzczMzMxsW0DhehSuR8FVQHsUrkfhilhAZmZmZmbWYEBxPQrXo+BSQAAAAAAAkGdAAAAAAACgXEBI4XoUrjdXQD0K16NwvVZAFK5H4XpUU0AzMzMzM0NQQGZmZmZmNmBAAAAAAAAAYEC4HoXrUfhVQPYoXI/CJVZASOF6FK5HUEBmZmZmZqZZQDMzMzMzI1VAcT0K16MgV0BI4XoUrqdQQM3MzMzMXFhAZmZmZmZWVEBxPQrXo1BVQJqZmZmZWVxAcT0K16PwUUDD9Shcj7JRQM3MzMzMzGBAexSuR+EaTkDD9Shcj3JWQAAAAAAAMGNAAAAAAACQYEAzMzMzMyNXQJqZmZmZWVxAuB6F61HYVUDXo3A9CqdTQOxRuB6Fe1JAw/UoXI8iVkAzMzMzMyNgQK5H4XoUrlBAuB6F61EIVUDNzMzMzDxVQHE9CtejAFFASOF6FK53UkDNzMzMzFxhQFK4HoXrUVJAZmZmZmZWYEAAAAAAAEBcQAAAAAAAoF9A7FG4HoXbVkAzMzMzM7NgQM3MzMzMzFlAzczMzMyMW0DNzMzMzOxZQM3MzMzMnGBAAAAAAADAW0CamZmZmZlcQAAAAAAAAFlAZmZmZmbmW0BmZmZmZvZgQFK4HoXrUVFACtejcD3KVUC4HoXrUZhUQAAAAAAAYFFAMzMzMzOTVkAfhetRuA5SQJqZmZmZaWJAAAAAAADATkDNzMzMzMxcQM3MzMzMDFNAw/UoXI/yUUCamZmZmTleQI/C9Shcj1VAj8L1KFw/VkDNzMzMzIxfQI/C9Shcj1JAzczMzMzMX0AzMzMzMzNbQIXrUbgeBVVAhetRuB71U0BI4XoUrndTQClcj8L1eFRArkfhehRuUkB7FK5H4QpSQFK4HoXrAVhAUrgehetBWEApXI/C9chUQMP1KFyP4lJAUrgehetxVECkcD0K1wNWQClcj8L1SFFAAAAAAADAUkCuR+F6FM5WQGZmZmZmtlBAAAAAAAAwYEDsUbgehRtUQGZmZmZm1mBA16NwPQq3UED2KFyPwmVSQB+F61G4jlJAFK5H4XoEVUCuR+F6FC5MQFyPwvUobFVAPQrXo3CtVECF61G4HpVSQOxRuB6FK1dAw/UoXI+SVEAfhetRuG5SQOxRuB6FC0tAXI/C9SjMU0AAAAAAAFBTQM3MzMzMrF1AKVyPwvUITkBmZmZmZqZTQOF6FK5HoVBAMzMzMzNjYEAUrkfherRUQM3MzMzM/GBAcT0K16OAU0AAAAAAAFBUQFK4HoXrgVZA9ihcj8IFU0CamZmZmblaQAAAAAAA4FpAMzMzMzNzWkDhehSuRyFVQFyPwvUo/FFAuB6F61HYUUC4HoXrUXhTQDMzMzMz81tAhetRuB4FVUCamZmZmbleQArXo3A9GlBAMzMzMzNjY0CamZmZmYlXQFK4HoXr0U5Aj8L1KFzfUUDNzMzMzDxgQFK4HoXrwVJAzczMzMyMUEAK16NwPSpTQEjhehSut1dA4XoUrkdBUkAfhetRuE5TQM3MzMzMbFJAZmZmZmbGWkBmZmZmZsZlQAAAAAAAgFhAj8L1KFzPUUB7FK5H4XpUQPYoXI/CRVVA4XoUrkchVkAfhetRuF5MQClcj8L16E1AexSuR+HaU0CPwvUoXE9VQEjhehSud1RAZmZmZmamWkAfhetRuF5VQJqZmZmZuWBAZmZmZma2YECkcD0K15NTQM3MzMzMnGFAZmZmZmZmYkAAAAAAAEBbQJqZmZmZaVhAmpmZmZmpYUCamZmZmdlgQPYoXI/C9VVAMzMzMzOTWkCamZmZmYlRQClcj8L1eFVA4XoUrkcRVkAzMzMzM1NSQArXo3A9SlJAexSuR+GqUUAAAAAAALBTQClcj8L1KFRAw/UoXI9yVUCuR+F6FH5XQFK4HoXrsVNASOF6FK4XVkC4HoXrUVhSQM3MzMzMHGBAAAAAAABwUEDD9Shcj6JLQJqZmZmZmVlAzczMzMwMYkAUrkfheoRTQAAAAAAAcFZAZmZmZmYGVkAzMzMzM8NUQKRwPQrXk1FAcT0K16PQUkCamZmZmRlfQClcj8L1CFNA7FG4HoULVUDsUbgehctUQMP1KFyPklNAKVyPwvWYUUAzMzMzMxNaQLgehetRqFRAMzMzMzNzXUAK16NwPZpTQI/C9ShcH1JAexSuR+G6UUAAAAAAAOBNQFK4HoXrYVhAPQrXo3AtWEApXI/C9RhTQM3MzMzMzE1AmpmZmZm5WUC4HoXrUThUQM3MzMzMvFFAzczMzMyMUkCuR+F6FI5YQD0K16Nw3VJAPQrXo3BdVkDXo3A9CvdOQLgehetRmE9Aj8L1KFzfUEDD9ShcjzJRQK5H4XoUnlFAH4XrUbg+VEBmZmZmZoZZQK5H4XoUXlRAmpmZmZm5YEDNzMzMzOxeQClcj8L1uFdASOF6FK7HVkB7FK5H4apUQFK4HoXrcVZA7FG4HoUrVkD2KFyPwmVWQB+F61G47lFAmpmZmZkZXEBI4XoUrhdWQBSuR+F6tFBAAAAAAABgXUDXo3A9CmdTQDMzMzMzU11AuB6F61H4V0AAAAAAAJBXQDMzMzMzQ2FAhetRuB41U0DNzMzMzOxfQOF6FK5HMVNA16NwPQp3V0BI4XoUridUQPYoXI/ClVVASOF6FK63UkBmZmZmZgZVQNejcD0Kp1RA16NwPQrXTkDNzMzMzMxbQM3MzMzMXGdAAAAAAAAQV0C4HoXrUXhSQFK4HoXrEVVASOF6FK63VUAfhetRuH5VQEjhehSuh05AAAAAAADAXUC4HoXrURhTQB+F61G4vk5AZmZmZmY2U0DNzMzMzBxYQHsUrkfhWlNACtejcD2aUUApXI/C9bhUQArXo3A9GldArkfhehQ+VkCPwvUoXH9SQDMzMzMzc1tAw/UoXI+SU0AfhetRuC5WQBSuR+F61FVAcT0K16PwVUAzMzMzM7NZQGZmZmZmtlRAPQrXo3CNV0AzMzMzMwNgQI/C9Shc31JAZmZmZmbGWkDsUbgehYtTQGZmZmZmplxAmpmZmZmZXUCF61G4HrVTQKRwPQrXA1VASOF6FK4HWEBcj8L1KKxUQM3MzMzMHFRAMzMzMzNTXkCamZmZmTlhQB+F61G4rlhAhetRuB4VV0AAAAAAAFBUQDMzMzMzA2NAH4XrUbi+TkBI4XoUrgdQQK5H4XoU3lNAAAAAAADQUUDNzMzMzCxaQDMzMzMz81lApHA9CtcTU0AK16NwPapXQClcj8L1KFZAw/UoXI+SV0BxPQrXo1BYQHE9CtejMFJAMzMzMzMzXkAAAAAAAFBgQM3MzMzMHFVAcT0K16OgVEB7FK5H4fpNQAAAAAAAsGRAMzMzMzPTUUAfhetRuC5WQAAAAAAAgE9ApHA9CtdDS0Bcj8L1KNxVQFyPwvUovFNApHA9CteTVkCF61G4HnVTQClcj8L1+FJAPQrXo3DNUkBxPQrXo/BVQGZmZmZm1mBAw/UoXI+yUUCamZmZmTlhQOF6FK5HcVdASOF6FK4XU0A9CtejcP1HQOxRuB6FK0hAmpmZmZmpUkCkcD0K1/NXQM3MzMzMrFdAuB6F61E4VUDhehSuR3FWQFyPwvUozFVApHA9CtdTUEBmZmZmZnZQQGZmZmZmhk5AKVyPwvU4UUBxPQrXoyBRQI/C9Shc31FAZmZmZmZWVEDhehSuR4FNQAAAAAAAoFRAexSuR+FqUEAfhetRuC5QQOF6FK5HoU1AKVyPwvUYWEDhehSuR6FSQLgehetR2FZAexSuR+GqUUCamZmZmdlZQAAAAAAA4GFAAAAAAADAYUBmZmZmZmZgQDMzMzMzE1tAMzMzMzODYUD2KFyPwvVHQA==",
          "dtype": "f8"
         },
         "y": {
          "bdata": "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",
          "dtype": "f8"
         },
         "z": {
          "bdata": "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",
          "dtype": "f8"
         }
        }
       ],
       "layout": {
        "scene": {
         "xaxis": {
          "title": {
           "text": "perimeter_mean"
          }
         },
         "yaxis": {
          "title": {
           "text": "area_mean"
          }
         },
         "zaxis": {
          "title": {
           "text": "smoothness_mean"
          }
         }
        },
        "template": {
         "data": {
          "bar": [
           {
            "error_x": {
             "color": "#2a3f5f"
            },
            "error_y": {
             "color": "#2a3f5f"
            },
            "marker": {
             "line": {
              "color": "#E5ECF6",
              "width": 0.5
             },
             "pattern": {
              "fillmode": "overlay",
              "size": 10,
              "solidity": 0.2
             }
            },
            "type": "bar"
           }
          ],
          "barpolar": [
           {
            "marker": {
             "line": {
              "color": "#E5ECF6",
              "width": 0.5
             },
             "pattern": {
              "fillmode": "overlay",
              "size": 10,
              "solidity": 0.2
             }
            },
            "type": "barpolar"
           }
          ],
          "carpet": [
           {
            "aaxis": {
             "endlinecolor": "#2a3f5f",
             "gridcolor": "white",
             "linecolor": "white",
             "minorgridcolor": "white",
             "startlinecolor": "#2a3f5f"
            },
            "baxis": {
             "endlinecolor": "#2a3f5f",
             "gridcolor": "white",
             "linecolor": "white",
             "minorgridcolor": "white",
             "startlinecolor": "#2a3f5f"
            },
            "type": "carpet"
           }
          ],
          "choropleth": [
           {
            "colorbar": {
             "outlinewidth": 0,
             "ticks": ""
            },
            "type": "choropleth"
           }
          ],
          "contour": [
           {
            "colorbar": {
             "outlinewidth": 0,
             "ticks": ""
            },
            "colorscale": [
             [
              0,
              "#0d0887"
             ],
             [
              0.1111111111111111,
              "#46039f"
             ],
             [
              0.2222222222222222,
              "#7201a8"
             ],
             [
              0.3333333333333333,
              "#9c179e"
             ],
             [
              0.4444444444444444,
              "#bd3786"
             ],
             [
              0.5555555555555556,
              "#d8576b"
             ],
             [
              0.6666666666666666,
              "#ed7953"
             ],
             [
              0.7777777777777778,
              "#fb9f3a"
             ],
             [
              0.8888888888888888,
              "#fdca26"
             ],
             [
              1,
              "#f0f921"
             ]
            ],
            "type": "contour"
           }
          ],
          "contourcarpet": [
           {
            "colorbar": {
             "outlinewidth": 0,
             "ticks": ""
            },
            "type": "contourcarpet"
           }
          ],
          "heatmap": [
           {
            "colorbar": {
             "outlinewidth": 0,
             "ticks": ""
            },
            "colorscale": [
             [
              0,
              "#0d0887"
             ],
             [
              0.1111111111111111,
              "#46039f"
             ],
             [
              0.2222222222222222,
              "#7201a8"
             ],
             [
              0.3333333333333333,
              "#9c179e"
             ],
             [
              0.4444444444444444,
              "#bd3786"
             ],
             [
              0.5555555555555556,
              "#d8576b"
             ],
             [
              0.6666666666666666,
              "#ed7953"
             ],
             [
              0.7777777777777778,
              "#fb9f3a"
             ],
             [
              0.8888888888888888,
              "#fdca26"
             ],
             [
              1,
              "#f0f921"
             ]
            ],
            "type": "heatmap"
           }
          ],
          "histogram": [
           {
            "marker": {
             "pattern": {
              "fillmode": "overlay",
              "size": 10,
              "solidity": 0.2
             }
            },
            "type": "histogram"
           }
          ],
          "histogram2d": [
           {
            "colorbar": {
             "outlinewidth": 0,
             "ticks": ""
            },
            "colorscale": [
             [
              0,
              "#0d0887"
             ],
             [
              0.1111111111111111,
              "#46039f"
             ],
             [
              0.2222222222222222,
              "#7201a8"
             ],
             [
              0.3333333333333333,
              "#9c179e"
             ],
             [
              0.4444444444444444,
              "#bd3786"
             ],
             [
              0.5555555555555556,
              "#d8576b"
             ],
             [
              0.6666666666666666,
              "#ed7953"
             ],
             [
              0.7777777777777778,
              "#fb9f3a"
             ],
             [
              0.8888888888888888,
              "#fdca26"
             ],
             [
              1,
              "#f0f921"
             ]
            ],
            "type": "histogram2d"
           }
          ],
          "histogram2dcontour": [
           {
            "colorbar": {
             "outlinewidth": 0,
             "ticks": ""
            },
            "colorscale": [
             [
              0,
              "#0d0887"
             ],
             [
              0.1111111111111111,
              "#46039f"
             ],
             [
              0.2222222222222222,
              "#7201a8"
             ],
             [
              0.3333333333333333,
              "#9c179e"
             ],
             [
              0.4444444444444444,
              "#bd3786"
             ],
             [
              0.5555555555555556,
              "#d8576b"
             ],
             [
              0.6666666666666666,
              "#ed7953"
             ],
             [
              0.7777777777777778,
              "#fb9f3a"
             ],
             [
              0.8888888888888888,
              "#fdca26"
             ],
             [
              1,
              "#f0f921"
             ]
            ],
            "type": "histogram2dcontour"
           }
          ],
          "mesh3d": [
           {
            "colorbar": {
             "outlinewidth": 0,
             "ticks": ""
            },
            "type": "mesh3d"
           }
          ],
          "parcoords": [
           {
            "line": {
             "colorbar": {
              "outlinewidth": 0,
              "ticks": ""
             }
            },
            "type": "parcoords"
           }
          ],
          "pie": [
           {
            "automargin": true,
            "type": "pie"
           }
          ],
          "scatter": [
           {
            "fillpattern": {
             "fillmode": "overlay",
             "size": 10,
             "solidity": 0.2
            },
            "type": "scatter"
           }
          ],
          "scatter3d": [
           {
            "line": {
             "colorbar": {
              "outlinewidth": 0,
              "ticks": ""
             }
            },
            "marker": {
             "colorbar": {
              "outlinewidth": 0,
              "ticks": ""
             }
            },
            "type": "scatter3d"
           }
          ],
          "scattercarpet": [
           {
            "marker": {
             "colorbar": {
              "outlinewidth": 0,
              "ticks": ""
             }
            },
            "type": "scattercarpet"
           }
          ],
          "scattergeo": [
           {
            "marker": {
             "colorbar": {
              "outlinewidth": 0,
              "ticks": ""
             }
            },
            "type": "scattergeo"
           }
          ],
          "scattergl": [
           {
            "marker": {
             "colorbar": {
              "outlinewidth": 0,
              "ticks": ""
             }
            },
            "type": "scattergl"
           }
          ],
          "scattermap": [
           {
            "marker": {
             "colorbar": {
              "outlinewidth": 0,
              "ticks": ""
             }
            },
            "type": "scattermap"
           }
          ],
          "scattermapbox": [
           {
            "marker": {
             "colorbar": {
              "outlinewidth": 0,
              "ticks": ""
             }
            },
            "type": "scattermapbox"
           }
          ],
          "scatterpolar": [
           {
            "marker": {
             "colorbar": {
              "outlinewidth": 0,
              "ticks": ""
             }
            },
            "type": "scatterpolar"
           }
          ],
          "scatterpolargl": [
           {
            "marker": {
             "colorbar": {
              "outlinewidth": 0,
              "ticks": ""
             }
            },
            "type": "scatterpolargl"
           }
          ],
          "scatterternary": [
           {
            "marker": {
             "colorbar": {
              "outlinewidth": 0,
              "ticks": ""
             }
            },
            "type": "scatterternary"
           }
          ],
          "surface": [
           {
            "colorbar": {
             "outlinewidth": 0,
             "ticks": ""
            },
            "colorscale": [
             [
              0,
              "#0d0887"
             ],
             [
              0.1111111111111111,
              "#46039f"
             ],
             [
              0.2222222222222222,
              "#7201a8"
             ],
             [
              0.3333333333333333,
              "#9c179e"
             ],
             [
              0.4444444444444444,
              "#bd3786"
             ],
             [
              0.5555555555555556,
              "#d8576b"
             ],
             [
              0.6666666666666666,
              "#ed7953"
             ],
             [
              0.7777777777777778,
              "#fb9f3a"
             ],
             [
              0.8888888888888888,
              "#fdca26"
             ],
             [
              1,
              "#f0f921"
             ]
            ],
            "type": "surface"
           }
          ],
          "table": [
           {
            "cells": {
             "fill": {
              "color": "#EBF0F8"
             },
             "line": {
              "color": "white"
             }
            },
            "header": {
             "fill": {
              "color": "#C8D4E3"
             },
             "line": {
              "color": "white"
             }
            },
            "type": "table"
           }
          ]
         },
         "layout": {
          "annotationdefaults": {
           "arrowcolor": "#2a3f5f",
           "arrowhead": 0,
           "arrowwidth": 1
          },
          "autotypenumbers": "strict",
          "coloraxis": {
           "colorbar": {
            "outlinewidth": 0,
            "ticks": ""
           }
          },
          "colorscale": {
           "diverging": [
            [
             0,
             "#8e0152"
            ],
            [
             0.1,
             "#c51b7d"
            ],
            [
             0.2,
             "#de77ae"
            ],
            [
             0.3,
             "#f1b6da"
            ],
            [
             0.4,
             "#fde0ef"
            ],
            [
             0.5,
             "#f7f7f7"
            ],
            [
             0.6,
             "#e6f5d0"
            ],
            [
             0.7,
             "#b8e186"
            ],
            [
             0.8,
             "#7fbc41"
            ],
            [
             0.9,
             "#4d9221"
            ],
            [
             1,
             "#276419"
            ]
           ],
           "sequential": [
            [
             0,
             "#0d0887"
            ],
            [
             0.1111111111111111,
             "#46039f"
            ],
            [
             0.2222222222222222,
             "#7201a8"
            ],
            [
             0.3333333333333333,
             "#9c179e"
            ],
            [
             0.4444444444444444,
             "#bd3786"
            ],
            [
             0.5555555555555556,
             "#d8576b"
            ],
            [
             0.6666666666666666,
             "#ed7953"
            ],
            [
             0.7777777777777778,
             "#fb9f3a"
            ],
            [
             0.8888888888888888,
             "#fdca26"
            ],
            [
             1,
             "#f0f921"
            ]
           ],
           "sequentialminus": [
            [
             0,
             "#0d0887"
            ],
            [
             0.1111111111111111,
             "#46039f"
            ],
            [
             0.2222222222222222,
             "#7201a8"
            ],
            [
             0.3333333333333333,
             "#9c179e"
            ],
            [
             0.4444444444444444,
             "#bd3786"
            ],
            [
             0.5555555555555556,
             "#d8576b"
            ],
            [
             0.6666666666666666,
             "#ed7953"
            ],
            [
             0.7777777777777778,
             "#fb9f3a"
            ],
            [
             0.8888888888888888,
             "#fdca26"
            ],
            [
             1,
             "#f0f921"
            ]
           ]
          },
          "colorway": [
           "#636efa",
           "#EF553B",
           "#00cc96",
           "#ab63fa",
           "#FFA15A",
           "#19d3f3",
           "#FF6692",
           "#B6E880",
           "#FF97FF",
           "#FECB52"
          ],
          "font": {
           "color": "#2a3f5f"
          },
          "geo": {
           "bgcolor": "white",
           "lakecolor": "white",
           "landcolor": "#E5ECF6",
           "showlakes": true,
           "showland": true,
           "subunitcolor": "white"
          },
          "hoverlabel": {
           "align": "left"
          },
          "hovermode": "closest",
          "mapbox": {
           "style": "light"
          },
          "paper_bgcolor": "white",
          "plot_bgcolor": "#E5ECF6",
          "polar": {
           "angularaxis": {
            "gridcolor": "white",
            "linecolor": "white",
            "ticks": ""
           },
           "bgcolor": "#E5ECF6",
           "radialaxis": {
            "gridcolor": "white",
            "linecolor": "white",
            "ticks": ""
           }
          },
          "scene": {
           "xaxis": {
            "backgroundcolor": "#E5ECF6",
            "gridcolor": "white",
            "gridwidth": 2,
            "linecolor": "white",
            "showbackground": true,
            "ticks": "",
            "zerolinecolor": "white"
           },
           "yaxis": {
            "backgroundcolor": "#E5ECF6",
            "gridcolor": "white",
            "gridwidth": 2,
            "linecolor": "white",
            "showbackground": true,
            "ticks": "",
            "zerolinecolor": "white"
           },
           "zaxis": {
            "backgroundcolor": "#E5ECF6",
            "gridcolor": "white",
            "gridwidth": 2,
            "linecolor": "white",
            "showbackground": true,
            "ticks": "",
            "zerolinecolor": "white"
           }
          },
          "shapedefaults": {
           "line": {
            "color": "#2a3f5f"
           }
          },
          "ternary": {
           "aaxis": {
            "gridcolor": "white",
            "linecolor": "white",
            "ticks": ""
           },
           "baxis": {
            "gridcolor": "white",
            "linecolor": "white",
            "ticks": ""
           },
           "bgcolor": "#E5ECF6",
           "caxis": {
            "gridcolor": "white",
            "linecolor": "white",
            "ticks": ""
           }
          },
          "title": {
           "x": 0.05
          },
          "xaxis": {
           "automargin": true,
           "gridcolor": "white",
           "linecolor": "white",
           "ticks": "",
           "title": {
            "standoff": 15
           },
           "zerolinecolor": "white",
           "zerolinewidth": 2
          },
          "yaxis": {
           "automargin": true,
           "gridcolor": "white",
           "linecolor": "white",
           "ticks": "",
           "title": {
            "standoff": 15
           },
           "zerolinecolor": "white",
           "zerolinewidth": 2
          }
         }
        },
        "title": {
         "text": "Original Data Plot"
        }
       }
      }
     },
     "metadata": {},
     "output_type": "display_data"
    }
   ],
   "source": [
    "import plotly.graph_objects as go\n",
    "# Create an interactive 3D figure\n",
    "fig = go.Figure()\n",
    "\n",
    "# Add scatter trace for actual points\n",
    "fig.add_trace(go.Scatter3d(\n",
    "    x=df[selected_features[0]],\n",
    "    y=df[selected_features[1]],\n",
    "    z=df[selected_features[2]],\n",
    "    mode='markers',\n",
    "    marker=dict(size=5, color='blue'),\n",
    "    name='Actual'\n",
    "))\n",
    "\n",
    "\n",
    "# Update layout with axis labels and title\n",
    "fig.update_layout(\n",
    "    title='Original Data Plot',\n",
    "    scene=dict(\n",
    "        xaxis_title=selected_features[0],\n",
    "        yaxis_title=selected_features[1],\n",
    "        zaxis_title=selected_features[2]\n",
    "    )\n",
    ")\n",
    "fig.show()\n"
   ]
  },
  {
   "cell_type": "code",
   "execution_count": 8,
   "id": "953aa572",
   "metadata": {
    "execution": {
     "iopub.execute_input": "2022-12-28T07:09:14.904648Z",
     "iopub.status.busy": "2022-12-28T07:09:14.904244Z",
     "iopub.status.idle": "2022-12-28T07:09:14.914528Z",
     "shell.execute_reply": "2022-12-28T07:09:14.913020Z"
    },
    "papermill": {
     "duration": 0.021789,
     "end_time": "2022-12-28T07:09:14.917035",
     "exception": false,
     "start_time": "2022-12-28T07:09:14.895246",
     "status": "completed"
    },
    "tags": []
   },
   "outputs": [
    {
     "data": {
      "text/plain": [
       "array([1, 1, 1, 1, 1, 1, 1, 1, 1, 1, 1, 1, 1, 1, 1, 1, 1, 1, 1, 0, 0, 0,\n",
       "       1, 1, 1, 1, 1, 1, 1, 1, 1, 1, 1, 1, 1, 1, 1, 0, 1, 1, 1, 1, 1, 1,\n",
       "       1, 1, 0, 1, 0, 0, 0, 0, 0, 1, 1, 0, 1, 1, 0, 0, 0, 0, 1, 0, 1, 1,\n",
       "       0, 0, 0, 0, 1, 0, 1, 1, 0, 1, 0, 1, 1, 0, 0, 0, 1, 1, 0, 1, 1, 1,\n",
       "       0, 0, 0, 1, 0, 0, 1, 1, 0, 0, 0, 1, 1, 0, 0, 0, 0, 1, 0, 0, 1, 0,\n",
       "       0, 0, 0, 0, 0, 0, 0, 1, 1, 1, 0, 1, 1, 0, 0, 0, 1, 1, 0, 1, 0, 1,\n",
       "       1, 0, 1, 1, 0, 0, 1, 0, 0, 1, 0, 0, 0, 0, 1, 0, 0, 0, 0, 0, 0, 0,\n",
       "       0, 0, 1, 0, 0, 0, 0, 1, 1, 0, 1, 0, 0, 1, 1, 0, 0, 1, 1, 0, 0, 0,\n",
       "       0, 1, 0, 0, 1, 1, 1, 0, 1, 0, 1, 0, 0, 0, 1, 0, 0, 1, 1, 0, 1, 1,\n",
       "       1, 1, 0, 1, 1, 1, 0, 1, 0, 1, 0, 0, 1, 0, 1, 1, 1, 1, 0, 0, 1, 1,\n",
       "       0, 0, 0, 1, 0, 0, 0, 0, 0, 1, 1, 0, 0, 1, 0, 0, 1, 1, 0, 1, 0, 0,\n",
       "       0, 0, 1, 0, 0, 0, 0, 0, 1, 0, 1, 1, 1, 1, 1, 1, 1, 1, 1, 1, 1, 1,\n",
       "       1, 1, 0, 0, 0, 0, 0, 0, 1, 0, 1, 0, 0, 1, 0, 0, 1, 0, 1, 1, 0, 0,\n",
       "       0, 0, 0, 0, 0, 0, 0, 0, 0, 0, 0, 1, 0, 0, 1, 0, 1, 0, 0, 0, 0, 0,\n",
       "       0, 0, 0, 0, 0, 0, 0, 0, 0, 1, 0, 0, 0, 1, 0, 1, 0, 0, 0, 0, 1, 1,\n",
       "       1, 0, 0, 0, 0, 1, 0, 1, 0, 1, 0, 0, 0, 1, 0, 0, 0, 0, 0, 0, 0, 1,\n",
       "       1, 1, 0, 0, 0, 0, 0, 0, 0, 0, 0, 0, 0, 1, 1, 0, 1, 1, 1, 0, 1, 1,\n",
       "       0, 0, 0, 0, 0, 1, 0, 0, 0, 0, 0, 1, 0, 0, 0, 1, 0, 0, 1, 1, 0, 0,\n",
       "       0, 0, 0, 0, 1, 0, 0, 0, 0, 0, 0, 0, 1, 0, 0, 0, 0, 0, 1, 0, 0, 1,\n",
       "       0, 0, 0, 0, 0, 0, 0, 0, 0, 0, 0, 0, 1, 0, 1, 1, 0, 1, 0, 0, 0, 0,\n",
       "       0, 1, 0, 0, 1, 0, 1, 0, 0, 1, 0, 1, 0, 0, 0, 0, 0, 0, 0, 0, 1, 1,\n",
       "       0, 0, 0, 0, 0, 0, 1, 0, 0, 0, 0, 0, 0, 0, 0, 0, 0, 1, 0, 0, 0, 0,\n",
       "       0, 0, 0, 1, 0, 1, 0, 0, 1, 0, 0, 0, 0, 0, 1, 1, 0, 1, 0, 1, 0, 0,\n",
       "       0, 0, 0, 1, 0, 0, 1, 0, 1, 0, 1, 1, 0, 0, 0, 1, 0, 0, 0, 0, 0, 0,\n",
       "       0, 0, 0, 0, 0, 1, 0, 1, 1, 0, 0, 0, 0, 0, 0, 0, 0, 0, 0, 0, 0, 0,\n",
       "       0, 0, 0, 0, 0, 0, 0, 0, 0, 0, 0, 0, 1, 1, 1, 1, 1, 1, 0],\n",
       "      dtype=int64)"
      ]
     },
     "execution_count": 8,
     "metadata": {},
     "output_type": "execute_result"
    }
   ],
   "source": [
    "y"
   ]
  },
  {
   "cell_type": "code",
   "execution_count": 9,
   "id": "eb0017bc",
   "metadata": {
    "execution": {
     "iopub.execute_input": "2022-12-28T07:09:14.934503Z",
     "iopub.status.busy": "2022-12-28T07:09:14.933500Z",
     "iopub.status.idle": "2022-12-28T07:09:14.973230Z",
     "shell.execute_reply": "2022-12-28T07:09:14.972013Z"
    },
    "papermill": {
     "duration": 0.051938,
     "end_time": "2022-12-28T07:09:14.976538",
     "exception": false,
     "start_time": "2022-12-28T07:09:14.924600",
     "status": "completed"
    },
    "tags": []
   },
   "outputs": [
    {
     "data": {
      "text/html": [
       "<div>\n",
       "<style scoped>\n",
       "    .dataframe tbody tr th:only-of-type {\n",
       "        vertical-align: middle;\n",
       "    }\n",
       "\n",
       "    .dataframe tbody tr th {\n",
       "        vertical-align: top;\n",
       "    }\n",
       "\n",
       "    .dataframe thead th {\n",
       "        text-align: right;\n",
       "    }\n",
       "</style>\n",
       "<table border=\"1\" class=\"dataframe\">\n",
       "  <thead>\n",
       "    <tr style=\"text-align: right;\">\n",
       "      <th></th>\n",
       "      <th>perimeter_mean</th>\n",
       "      <th>area_mean</th>\n",
       "      <th>smoothness_mean</th>\n",
       "    </tr>\n",
       "  </thead>\n",
       "  <tbody>\n",
       "    <tr>\n",
       "      <th>0</th>\n",
       "      <td>0.049080</td>\n",
       "      <td>0.400227</td>\n",
       "      <td>0.000026</td>\n",
       "    </tr>\n",
       "    <tr>\n",
       "      <th>1</th>\n",
       "      <td>0.053119</td>\n",
       "      <td>0.530178</td>\n",
       "      <td>0.000013</td>\n",
       "    </tr>\n",
       "    <tr>\n",
       "      <th>2</th>\n",
       "      <td>0.051959</td>\n",
       "      <td>0.480997</td>\n",
       "      <td>0.000023</td>\n",
       "    </tr>\n",
       "    <tr>\n",
       "      <th>3</th>\n",
       "      <td>0.030999</td>\n",
       "      <td>0.154360</td>\n",
       "      <td>0.000036</td>\n",
       "    </tr>\n",
       "    <tr>\n",
       "      <th>4</th>\n",
       "      <td>0.053998</td>\n",
       "      <td>0.518582</td>\n",
       "      <td>0.000019</td>\n",
       "    </tr>\n",
       "    <tr>\n",
       "      <th>...</th>\n",
       "      <td>...</td>\n",
       "      <td>...</td>\n",
       "      <td>...</td>\n",
       "    </tr>\n",
       "    <tr>\n",
       "      <th>564</th>\n",
       "      <td>0.056757</td>\n",
       "      <td>0.591355</td>\n",
       "      <td>0.000023</td>\n",
       "    </tr>\n",
       "    <tr>\n",
       "      <th>565</th>\n",
       "      <td>0.052439</td>\n",
       "      <td>0.504188</td>\n",
       "      <td>0.000018</td>\n",
       "    </tr>\n",
       "    <tr>\n",
       "      <th>566</th>\n",
       "      <td>0.043283</td>\n",
       "      <td>0.343089</td>\n",
       "      <td>0.000013</td>\n",
       "    </tr>\n",
       "    <tr>\n",
       "      <th>567</th>\n",
       "      <td>0.055998</td>\n",
       "      <td>0.505787</td>\n",
       "      <td>0.000026</td>\n",
       "    </tr>\n",
       "    <tr>\n",
       "      <th>568</th>\n",
       "      <td>0.019140</td>\n",
       "      <td>0.072352</td>\n",
       "      <td>0.000000</td>\n",
       "    </tr>\n",
       "  </tbody>\n",
       "</table>\n",
       "<p>569 rows × 3 columns</p>\n",
       "</div>"
      ],
      "text/plain": [
       "     perimeter_mean  area_mean  smoothness_mean\n",
       "0          0.049080   0.400227         0.000026\n",
       "1          0.053119   0.530178         0.000013\n",
       "2          0.051959   0.480997         0.000023\n",
       "3          0.030999   0.154360         0.000036\n",
       "4          0.053998   0.518582         0.000019\n",
       "..              ...        ...              ...\n",
       "564        0.056757   0.591355         0.000023\n",
       "565        0.052439   0.504188         0.000018\n",
       "566        0.043283   0.343089         0.000013\n",
       "567        0.055998   0.505787         0.000026\n",
       "568        0.019140   0.072352         0.000000\n",
       "\n",
       "[569 rows x 3 columns]"
      ]
     },
     "execution_count": 9,
     "metadata": {},
     "output_type": "execute_result"
    }
   ],
   "source": [
    "# normalization(Adjusting the range from 0 to 1)\n",
    "\n",
    "x=(x_data-np.min(x_data))/(np.max(x_data)-np.min(x_data))\n",
    "x"
   ]
  },
  {
   "cell_type": "markdown",
   "id": "b17595c3",
   "metadata": {
    "papermill": {
     "duration": 0.009052,
     "end_time": "2022-12-28T07:09:17.654046",
     "exception": false,
     "start_time": "2022-12-28T07:09:17.644994",
     "status": "completed"
    },
    "tags": []
   },
   "source": [
    "# SUPPORT VECTOR MACHINE CLASSIFICATION (SVM) \n"
   ]
  },
  {
   "cell_type": "code",
   "execution_count": 10,
   "id": "1d3948bb",
   "metadata": {},
   "outputs": [],
   "source": [
    "from sklearn.model_selection import train_test_split\n",
    "x_train,x_test,y_train,y_test=train_test_split(x,y,test_size=0.3,random_state=1)"
   ]
  },
  {
   "cell_type": "code",
   "execution_count": 11,
   "id": "71273d8a",
   "metadata": {
    "execution": {
     "iopub.execute_input": "2022-12-28T07:09:17.674737Z",
     "iopub.status.busy": "2022-12-28T07:09:17.674055Z",
     "iopub.status.idle": "2022-12-28T07:09:17.692732Z",
     "shell.execute_reply": "2022-12-28T07:09:17.691666Z"
    },
    "papermill": {
     "duration": 0.032048,
     "end_time": "2022-12-28T07:09:17.695376",
     "exception": false,
     "start_time": "2022-12-28T07:09:17.663328",
     "status": "completed"
    },
    "tags": []
   },
   "outputs": [
    {
     "data": {
      "text/html": [
       "<style>#sk-container-id-1 {\n",
       "  /* Definition of color scheme common for light and dark mode */\n",
       "  --sklearn-color-text: #000;\n",
       "  --sklearn-color-text-muted: #666;\n",
       "  --sklearn-color-line: gray;\n",
       "  /* Definition of color scheme for unfitted estimators */\n",
       "  --sklearn-color-unfitted-level-0: #fff5e6;\n",
       "  --sklearn-color-unfitted-level-1: #f6e4d2;\n",
       "  --sklearn-color-unfitted-level-2: #ffe0b3;\n",
       "  --sklearn-color-unfitted-level-3: chocolate;\n",
       "  /* Definition of color scheme for fitted estimators */\n",
       "  --sklearn-color-fitted-level-0: #f0f8ff;\n",
       "  --sklearn-color-fitted-level-1: #d4ebff;\n",
       "  --sklearn-color-fitted-level-2: #b3dbfd;\n",
       "  --sklearn-color-fitted-level-3: cornflowerblue;\n",
       "\n",
       "  /* Specific color for light theme */\n",
       "  --sklearn-color-text-on-default-background: var(--sg-text-color, var(--theme-code-foreground, var(--jp-content-font-color1, black)));\n",
       "  --sklearn-color-background: var(--sg-background-color, var(--theme-background, var(--jp-layout-color0, white)));\n",
       "  --sklearn-color-border-box: var(--sg-text-color, var(--theme-code-foreground, var(--jp-content-font-color1, black)));\n",
       "  --sklearn-color-icon: #696969;\n",
       "\n",
       "  @media (prefers-color-scheme: dark) {\n",
       "    /* Redefinition of color scheme for dark theme */\n",
       "    --sklearn-color-text-on-default-background: var(--sg-text-color, var(--theme-code-foreground, var(--jp-content-font-color1, white)));\n",
       "    --sklearn-color-background: var(--sg-background-color, var(--theme-background, var(--jp-layout-color0, #111)));\n",
       "    --sklearn-color-border-box: var(--sg-text-color, var(--theme-code-foreground, var(--jp-content-font-color1, white)));\n",
       "    --sklearn-color-icon: #878787;\n",
       "  }\n",
       "}\n",
       "\n",
       "#sk-container-id-1 {\n",
       "  color: var(--sklearn-color-text);\n",
       "}\n",
       "\n",
       "#sk-container-id-1 pre {\n",
       "  padding: 0;\n",
       "}\n",
       "\n",
       "#sk-container-id-1 input.sk-hidden--visually {\n",
       "  border: 0;\n",
       "  clip: rect(1px 1px 1px 1px);\n",
       "  clip: rect(1px, 1px, 1px, 1px);\n",
       "  height: 1px;\n",
       "  margin: -1px;\n",
       "  overflow: hidden;\n",
       "  padding: 0;\n",
       "  position: absolute;\n",
       "  width: 1px;\n",
       "}\n",
       "\n",
       "#sk-container-id-1 div.sk-dashed-wrapped {\n",
       "  border: 1px dashed var(--sklearn-color-line);\n",
       "  margin: 0 0.4em 0.5em 0.4em;\n",
       "  box-sizing: border-box;\n",
       "  padding-bottom: 0.4em;\n",
       "  background-color: var(--sklearn-color-background);\n",
       "}\n",
       "\n",
       "#sk-container-id-1 div.sk-container {\n",
       "  /* jupyter's `normalize.less` sets `[hidden] { display: none; }`\n",
       "     but bootstrap.min.css set `[hidden] { display: none !important; }`\n",
       "     so we also need the `!important` here to be able to override the\n",
       "     default hidden behavior on the sphinx rendered scikit-learn.org.\n",
       "     See: https://github.com/scikit-learn/scikit-learn/issues/21755 */\n",
       "  display: inline-block !important;\n",
       "  position: relative;\n",
       "}\n",
       "\n",
       "#sk-container-id-1 div.sk-text-repr-fallback {\n",
       "  display: none;\n",
       "}\n",
       "\n",
       "div.sk-parallel-item,\n",
       "div.sk-serial,\n",
       "div.sk-item {\n",
       "  /* draw centered vertical line to link estimators */\n",
       "  background-image: linear-gradient(var(--sklearn-color-text-on-default-background), var(--sklearn-color-text-on-default-background));\n",
       "  background-size: 2px 100%;\n",
       "  background-repeat: no-repeat;\n",
       "  background-position: center center;\n",
       "}\n",
       "\n",
       "/* Parallel-specific style estimator block */\n",
       "\n",
       "#sk-container-id-1 div.sk-parallel-item::after {\n",
       "  content: \"\";\n",
       "  width: 100%;\n",
       "  border-bottom: 2px solid var(--sklearn-color-text-on-default-background);\n",
       "  flex-grow: 1;\n",
       "}\n",
       "\n",
       "#sk-container-id-1 div.sk-parallel {\n",
       "  display: flex;\n",
       "  align-items: stretch;\n",
       "  justify-content: center;\n",
       "  background-color: var(--sklearn-color-background);\n",
       "  position: relative;\n",
       "}\n",
       "\n",
       "#sk-container-id-1 div.sk-parallel-item {\n",
       "  display: flex;\n",
       "  flex-direction: column;\n",
       "}\n",
       "\n",
       "#sk-container-id-1 div.sk-parallel-item:first-child::after {\n",
       "  align-self: flex-end;\n",
       "  width: 50%;\n",
       "}\n",
       "\n",
       "#sk-container-id-1 div.sk-parallel-item:last-child::after {\n",
       "  align-self: flex-start;\n",
       "  width: 50%;\n",
       "}\n",
       "\n",
       "#sk-container-id-1 div.sk-parallel-item:only-child::after {\n",
       "  width: 0;\n",
       "}\n",
       "\n",
       "/* Serial-specific style estimator block */\n",
       "\n",
       "#sk-container-id-1 div.sk-serial {\n",
       "  display: flex;\n",
       "  flex-direction: column;\n",
       "  align-items: center;\n",
       "  background-color: var(--sklearn-color-background);\n",
       "  padding-right: 1em;\n",
       "  padding-left: 1em;\n",
       "}\n",
       "\n",
       "\n",
       "/* Toggleable style: style used for estimator/Pipeline/ColumnTransformer box that is\n",
       "clickable and can be expanded/collapsed.\n",
       "- Pipeline and ColumnTransformer use this feature and define the default style\n",
       "- Estimators will overwrite some part of the style using the `sk-estimator` class\n",
       "*/\n",
       "\n",
       "/* Pipeline and ColumnTransformer style (default) */\n",
       "\n",
       "#sk-container-id-1 div.sk-toggleable {\n",
       "  /* Default theme specific background. It is overwritten whether we have a\n",
       "  specific estimator or a Pipeline/ColumnTransformer */\n",
       "  background-color: var(--sklearn-color-background);\n",
       "}\n",
       "\n",
       "/* Toggleable label */\n",
       "#sk-container-id-1 label.sk-toggleable__label {\n",
       "  cursor: pointer;\n",
       "  display: flex;\n",
       "  width: 100%;\n",
       "  margin-bottom: 0;\n",
       "  padding: 0.5em;\n",
       "  box-sizing: border-box;\n",
       "  text-align: center;\n",
       "  align-items: start;\n",
       "  justify-content: space-between;\n",
       "  gap: 0.5em;\n",
       "}\n",
       "\n",
       "#sk-container-id-1 label.sk-toggleable__label .caption {\n",
       "  font-size: 0.6rem;\n",
       "  font-weight: lighter;\n",
       "  color: var(--sklearn-color-text-muted);\n",
       "}\n",
       "\n",
       "#sk-container-id-1 label.sk-toggleable__label-arrow:before {\n",
       "  /* Arrow on the left of the label */\n",
       "  content: \"▸\";\n",
       "  float: left;\n",
       "  margin-right: 0.25em;\n",
       "  color: var(--sklearn-color-icon);\n",
       "}\n",
       "\n",
       "#sk-container-id-1 label.sk-toggleable__label-arrow:hover:before {\n",
       "  color: var(--sklearn-color-text);\n",
       "}\n",
       "\n",
       "/* Toggleable content - dropdown */\n",
       "\n",
       "#sk-container-id-1 div.sk-toggleable__content {\n",
       "  max-height: 0;\n",
       "  max-width: 0;\n",
       "  overflow: hidden;\n",
       "  text-align: left;\n",
       "  /* unfitted */\n",
       "  background-color: var(--sklearn-color-unfitted-level-0);\n",
       "}\n",
       "\n",
       "#sk-container-id-1 div.sk-toggleable__content.fitted {\n",
       "  /* fitted */\n",
       "  background-color: var(--sklearn-color-fitted-level-0);\n",
       "}\n",
       "\n",
       "#sk-container-id-1 div.sk-toggleable__content pre {\n",
       "  margin: 0.2em;\n",
       "  border-radius: 0.25em;\n",
       "  color: var(--sklearn-color-text);\n",
       "  /* unfitted */\n",
       "  background-color: var(--sklearn-color-unfitted-level-0);\n",
       "}\n",
       "\n",
       "#sk-container-id-1 div.sk-toggleable__content.fitted pre {\n",
       "  /* unfitted */\n",
       "  background-color: var(--sklearn-color-fitted-level-0);\n",
       "}\n",
       "\n",
       "#sk-container-id-1 input.sk-toggleable__control:checked~div.sk-toggleable__content {\n",
       "  /* Expand drop-down */\n",
       "  max-height: 200px;\n",
       "  max-width: 100%;\n",
       "  overflow: auto;\n",
       "}\n",
       "\n",
       "#sk-container-id-1 input.sk-toggleable__control:checked~label.sk-toggleable__label-arrow:before {\n",
       "  content: \"▾\";\n",
       "}\n",
       "\n",
       "/* Pipeline/ColumnTransformer-specific style */\n",
       "\n",
       "#sk-container-id-1 div.sk-label input.sk-toggleable__control:checked~label.sk-toggleable__label {\n",
       "  color: var(--sklearn-color-text);\n",
       "  background-color: var(--sklearn-color-unfitted-level-2);\n",
       "}\n",
       "\n",
       "#sk-container-id-1 div.sk-label.fitted input.sk-toggleable__control:checked~label.sk-toggleable__label {\n",
       "  background-color: var(--sklearn-color-fitted-level-2);\n",
       "}\n",
       "\n",
       "/* Estimator-specific style */\n",
       "\n",
       "/* Colorize estimator box */\n",
       "#sk-container-id-1 div.sk-estimator input.sk-toggleable__control:checked~label.sk-toggleable__label {\n",
       "  /* unfitted */\n",
       "  background-color: var(--sklearn-color-unfitted-level-2);\n",
       "}\n",
       "\n",
       "#sk-container-id-1 div.sk-estimator.fitted input.sk-toggleable__control:checked~label.sk-toggleable__label {\n",
       "  /* fitted */\n",
       "  background-color: var(--sklearn-color-fitted-level-2);\n",
       "}\n",
       "\n",
       "#sk-container-id-1 div.sk-label label.sk-toggleable__label,\n",
       "#sk-container-id-1 div.sk-label label {\n",
       "  /* The background is the default theme color */\n",
       "  color: var(--sklearn-color-text-on-default-background);\n",
       "}\n",
       "\n",
       "/* On hover, darken the color of the background */\n",
       "#sk-container-id-1 div.sk-label:hover label.sk-toggleable__label {\n",
       "  color: var(--sklearn-color-text);\n",
       "  background-color: var(--sklearn-color-unfitted-level-2);\n",
       "}\n",
       "\n",
       "/* Label box, darken color on hover, fitted */\n",
       "#sk-container-id-1 div.sk-label.fitted:hover label.sk-toggleable__label.fitted {\n",
       "  color: var(--sklearn-color-text);\n",
       "  background-color: var(--sklearn-color-fitted-level-2);\n",
       "}\n",
       "\n",
       "/* Estimator label */\n",
       "\n",
       "#sk-container-id-1 div.sk-label label {\n",
       "  font-family: monospace;\n",
       "  font-weight: bold;\n",
       "  display: inline-block;\n",
       "  line-height: 1.2em;\n",
       "}\n",
       "\n",
       "#sk-container-id-1 div.sk-label-container {\n",
       "  text-align: center;\n",
       "}\n",
       "\n",
       "/* Estimator-specific */\n",
       "#sk-container-id-1 div.sk-estimator {\n",
       "  font-family: monospace;\n",
       "  border: 1px dotted var(--sklearn-color-border-box);\n",
       "  border-radius: 0.25em;\n",
       "  box-sizing: border-box;\n",
       "  margin-bottom: 0.5em;\n",
       "  /* unfitted */\n",
       "  background-color: var(--sklearn-color-unfitted-level-0);\n",
       "}\n",
       "\n",
       "#sk-container-id-1 div.sk-estimator.fitted {\n",
       "  /* fitted */\n",
       "  background-color: var(--sklearn-color-fitted-level-0);\n",
       "}\n",
       "\n",
       "/* on hover */\n",
       "#sk-container-id-1 div.sk-estimator:hover {\n",
       "  /* unfitted */\n",
       "  background-color: var(--sklearn-color-unfitted-level-2);\n",
       "}\n",
       "\n",
       "#sk-container-id-1 div.sk-estimator.fitted:hover {\n",
       "  /* fitted */\n",
       "  background-color: var(--sklearn-color-fitted-level-2);\n",
       "}\n",
       "\n",
       "/* Specification for estimator info (e.g. \"i\" and \"?\") */\n",
       "\n",
       "/* Common style for \"i\" and \"?\" */\n",
       "\n",
       ".sk-estimator-doc-link,\n",
       "a:link.sk-estimator-doc-link,\n",
       "a:visited.sk-estimator-doc-link {\n",
       "  float: right;\n",
       "  font-size: smaller;\n",
       "  line-height: 1em;\n",
       "  font-family: monospace;\n",
       "  background-color: var(--sklearn-color-background);\n",
       "  border-radius: 1em;\n",
       "  height: 1em;\n",
       "  width: 1em;\n",
       "  text-decoration: none !important;\n",
       "  margin-left: 0.5em;\n",
       "  text-align: center;\n",
       "  /* unfitted */\n",
       "  border: var(--sklearn-color-unfitted-level-1) 1pt solid;\n",
       "  color: var(--sklearn-color-unfitted-level-1);\n",
       "}\n",
       "\n",
       ".sk-estimator-doc-link.fitted,\n",
       "a:link.sk-estimator-doc-link.fitted,\n",
       "a:visited.sk-estimator-doc-link.fitted {\n",
       "  /* fitted */\n",
       "  border: var(--sklearn-color-fitted-level-1) 1pt solid;\n",
       "  color: var(--sklearn-color-fitted-level-1);\n",
       "}\n",
       "\n",
       "/* On hover */\n",
       "div.sk-estimator:hover .sk-estimator-doc-link:hover,\n",
       ".sk-estimator-doc-link:hover,\n",
       "div.sk-label-container:hover .sk-estimator-doc-link:hover,\n",
       ".sk-estimator-doc-link:hover {\n",
       "  /* unfitted */\n",
       "  background-color: var(--sklearn-color-unfitted-level-3);\n",
       "  color: var(--sklearn-color-background);\n",
       "  text-decoration: none;\n",
       "}\n",
       "\n",
       "div.sk-estimator.fitted:hover .sk-estimator-doc-link.fitted:hover,\n",
       ".sk-estimator-doc-link.fitted:hover,\n",
       "div.sk-label-container:hover .sk-estimator-doc-link.fitted:hover,\n",
       ".sk-estimator-doc-link.fitted:hover {\n",
       "  /* fitted */\n",
       "  background-color: var(--sklearn-color-fitted-level-3);\n",
       "  color: var(--sklearn-color-background);\n",
       "  text-decoration: none;\n",
       "}\n",
       "\n",
       "/* Span, style for the box shown on hovering the info icon */\n",
       ".sk-estimator-doc-link span {\n",
       "  display: none;\n",
       "  z-index: 9999;\n",
       "  position: relative;\n",
       "  font-weight: normal;\n",
       "  right: .2ex;\n",
       "  padding: .5ex;\n",
       "  margin: .5ex;\n",
       "  width: min-content;\n",
       "  min-width: 20ex;\n",
       "  max-width: 50ex;\n",
       "  color: var(--sklearn-color-text);\n",
       "  box-shadow: 2pt 2pt 4pt #999;\n",
       "  /* unfitted */\n",
       "  background: var(--sklearn-color-unfitted-level-0);\n",
       "  border: .5pt solid var(--sklearn-color-unfitted-level-3);\n",
       "}\n",
       "\n",
       ".sk-estimator-doc-link.fitted span {\n",
       "  /* fitted */\n",
       "  background: var(--sklearn-color-fitted-level-0);\n",
       "  border: var(--sklearn-color-fitted-level-3);\n",
       "}\n",
       "\n",
       ".sk-estimator-doc-link:hover span {\n",
       "  display: block;\n",
       "}\n",
       "\n",
       "/* \"?\"-specific style due to the `<a>` HTML tag */\n",
       "\n",
       "#sk-container-id-1 a.estimator_doc_link {\n",
       "  float: right;\n",
       "  font-size: 1rem;\n",
       "  line-height: 1em;\n",
       "  font-family: monospace;\n",
       "  background-color: var(--sklearn-color-background);\n",
       "  border-radius: 1rem;\n",
       "  height: 1rem;\n",
       "  width: 1rem;\n",
       "  text-decoration: none;\n",
       "  /* unfitted */\n",
       "  color: var(--sklearn-color-unfitted-level-1);\n",
       "  border: var(--sklearn-color-unfitted-level-1) 1pt solid;\n",
       "}\n",
       "\n",
       "#sk-container-id-1 a.estimator_doc_link.fitted {\n",
       "  /* fitted */\n",
       "  border: var(--sklearn-color-fitted-level-1) 1pt solid;\n",
       "  color: var(--sklearn-color-fitted-level-1);\n",
       "}\n",
       "\n",
       "/* On hover */\n",
       "#sk-container-id-1 a.estimator_doc_link:hover {\n",
       "  /* unfitted */\n",
       "  background-color: var(--sklearn-color-unfitted-level-3);\n",
       "  color: var(--sklearn-color-background);\n",
       "  text-decoration: none;\n",
       "}\n",
       "\n",
       "#sk-container-id-1 a.estimator_doc_link.fitted:hover {\n",
       "  /* fitted */\n",
       "  background-color: var(--sklearn-color-fitted-level-3);\n",
       "}\n",
       "</style><div id=\"sk-container-id-1\" class=\"sk-top-container\"><div class=\"sk-text-repr-fallback\"><pre>SVC(kernel=&#x27;linear&#x27;, random_state=1)</pre><b>In a Jupyter environment, please rerun this cell to show the HTML representation or trust the notebook. <br />On GitHub, the HTML representation is unable to render, please try loading this page with nbviewer.org.</b></div><div class=\"sk-container\" hidden><div class=\"sk-item\"><div class=\"sk-estimator fitted sk-toggleable\"><input class=\"sk-toggleable__control sk-hidden--visually\" id=\"sk-estimator-id-1\" type=\"checkbox\" checked><label for=\"sk-estimator-id-1\" class=\"sk-toggleable__label fitted sk-toggleable__label-arrow\"><div><div>SVC</div></div><div><a class=\"sk-estimator-doc-link fitted\" rel=\"noreferrer\" target=\"_blank\" href=\"https://scikit-learn.org/1.6/modules/generated/sklearn.svm.SVC.html\">?<span>Documentation for SVC</span></a><span class=\"sk-estimator-doc-link fitted\">i<span>Fitted</span></span></div></label><div class=\"sk-toggleable__content fitted\"><pre>SVC(kernel=&#x27;linear&#x27;, random_state=1)</pre></div> </div></div></div></div>"
      ],
      "text/plain": [
       "SVC(kernel='linear', random_state=1)"
      ]
     },
     "execution_count": 11,
     "metadata": {},
     "output_type": "execute_result"
    }
   ],
   "source": [
    "#Svm \n",
    "\n",
    "from sklearn.svm import SVC\n",
    "svm=SVC(kernel='linear', random_state=1)\n",
    "svm.fit(x_train,y_train)\n"
   ]
  },
  {
   "cell_type": "code",
   "execution_count": 12,
   "id": "7f8573a8",
   "metadata": {
    "execution": {
     "iopub.execute_input": "2022-12-28T07:09:17.715766Z",
     "iopub.status.busy": "2022-12-28T07:09:17.715077Z",
     "iopub.status.idle": "2022-12-28T07:09:17.724631Z",
     "shell.execute_reply": "2022-12-28T07:09:17.723640Z"
    },
    "papermill": {
     "duration": 0.022698,
     "end_time": "2022-12-28T07:09:17.727210",
     "exception": false,
     "start_time": "2022-12-28T07:09:17.704512",
     "status": "completed"
    },
    "tags": []
   },
   "outputs": [
    {
     "name": "stdout",
     "output_type": "stream",
     "text": [
      "accuracy of svm algorithm  0.8187134502923976\n"
     ]
    }
   ],
   "source": [
    "print(\"accuracy of svm algorithm \",svm.score(x_test,y_test))"
   ]
  },
  {
   "cell_type": "code",
   "execution_count": 13,
   "id": "34847894",
   "metadata": {},
   "outputs": [],
   "source": [
    "# Extract support vectors\n",
    "support_vectors = svm.support_vectors_\n",
    "\n",
    "# Create a mesh grid for the decision boundary\n",
    "xx, yy = np.meshgrid(\n",
    "    np.linspace(x_train.iloc[:, 0].min(), x_train.iloc[:, 0].max(), 30),\n",
    "    np.linspace(x_train.iloc[:, 1].min(), x_train.iloc[:, 1].max(), 30)\n",
    ")\n",
    "\n",
    "# Compute decision boundary (solve for z)\n",
    "w = svm.coef_[0]  # Extract weights\n",
    "b = svm.intercept_[0]\n",
    "zz = (-w[0] * xx - w[1] * yy - b) / w[2]  # Solving for z\n"
   ]
  },
  {
   "cell_type": "code",
   "execution_count": 14,
   "id": "05c08ec4",
   "metadata": {},
   "outputs": [
    {
     "data": {
      "application/vnd.plotly.v1+json": {
       "config": {
        "plotlyServerURL": "https://plot.ly"
       },
       "data": [
        {
         "hoverinfo": "text",
         "marker": {
          "color": {
           "bdata": "AAAAAAAAAAAAAAAAAAABAQABAAAAAAEBAAABAQABAAEAAQEAAAEBAAAAAAEAAAAAAAAAAQABAAABAQEBAAABAAEBAQABAAAAAAABAAABAQEBAAEAAAEAAQAAAAEAAAABAAAAAAEAAAEBAQAAAQAAAAAAAQAAAAEAAQEBAQABAQEAAAEAAAAAAQEAAAABAAAAAQAAAQAAAAABAQABAQABAAEBAAABAAAAAAABAAAAAAEAAAAAAAEBAQABAQABAAAAAQABAAAAAAEBAAAAAAEAAAEBAQABAQEAAAAAAAAAAQABAQEBAAABAAAAAAAAAAEBAAAAAAEAAAAAAQAAAAEAAQAAAQEBAQEAAAAAAAEAAAAAAQEAAAABAAAAAQAAAQAAAQABAAAAAAEBAAAAAQABAQEAAAABAAAAAQEBAAEAAQEAAAAAAQEAAAAAAAEBAAEAAAAAAAEBAAAAAAEBAQAAAQEBAQABAAEBAAAAAAAAAAABAAAAAAAAAQEBAQABAQAAAQEAAQAAAAAAAQABAAA=",
           "dtype": "i1"
          },
          "colorscale": [
           [
            0,
            "#440154"
           ],
           [
            0.1111111111111111,
            "#482878"
           ],
           [
            0.2222222222222222,
            "#3e4989"
           ],
           [
            0.3333333333333333,
            "#31688e"
           ],
           [
            0.4444444444444444,
            "#26828e"
           ],
           [
            0.5555555555555556,
            "#1f9e89"
           ],
           [
            0.6666666666666666,
            "#35b779"
           ],
           [
            0.7777777777777778,
            "#6ece58"
           ],
           [
            0.8888888888888888,
            "#b5de2b"
           ],
           [
            1,
            "#fde725"
           ]
          ],
          "showscale": true,
          "size": 5
         },
         "mode": "markers",
         "name": "Predicted",
         "text": {
          "bdata": "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",
          "dtype": "f8"
         },
         "type": "scatter3d",
         "x": {
          "bdata": "B64CCNkYpD/phV7DXJehP3D9G16FAqE/yY/3JPFEqD/KNODUtcmjP3EJwzQSu6U/TkZ7pX3YqT8czTweDQaoP3FvuK7uS5s/bqbkRFg0oz8xwtPdKgSdP2xfV791AKM/lAStmFVDpj9JfZ1xEiqgPxuVmkleYKM/5QDKOi1HoT/HYK6CU+ufP7nIamYv454/SjeGKnWznD96iZUdbR2rP4kRUiz2v6A/XtnyV/hbnj/DfqoC3SGqP2+Kk9qA4aA/Isu+WN/toz9dm+tUqz+eP1h4v33wuKM/CFCn3fbHqD9t0TNvdKKyP5YWuZ2AcqY/BGQxqE8PrT+IYTjk6T+dP1loFeqlHqY/2ljcir6koj8yBkAPFpeYP/PWFFqea6I/iL07Z8CSpz+MSDUejlmjP29EfJPjap0/tg5VXUiOnj+HVZENXYeYP5aplUgayKE/LpeXwh8jnz+TzArEpp2hP/CGAVImIKI/vyLwI9gdpT+G3+c1YcWTP1ZrLHTIKJk/i3QwHLBGoz/AR8cQRYinPwIag851Oqg/KTmFPA8hqT9uto7Yos6gPy9g4SAMVaA/ymVUztpVmT+3ZnipEDSiPzaWBTCN4qA/Qdoyh3u9qD99yuD6YA+iP8Fu9qS98Jo/s397b2wanD855hg4BS6hP0DOi7DuBKQ/rau/EWBWoT9yRKnjZzahP+K7cdam3J8/SNWTbVYEoD9j6OfSAIGrP0kTm3CjIKA/1bkruRPLnj/6u2Z+kKGgPxbrLtTBpaA/sfvSGdihoT8Mh4rPjmGrPwWFHpTZNZc/CT3c9bSMpj/Ig1BOZIyjPzO5eqsZuKA/6QrG+wccnj+P4JSO/+SlP6fOBz1oYJ0/Rut/qY/gpj8h22jsKYihP1t6Ie/QTaY//xQACZ4EoT925KKj0wGeP2ohULwo5KI/ek7S9MbWoT8Diur9grqjP/Cq7Av4sp4/xzJ+Y9U0oT+OAh7X8OKfP8Ga8aLf3Zo/OOUsBWpWmz9m5yjw6XSpP8Ot6dql5KA/T3ozeUk6lj9v9JXb7+qgP3CCg5Ywh50/vyqKc9Jdnz/wfvEN1sWeP7T8SFgdX54/0DF23OzZmT84+eMfR2mjP07yh2b336I/Omxso0uKoz+zq3ZtjgecP9JOs3lfBKI/onD1tldepz+Ehlh1KPmkP1JmhihBvp8/gfNxALoMmD8ajBTHyEijP2EFG6aeFKI/qrglywMbqD+dhH+BsKWrP3XFMOUEDpc/1/X9mgQeoD9I1ZNtVgSgP/8EVnVTaqM/eu1Vdu3koT+u7wi9m7SqP6S6o5AxM6w/qIncKGbBnz+LhNqv+uCgP1nYWZMDaq8/XqVdCtwupD8FGcTrXi6mP3VlfRMXv6o/JE0PB2horT/yG0BuoAqgPy83B3fhCKU/qMfjK7Pdnz8b4AcGT0GqP/N9Miu/uZw/aMGSIGb+pD+jggG8go2nPxFgNR303qQ/FCkJh4r2nD+xFySEr/SjP7B4oAKJ5qM/OLfZXzxrqj++7IJwhUGfP4eYZHpTKKU/PfEALHvaoz+prH70dmKjP7/y554juJo/ngOlEW3onj94jKynjyeeP6FLHsrq86Q/UL58JIWYnz+IYTjk6T+dP2uLUr2X7aI/gnErHAYpoD8BTOP6NZ6jPx0hU+NCM6E/7s5Nuh9gpD9YJ+2SYWGhPyaeBHim9KE/IgW51JmRmT/W00cCj1SiPwAnDA7JM6E/VPvERLuonT8CB7jmM/+lP1pd5FFeI54/GdE/28rnoD+v3D3VWXmoP1Jqk6/TNqo/Tg7Z0M4ypT/gPS6vsNqgP4blKd5PB50/",
          "dtype": "f8"
         },
         "y": {
          "bdata": "m0AS6NfJ0D9pIc3lw1vLP2qcKrPtSco//y3iVV6j2j+g+9gpL2nSP9GyJQnAuNQ/B4ndUUyb3T+Vykzf/zPaP99kFWfvR8E/nhQQleJ70D9ZT4WDEBnDPzVl02XYQM8/2Jgvu/WZ1D/alPCbH+LHP8IYgHu7G9E/lsPzwAU8yT9Ghe/k0m7HPxMDK9vMhMU/Nb3s58tPwT+icH0StbXgP99GMVvhack/DM0GzEv3xD/YTwg/CXreP6WqmawxRck/rEJKW8QZ0T9joDsaUu3DPzcKG/5k0NA/0PQMQxuC2z+nKbGy1cnsPy8fZKvUI9c/GZB1BGHs4j9nNitvPCLDPxUJxRawcNQ/SvR0qxmuzj/ZOv3jGpK7Pxy7n5jWjM8/6dIJA5GP2T9yprKsFPXQPy2ak8CM/cI/oeWNBS6CxT8948sYImK6PyRQ0Aqqtcw/BByF76B7xT/0f0zAZVPMP078O0uYucw/OrPVOpFA0j9fXGXO3G+xPw/PzfJLq70/XtkCD7MK0T+xulWkoHDYPyxnt2ihxNk/gK2C5FKd2T/V9XrEn5XIP/fn3qVNBsk/LJSTRw6mvT+RZaZAyqzOP+up8/ZNbco/WTj6lfwy3D+/lfXQd7bNP8YsueSBasA/HKHhzzXFwj9S3yv+qVrIP0Fb0ZSmpNE/9HbGPdA7zD/8J0gae7fLPy5Nk2JlkcY/fgb1C8JMxz8dj7YhSuDgPy7buxfRusc/b5Emayoaxj8DS6FBugnKP38rzPgut8k/l3bzYt7PzD/5xg5TjfzfP36QsOnlqbg/sYKzz/HK0z/ZR1Z7k+HRP/NaddP46Mk/XgHGQtKgxD9uc6ict6fUP1jUJ7bmKsQ/2PsUAIOB1z+2TcW8y/nMP1v/mN42gdU/WJryPwH6yT/PHmMYcaPEP0jiaKbufs4/SVRA8YJVzT8JQx02toXQP6HljQUugsU/QIdtqgCHyz9KElm3J4zGPxuFkGVecsA//TvnwNxxwT82KkVKd2/ZP/6P2v9iasg/FJZsO4b5tj9n8292wdnIPxJsfKPLQ8Q/P0ZFU7zJxj8CCnnqdUzFPzudihaQWcU/e9KXI0Fzvz8fYOcwYxzRP3tgugtViNA/yU6kijyp0T+YgQyHqnLCP+tK55P70c0/3bbbQdog2T97fAt2LNvSP4w6m1UVwsM/w33+LteiuT+cSZhqbeHQPwgiue3o+80/6MD9/WVg2T9g5VUvOpjgPxOpNyPINLk/5mAEAIukxz8y9k2fkQHIPy9QE58kPdE/btyTJxv7zD/ubNI5thDfPz86hihCvOA/Wfn+olOVxj+/9AE0ylHKPxTGvLwCXuU/+NeT+sp20T8h8Snl8oXWP+5s0jm2EN8/6dbi5Mvb3z+FPBkbQ9rHP7AymXKmHtM/PMJhA/3Dxz+SywvCFkDcP7yFfG2DEsM/n4B7XAV70z8N+TbXslnYPxGeGDKkfdM/miFBQUHLwz9uEMNXKsDRPwzs13Li9dE/zfXLJTKO3T8qKXtYDzPGPzy8W70mWNI/Tznx/TyW0T8ya6Um5YPRP2UIzv85oMA/NwebwaUkxj+wzDPxWYvFP6g6g7tFDtM/DvtjO055xz/qTHo1Ml3DP8i39VI7aNA/KCD11Xkbxj8nYYNqWUTRP+oulikkf8s/EotNSmJC0T+UPxBxRjbKPxyfTi7/Oc0/ZSelcyizvT/d+u/f0AnPP17HkMzsb8o/hpslfpV1xD86Frt/HijVP4WSn/v/XcQ/MRKfCWlUyj9iZNk/0ZzaPyZpNS7P3N0/yWr19BP80z+UPxBxRjbKP6TkziIXdsM/",
          "dtype": "f8"
         },
         "z": {
          "bdata": "+JYQRx8p9T5b+w77QXz6PocPIxgOEvQ+fH5spq3h6z7uOyjnXqLpPmJQyE5BMvQ+92oesTnF7D73q8hDLq3hPiTidA25y/Y+c6oHc/0C+D4mJKE32xb3PlB4X+IBnPE+/+DtGcqg9j660djeZfPqPlx5OEPFQek+iwz4P0IA/T5cQ2oxJZjsPsFymthBOvk+R1r2N9Dy7z7wfVQRge3pPgL4J7OggPI+Ry8Ep4SH6z5CV/ID2zP1PuYx9aEOGvk+W39nT4YS+z7OqL+zdybyPuY3JK7P6uo+R9ed6CVV8z4E6Z7CUs33PqMi4GaqbO0+mu26kA55+D6MF9TAlj71Psv+o9UO/fo+R1+jrGNg9j6zWofep7T1Phrnyri29vA+l5qD2dYe7j4Be4ACSx7vPh3P5+PbYP0+alTMh9Dp8j4u/HERO7UBP3whWXO7Qe0+lSc2EqiX9z7PbUQtRA/fPrOcswjK//U+B3eSyQf0AD8Rg4h0aY3sPtHxnIGIpe8+unTFq3NT7D4cUDwEKzjzPmAOnCQf5/M+zIL8KVOT+z7GxdGPeZTzPlIzCOATP+o+k6PdvWMB9z5NMwjgEz/aPp5MUGDIdOY+r9GBFdCw7j4obPxtvjLpPqXoZOUQTu4+z00uHU3i4j5gA8Cjyqj7PrTkDj+tG+g+p0T2gNWK4T6iPEXYTF7gPkMMbPUrBuw+Vzo38W4I8D7NopCntlXwPi4u1Hwrn+c+Vzo38W4I8D6JLQ5V0yXtPnMc06L+JvM+rn9KYzJP6D4wNAOJ7G/5PpctZR5paOk+UC3Z01Ju+D7uwqsTb0rxPgymyVwszO8+q00pwYsa7j6MWQDruIn1PisLPMvSHeg+LrCqNKjZ+D5CbKoA6rfhPhvt+cR3x/I+bbcOx4Na8z66tW8+aDvxPn78le4wp/o+sas8+Rez8D4gHPCOUur1PhD5ABRkJvo+Uv05znOV7T5QLdnTUm74Pp3kYKyBlu8+i37Db0Mk6D75D40aD4H9Prgd4YRChP8+Y63bgTPS8j7dY796Hwz3PqZFeBgD7uw+HibMCg0w6j6sUtY1H4j0PhEl86lJiuI+HL1av5ju5z66mwrNxUnuPgxg8MIQDN0+HWj4NC976j5nr10e+y3iPrgQAdWSf/A+bo2ezWVS6j61V1wG3KL+PupDQf0H1wI//+DtGcqg9j4HcyYjWDTqPjXlzwpEze0+Z1h598le9T7zjl+elvzzPjJhd7b/Nt0+/WLE0Ubb5z54nQAfd6vsPiP4rqH1su4+kDQ9Zi7v8j6xGFu0hWn1PkTbSlgfyvU+r9YuimMe9T7Yo2kIevvnPtPsbXphzfE+fvyV7jCn+j7PydXICEziPndwjPFj5Pg+AiDvayDa/z7YEIjD57HsPmmapSHsqfU+uy7sEViT6T74xq9M/gHwPs/PBNXJHPQ+QBXG2bjo9D5BlHG5aRHvPhTlSBzvmvE+/hzrNysb5T4ch4yt+ETrPprXgPzRkfA+05WJUzD+9D4wwbXBvejyPthbDtKW3/U+PC+t3e5E7z6u0P99ok3zPq3K0HHhfPE+twtUYP8R6j7ZNktNDEXjPu570nS5kfo+jR0DzVcP5z7btHSVjwryPpk+cKt+d/M+Kaj5ix+t9z5fI1QhLmvwPkjt13xiPOs+EPkAFGQm+j4kVcLU51LtPqmMUbe4pvM+sRhbtIVp9T4MDrkQc6rmPmDSnga+bOU+9g0Lfkcl7j5dPTslZMf6PnJo20jbt/c+RraH05Qv4z5QeF/iAZzxPpUnNhKol/c+yYUnAh+l8j6fnQV7OHPxPj/Tma+WnfQ+",
          "dtype": "f8"
         }
        }
       ],
       "layout": {
        "scene": {
         "xaxis": {
          "title": {
           "text": "perimeter_mean"
          }
         },
         "yaxis": {
          "title": {
           "text": "area_mean"
          }
         },
         "zaxis": {
          "title": {
           "text": "smoothness_mean"
          }
         }
        },
        "template": {
         "data": {
          "bar": [
           {
            "error_x": {
             "color": "#2a3f5f"
            },
            "error_y": {
             "color": "#2a3f5f"
            },
            "marker": {
             "line": {
              "color": "#E5ECF6",
              "width": 0.5
             },
             "pattern": {
              "fillmode": "overlay",
              "size": 10,
              "solidity": 0.2
             }
            },
            "type": "bar"
           }
          ],
          "barpolar": [
           {
            "marker": {
             "line": {
              "color": "#E5ECF6",
              "width": 0.5
             },
             "pattern": {
              "fillmode": "overlay",
              "size": 10,
              "solidity": 0.2
             }
            },
            "type": "barpolar"
           }
          ],
          "carpet": [
           {
            "aaxis": {
             "endlinecolor": "#2a3f5f",
             "gridcolor": "white",
             "linecolor": "white",
             "minorgridcolor": "white",
             "startlinecolor": "#2a3f5f"
            },
            "baxis": {
             "endlinecolor": "#2a3f5f",
             "gridcolor": "white",
             "linecolor": "white",
             "minorgridcolor": "white",
             "startlinecolor": "#2a3f5f"
            },
            "type": "carpet"
           }
          ],
          "choropleth": [
           {
            "colorbar": {
             "outlinewidth": 0,
             "ticks": ""
            },
            "type": "choropleth"
           }
          ],
          "contour": [
           {
            "colorbar": {
             "outlinewidth": 0,
             "ticks": ""
            },
            "colorscale": [
             [
              0,
              "#0d0887"
             ],
             [
              0.1111111111111111,
              "#46039f"
             ],
             [
              0.2222222222222222,
              "#7201a8"
             ],
             [
              0.3333333333333333,
              "#9c179e"
             ],
             [
              0.4444444444444444,
              "#bd3786"
             ],
             [
              0.5555555555555556,
              "#d8576b"
             ],
             [
              0.6666666666666666,
              "#ed7953"
             ],
             [
              0.7777777777777778,
              "#fb9f3a"
             ],
             [
              0.8888888888888888,
              "#fdca26"
             ],
             [
              1,
              "#f0f921"
             ]
            ],
            "type": "contour"
           }
          ],
          "contourcarpet": [
           {
            "colorbar": {
             "outlinewidth": 0,
             "ticks": ""
            },
            "type": "contourcarpet"
           }
          ],
          "heatmap": [
           {
            "colorbar": {
             "outlinewidth": 0,
             "ticks": ""
            },
            "colorscale": [
             [
              0,
              "#0d0887"
             ],
             [
              0.1111111111111111,
              "#46039f"
             ],
             [
              0.2222222222222222,
              "#7201a8"
             ],
             [
              0.3333333333333333,
              "#9c179e"
             ],
             [
              0.4444444444444444,
              "#bd3786"
             ],
             [
              0.5555555555555556,
              "#d8576b"
             ],
             [
              0.6666666666666666,
              "#ed7953"
             ],
             [
              0.7777777777777778,
              "#fb9f3a"
             ],
             [
              0.8888888888888888,
              "#fdca26"
             ],
             [
              1,
              "#f0f921"
             ]
            ],
            "type": "heatmap"
           }
          ],
          "histogram": [
           {
            "marker": {
             "pattern": {
              "fillmode": "overlay",
              "size": 10,
              "solidity": 0.2
             }
            },
            "type": "histogram"
           }
          ],
          "histogram2d": [
           {
            "colorbar": {
             "outlinewidth": 0,
             "ticks": ""
            },
            "colorscale": [
             [
              0,
              "#0d0887"
             ],
             [
              0.1111111111111111,
              "#46039f"
             ],
             [
              0.2222222222222222,
              "#7201a8"
             ],
             [
              0.3333333333333333,
              "#9c179e"
             ],
             [
              0.4444444444444444,
              "#bd3786"
             ],
             [
              0.5555555555555556,
              "#d8576b"
             ],
             [
              0.6666666666666666,
              "#ed7953"
             ],
             [
              0.7777777777777778,
              "#fb9f3a"
             ],
             [
              0.8888888888888888,
              "#fdca26"
             ],
             [
              1,
              "#f0f921"
             ]
            ],
            "type": "histogram2d"
           }
          ],
          "histogram2dcontour": [
           {
            "colorbar": {
             "outlinewidth": 0,
             "ticks": ""
            },
            "colorscale": [
             [
              0,
              "#0d0887"
             ],
             [
              0.1111111111111111,
              "#46039f"
             ],
             [
              0.2222222222222222,
              "#7201a8"
             ],
             [
              0.3333333333333333,
              "#9c179e"
             ],
             [
              0.4444444444444444,
              "#bd3786"
             ],
             [
              0.5555555555555556,
              "#d8576b"
             ],
             [
              0.6666666666666666,
              "#ed7953"
             ],
             [
              0.7777777777777778,
              "#fb9f3a"
             ],
             [
              0.8888888888888888,
              "#fdca26"
             ],
             [
              1,
              "#f0f921"
             ]
            ],
            "type": "histogram2dcontour"
           }
          ],
          "mesh3d": [
           {
            "colorbar": {
             "outlinewidth": 0,
             "ticks": ""
            },
            "type": "mesh3d"
           }
          ],
          "parcoords": [
           {
            "line": {
             "colorbar": {
              "outlinewidth": 0,
              "ticks": ""
             }
            },
            "type": "parcoords"
           }
          ],
          "pie": [
           {
            "automargin": true,
            "type": "pie"
           }
          ],
          "scatter": [
           {
            "fillpattern": {
             "fillmode": "overlay",
             "size": 10,
             "solidity": 0.2
            },
            "type": "scatter"
           }
          ],
          "scatter3d": [
           {
            "line": {
             "colorbar": {
              "outlinewidth": 0,
              "ticks": ""
             }
            },
            "marker": {
             "colorbar": {
              "outlinewidth": 0,
              "ticks": ""
             }
            },
            "type": "scatter3d"
           }
          ],
          "scattercarpet": [
           {
            "marker": {
             "colorbar": {
              "outlinewidth": 0,
              "ticks": ""
             }
            },
            "type": "scattercarpet"
           }
          ],
          "scattergeo": [
           {
            "marker": {
             "colorbar": {
              "outlinewidth": 0,
              "ticks": ""
             }
            },
            "type": "scattergeo"
           }
          ],
          "scattergl": [
           {
            "marker": {
             "colorbar": {
              "outlinewidth": 0,
              "ticks": ""
             }
            },
            "type": "scattergl"
           }
          ],
          "scattermap": [
           {
            "marker": {
             "colorbar": {
              "outlinewidth": 0,
              "ticks": ""
             }
            },
            "type": "scattermap"
           }
          ],
          "scattermapbox": [
           {
            "marker": {
             "colorbar": {
              "outlinewidth": 0,
              "ticks": ""
             }
            },
            "type": "scattermapbox"
           }
          ],
          "scatterpolar": [
           {
            "marker": {
             "colorbar": {
              "outlinewidth": 0,
              "ticks": ""
             }
            },
            "type": "scatterpolar"
           }
          ],
          "scatterpolargl": [
           {
            "marker": {
             "colorbar": {
              "outlinewidth": 0,
              "ticks": ""
             }
            },
            "type": "scatterpolargl"
           }
          ],
          "scatterternary": [
           {
            "marker": {
             "colorbar": {
              "outlinewidth": 0,
              "ticks": ""
             }
            },
            "type": "scatterternary"
           }
          ],
          "surface": [
           {
            "colorbar": {
             "outlinewidth": 0,
             "ticks": ""
            },
            "colorscale": [
             [
              0,
              "#0d0887"
             ],
             [
              0.1111111111111111,
              "#46039f"
             ],
             [
              0.2222222222222222,
              "#7201a8"
             ],
             [
              0.3333333333333333,
              "#9c179e"
             ],
             [
              0.4444444444444444,
              "#bd3786"
             ],
             [
              0.5555555555555556,
              "#d8576b"
             ],
             [
              0.6666666666666666,
              "#ed7953"
             ],
             [
              0.7777777777777778,
              "#fb9f3a"
             ],
             [
              0.8888888888888888,
              "#fdca26"
             ],
             [
              1,
              "#f0f921"
             ]
            ],
            "type": "surface"
           }
          ],
          "table": [
           {
            "cells": {
             "fill": {
              "color": "#EBF0F8"
             },
             "line": {
              "color": "white"
             }
            },
            "header": {
             "fill": {
              "color": "#C8D4E3"
             },
             "line": {
              "color": "white"
             }
            },
            "type": "table"
           }
          ]
         },
         "layout": {
          "annotationdefaults": {
           "arrowcolor": "#2a3f5f",
           "arrowhead": 0,
           "arrowwidth": 1
          },
          "autotypenumbers": "strict",
          "coloraxis": {
           "colorbar": {
            "outlinewidth": 0,
            "ticks": ""
           }
          },
          "colorscale": {
           "diverging": [
            [
             0,
             "#8e0152"
            ],
            [
             0.1,
             "#c51b7d"
            ],
            [
             0.2,
             "#de77ae"
            ],
            [
             0.3,
             "#f1b6da"
            ],
            [
             0.4,
             "#fde0ef"
            ],
            [
             0.5,
             "#f7f7f7"
            ],
            [
             0.6,
             "#e6f5d0"
            ],
            [
             0.7,
             "#b8e186"
            ],
            [
             0.8,
             "#7fbc41"
            ],
            [
             0.9,
             "#4d9221"
            ],
            [
             1,
             "#276419"
            ]
           ],
           "sequential": [
            [
             0,
             "#0d0887"
            ],
            [
             0.1111111111111111,
             "#46039f"
            ],
            [
             0.2222222222222222,
             "#7201a8"
            ],
            [
             0.3333333333333333,
             "#9c179e"
            ],
            [
             0.4444444444444444,
             "#bd3786"
            ],
            [
             0.5555555555555556,
             "#d8576b"
            ],
            [
             0.6666666666666666,
             "#ed7953"
            ],
            [
             0.7777777777777778,
             "#fb9f3a"
            ],
            [
             0.8888888888888888,
             "#fdca26"
            ],
            [
             1,
             "#f0f921"
            ]
           ],
           "sequentialminus": [
            [
             0,
             "#0d0887"
            ],
            [
             0.1111111111111111,
             "#46039f"
            ],
            [
             0.2222222222222222,
             "#7201a8"
            ],
            [
             0.3333333333333333,
             "#9c179e"
            ],
            [
             0.4444444444444444,
             "#bd3786"
            ],
            [
             0.5555555555555556,
             "#d8576b"
            ],
            [
             0.6666666666666666,
             "#ed7953"
            ],
            [
             0.7777777777777778,
             "#fb9f3a"
            ],
            [
             0.8888888888888888,
             "#fdca26"
            ],
            [
             1,
             "#f0f921"
            ]
           ]
          },
          "colorway": [
           "#636efa",
           "#EF553B",
           "#00cc96",
           "#ab63fa",
           "#FFA15A",
           "#19d3f3",
           "#FF6692",
           "#B6E880",
           "#FF97FF",
           "#FECB52"
          ],
          "font": {
           "color": "#2a3f5f"
          },
          "geo": {
           "bgcolor": "white",
           "lakecolor": "white",
           "landcolor": "#E5ECF6",
           "showlakes": true,
           "showland": true,
           "subunitcolor": "white"
          },
          "hoverlabel": {
           "align": "left"
          },
          "hovermode": "closest",
          "mapbox": {
           "style": "light"
          },
          "paper_bgcolor": "white",
          "plot_bgcolor": "#E5ECF6",
          "polar": {
           "angularaxis": {
            "gridcolor": "white",
            "linecolor": "white",
            "ticks": ""
           },
           "bgcolor": "#E5ECF6",
           "radialaxis": {
            "gridcolor": "white",
            "linecolor": "white",
            "ticks": ""
           }
          },
          "scene": {
           "xaxis": {
            "backgroundcolor": "#E5ECF6",
            "gridcolor": "white",
            "gridwidth": 2,
            "linecolor": "white",
            "showbackground": true,
            "ticks": "",
            "zerolinecolor": "white"
           },
           "yaxis": {
            "backgroundcolor": "#E5ECF6",
            "gridcolor": "white",
            "gridwidth": 2,
            "linecolor": "white",
            "showbackground": true,
            "ticks": "",
            "zerolinecolor": "white"
           },
           "zaxis": {
            "backgroundcolor": "#E5ECF6",
            "gridcolor": "white",
            "gridwidth": 2,
            "linecolor": "white",
            "showbackground": true,
            "ticks": "",
            "zerolinecolor": "white"
           }
          },
          "shapedefaults": {
           "line": {
            "color": "#2a3f5f"
           }
          },
          "ternary": {
           "aaxis": {
            "gridcolor": "white",
            "linecolor": "white",
            "ticks": ""
           },
           "baxis": {
            "gridcolor": "white",
            "linecolor": "white",
            "ticks": ""
           },
           "bgcolor": "#E5ECF6",
           "caxis": {
            "gridcolor": "white",
            "linecolor": "white",
            "ticks": ""
           }
          },
          "title": {
           "x": 0.05
          },
          "xaxis": {
           "automargin": true,
           "gridcolor": "white",
           "linecolor": "white",
           "ticks": "",
           "title": {
            "standoff": 15
           },
           "zerolinecolor": "white",
           "zerolinewidth": 2
          },
          "yaxis": {
           "automargin": true,
           "gridcolor": "white",
           "linecolor": "white",
           "ticks": "",
           "title": {
            "standoff": 15
           },
           "zerolinecolor": "white",
           "zerolinewidth": 2
          }
         }
        },
        "title": {
         "text": "Training Data Plot"
        }
       }
      }
     },
     "metadata": {},
     "output_type": "display_data"
    }
   ],
   "source": [
    "fig = go.Figure()\n",
    "\n",
    "# Add scatter trace for actual points with labels\n",
    "fig.add_trace(go.Scatter3d(\n",
    "    x=x_test[selected_features[0]],\n",
    "    y=x_test[selected_features[1]],\n",
    "    z=x_test[selected_features[2]],\n",
    "    mode='markers',\n",
    "    marker=dict(size=5, color=y_train, colorscale='Viridis', showscale=True),\n",
    "    text=y_train,  # Hover text to show labels\n",
    "    hoverinfo=\"text\",\n",
    "    name='Predicted'\n",
    "))\n",
    "\n",
    "# Update layout with axis labels and title\n",
    "fig.update_layout(\n",
    "    title='Training Data Plot',\n",
    "    scene=dict(\n",
    "        xaxis_title=selected_features[0],\n",
    "        yaxis_title=selected_features[1],\n",
    "        zaxis_title=selected_features[2]\n",
    "    )\n",
    ")\n",
    "\n",
    "fig.show()\n"
   ]
  },
  {
   "cell_type": "code",
   "execution_count": 19,
   "id": "e78d7de3",
   "metadata": {},
   "outputs": [
    {
     "data": {
      "application/vnd.plotly.v1+json": {
       "config": {
        "plotlyServerURL": "https://plot.ly"
       },
       "data": [
        {
         "hoverinfo": "text",
         "marker": {
          "color": {
           "bdata": "AAEAAQEBAQEAAAABAQAAAAAAAAEAAAEAAQAAAQEBAQABAQAAAQABAAAAAAAAAQAAAAEBAQAAAAAAAQAAAAEAAAAAAAEAAAAAAQEAAQEBAAEAAQABAAABAAEAAAEAAAEBAAAAAAAAAAAAAAAAAQEBAAAAAQEAAAAAAAEBAAABAQABAQAAAAEAAQEAAAABAQABAAEAAAABAAAAAQAAAAAAAAAAAAEAAAEBAQAA",
           "dtype": "i1"
          },
          "colorscale": [
           [
            0,
            "#440154"
           ],
           [
            0.1111111111111111,
            "#482878"
           ],
           [
            0.2222222222222222,
            "#3e4989"
           ],
           [
            0.3333333333333333,
            "#31688e"
           ],
           [
            0.4444444444444444,
            "#26828e"
           ],
           [
            0.5555555555555556,
            "#1f9e89"
           ],
           [
            0.6666666666666666,
            "#35b779"
           ],
           [
            0.7777777777777778,
            "#6ece58"
           ],
           [
            0.8888888888888888,
            "#b5de2b"
           ],
           [
            1,
            "#fde725"
           ]
          ],
          "showscale": true,
          "size": 5
         },
         "mode": "markers",
         "name": "Predicted",
         "text": {
          "bdata": "AAAAAAAAAAAAAAAAAADwPwAAAAAAAAAAAAAAAAAA8D8AAAAAAADwPwAAAAAAAPA/AAAAAAAA8D8AAAAAAADwPwAAAAAAAAAAAAAAAAAAAAAAAAAAAAAAAAAAAAAAAPA/AAAAAAAA8D8AAAAAAAAAAAAAAAAAAAAAAAAAAAAAAAAAAAAAAAAAAAAAAAAAAAAAAAAAAAAAAAAAAAAAAADwPwAAAAAAAAAAAAAAAAAAAAAAAAAAAADwPwAAAAAAAAAAAAAAAAAA8D8AAAAAAAAAAAAAAAAAAAAAAAAAAAAA8D8AAAAAAADwPwAAAAAAAPA/AAAAAAAA8D8AAAAAAAAAAAAAAAAAAPA/AAAAAAAA8D8AAAAAAAAAAAAAAAAAAAAAAAAAAAAA8D8AAAAAAAAAAAAAAAAAAPA/AAAAAAAAAAAAAAAAAAAAAAAAAAAAAAAAAAAAAAAAAAAAAAAAAAAAAAAAAAAAAAAAAAAAAAAA8D8AAAAAAAAAAAAAAAAAAAAAAAAAAAAAAAAAAAAAAADwPwAAAAAAAPA/AAAAAAAA8D8AAAAAAAAAAAAAAAAAAAAAAAAAAAAAAAAAAAAAAAAAAAAAAAAAAAAAAAAAAAAA8D8AAAAAAAAAAAAAAAAAAAAAAAAAAAAAAAAAAAAAAADwPwAAAAAAAAAAAAAAAAAAAAAAAAAAAAAAAAAAAAAAAAAAAAAAAAAAAAAAAAAAAADwPwAAAAAAAAAAAAAAAAAAAAAAAAAAAAAAAAAAAAAAAAAAAAAAAAAA8D8AAAAAAADwPwAAAAAAAAAAAAAAAAAA8D8AAAAAAADwPwAAAAAAAPA/AAAAAAAAAAAAAAAAAADwPwAAAAAAAAAAAAAAAAAA8D8AAAAAAAAAAAAAAAAAAPA/AAAAAAAAAAAAAAAAAAAAAAAAAAAAAPA/AAAAAAAAAAAAAAAAAADwPwAAAAAAAAAAAAAAAAAAAAAAAAAAAADwPwAAAAAAAAAAAAAAAAAAAAAAAAAAAADwPwAAAAAAAPA/AAAAAAAAAAAAAAAAAAAAAAAAAAAAAAAAAAAAAAAAAAAAAAAAAAAAAAAAAAAAAAAAAAAAAAAAAAAAAAAAAAAAAAAAAAAAAAAAAAAAAAAAAAAAAAAAAAAAAAAAAAAAAAAAAAAAAAAA8D8AAAAAAADwPwAAAAAAAPA/AAAAAAAAAAAAAAAAAAAAAAAAAAAAAAAAAAAAAAAA8D8AAAAAAADwPwAAAAAAAAAAAAAAAAAAAAAAAAAAAAAAAAAAAAAAAAAAAAAAAAAAAAAAAAAAAADwPwAAAAAAAPA/AAAAAAAAAAAAAAAAAAAAAAAAAAAAAPA/AAAAAAAA8D8AAAAAAAAAAAAAAAAAAPA/AAAAAAAA8D8AAAAAAAAAAAAAAAAAAAAAAAAAAAAAAAAAAAAAAADwPwAAAAAAAAAAAAAAAAAA8D8AAAAAAADwPwAAAAAAAAAAAAAAAAAAAAAAAAAAAAAAAAAAAAAAAPA/AAAAAAAA8D8AAAAAAAAAAAAAAAAAAPA/AAAAAAAAAAAAAAAAAADwPwAAAAAAAAAAAAAAAAAAAAAAAAAAAAAAAAAAAAAAAPA/AAAAAAAAAAAAAAAAAAAAAAAAAAAAAAAAAAAAAAAA8D8AAAAAAAAAAAAAAAAAAAAAAAAAAAAAAAAAAAAAAAAAAAAAAAAAAAAAAAAAAAAAAAAAAAAAAAAAAAAAAAAAAAAAAAAAAAAAAAAAAAAAAADwPwAAAAAAAAAAAAAAAAAAAAAAAAAAAADwPwAAAAAAAPA/AAAAAAAA8D8AAAAAAAAAAAAAAAAAAAAA",
          "dtype": "f8"
         },
         "type": "scatter3d",
         "x": {
          "bdata": "B64CCNkYpD/phV7DXJehP3D9G16FAqE/yY/3JPFEqD/KNODUtcmjP3EJwzQSu6U/TkZ7pX3YqT8czTweDQaoP3FvuK7uS5s/bqbkRFg0oz8xwtPdKgSdP2xfV791AKM/lAStmFVDpj9JfZ1xEiqgPxuVmkleYKM/5QDKOi1HoT/HYK6CU+ufP7nIamYv454/SjeGKnWznD96iZUdbR2rP4kRUiz2v6A/XtnyV/hbnj/DfqoC3SGqP2+Kk9qA4aA/Isu+WN/toz9dm+tUqz+eP1h4v33wuKM/CFCn3fbHqD9t0TNvdKKyP5YWuZ2AcqY/BGQxqE8PrT+IYTjk6T+dP1loFeqlHqY/2ljcir6koj8yBkAPFpeYP/PWFFqea6I/iL07Z8CSpz+MSDUejlmjP29EfJPjap0/tg5VXUiOnj+HVZENXYeYP5aplUgayKE/LpeXwh8jnz+TzArEpp2hP/CGAVImIKI/vyLwI9gdpT+G3+c1YcWTP1ZrLHTIKJk/i3QwHLBGoz/AR8cQRYinPwIag851Oqg/KTmFPA8hqT9uto7Yos6gPy9g4SAMVaA/ymVUztpVmT+3ZnipEDSiPzaWBTCN4qA/Qdoyh3u9qD99yuD6YA+iP8Fu9qS98Jo/s397b2wanD855hg4BS6hP0DOi7DuBKQ/rau/EWBWoT9yRKnjZzahP+K7cdam3J8/SNWTbVYEoD9j6OfSAIGrP0kTm3CjIKA/1bkruRPLnj/6u2Z+kKGgPxbrLtTBpaA/sfvSGdihoT8Mh4rPjmGrPwWFHpTZNZc/CT3c9bSMpj/Ig1BOZIyjPzO5eqsZuKA/6QrG+wccnj+P4JSO/+SlP6fOBz1oYJ0/Rut/qY/gpj8h22jsKYihP1t6Ie/QTaY//xQACZ4EoT925KKj0wGeP2ohULwo5KI/ek7S9MbWoT8Diur9grqjP/Cq7Av4sp4/xzJ+Y9U0oT+OAh7X8OKfP8Ga8aLf3Zo/OOUsBWpWmz9m5yjw6XSpP8Ot6dql5KA/T3ozeUk6lj9v9JXb7+qgP3CCg5Ywh50/vyqKc9Jdnz/wfvEN1sWeP7T8SFgdX54/0DF23OzZmT84+eMfR2mjP07yh2b336I/Omxso0uKoz+zq3ZtjgecP9JOs3lfBKI/onD1tldepz+Ehlh1KPmkP1JmhihBvp8/gfNxALoMmD8ajBTHyEijP2EFG6aeFKI/qrglywMbqD+dhH+BsKWrP3XFMOUEDpc/1/X9mgQeoD9I1ZNtVgSgP/8EVnVTaqM/eu1Vdu3koT+u7wi9m7SqP6S6o5AxM6w/qIncKGbBnz+LhNqv+uCgP1nYWZMDaq8/XqVdCtwupD8FGcTrXi6mP3VlfRMXv6o/JE0PB2horT/yG0BuoAqgPy83B3fhCKU/qMfjK7Pdnz8b4AcGT0GqP/N9Miu/uZw/aMGSIGb+pD+jggG8go2nPxFgNR303qQ/FCkJh4r2nD+xFySEr/SjP7B4oAKJ5qM/OLfZXzxrqj++7IJwhUGfP4eYZHpTKKU/PfEALHvaoz+prH70dmKjP7/y554juJo/ngOlEW3onj94jKynjyeeP6FLHsrq86Q/UL58JIWYnz+IYTjk6T+dP2uLUr2X7aI/gnErHAYpoD8BTOP6NZ6jPx0hU+NCM6E/7s5Nuh9gpD9YJ+2SYWGhPyaeBHim9KE/IgW51JmRmT/W00cCj1SiPwAnDA7JM6E/VPvERLuonT8CB7jmM/+lP1pd5FFeI54/GdE/28rnoD+v3D3VWXmoP1Jqk6/TNqo/Tg7Z0M4ypT/gPS6vsNqgP4blKd5PB50/",
          "dtype": "f8"
         },
         "y": {
          "bdata": "m0AS6NfJ0D9pIc3lw1vLP2qcKrPtSco//y3iVV6j2j+g+9gpL2nSP9GyJQnAuNQ/B4ndUUyb3T+Vykzf/zPaP99kFWfvR8E/nhQQleJ70D9ZT4WDEBnDPzVl02XYQM8/2Jgvu/WZ1D/alPCbH+LHP8IYgHu7G9E/lsPzwAU8yT9Ghe/k0m7HPxMDK9vMhMU/Nb3s58tPwT+icH0StbXgP99GMVvhack/DM0GzEv3xD/YTwg/CXreP6WqmawxRck/rEJKW8QZ0T9joDsaUu3DPzcKG/5k0NA/0PQMQxuC2z+nKbGy1cnsPy8fZKvUI9c/GZB1BGHs4j9nNitvPCLDPxUJxRawcNQ/SvR0qxmuzj/ZOv3jGpK7Pxy7n5jWjM8/6dIJA5GP2T9yprKsFPXQPy2ak8CM/cI/oeWNBS6CxT8948sYImK6PyRQ0Aqqtcw/BByF76B7xT/0f0zAZVPMP078O0uYucw/OrPVOpFA0j9fXGXO3G+xPw/PzfJLq70/XtkCD7MK0T+xulWkoHDYPyxnt2ihxNk/gK2C5FKd2T/V9XrEn5XIP/fn3qVNBsk/LJSTRw6mvT+RZaZAyqzOP+up8/ZNbco/WTj6lfwy3D+/lfXQd7bNP8YsueSBasA/HKHhzzXFwj9S3yv+qVrIP0Fb0ZSmpNE/9HbGPdA7zD/8J0gae7fLPy5Nk2JlkcY/fgb1C8JMxz8dj7YhSuDgPy7buxfRusc/b5Emayoaxj8DS6FBugnKP38rzPgut8k/l3bzYt7PzD/5xg5TjfzfP36QsOnlqbg/sYKzz/HK0z/ZR1Z7k+HRP/NaddP46Mk/XgHGQtKgxD9uc6ict6fUP1jUJ7bmKsQ/2PsUAIOB1z+2TcW8y/nMP1v/mN42gdU/WJryPwH6yT/PHmMYcaPEP0jiaKbufs4/SVRA8YJVzT8JQx02toXQP6HljQUugsU/QIdtqgCHyz9KElm3J4zGPxuFkGVecsA//TvnwNxxwT82KkVKd2/ZP/6P2v9iasg/FJZsO4b5tj9n8292wdnIPxJsfKPLQ8Q/P0ZFU7zJxj8CCnnqdUzFPzudihaQWcU/e9KXI0Fzvz8fYOcwYxzRP3tgugtViNA/yU6kijyp0T+YgQyHqnLCP+tK55P70c0/3bbbQdog2T97fAt2LNvSP4w6m1UVwsM/w33+LteiuT+cSZhqbeHQPwgiue3o+80/6MD9/WVg2T9g5VUvOpjgPxOpNyPINLk/5mAEAIukxz8y9k2fkQHIPy9QE58kPdE/btyTJxv7zD/ubNI5thDfPz86hihCvOA/Wfn+olOVxj+/9AE0ylHKPxTGvLwCXuU/+NeT+sp20T8h8Snl8oXWP+5s0jm2EN8/6dbi5Mvb3z+FPBkbQ9rHP7AymXKmHtM/PMJhA/3Dxz+SywvCFkDcP7yFfG2DEsM/n4B7XAV70z8N+TbXslnYPxGeGDKkfdM/miFBQUHLwz9uEMNXKsDRPwzs13Li9dE/zfXLJTKO3T8qKXtYDzPGPzy8W70mWNI/Tznx/TyW0T8ya6Um5YPRP2UIzv85oMA/NwebwaUkxj+wzDPxWYvFP6g6g7tFDtM/DvtjO055xz/qTHo1Ml3DP8i39VI7aNA/KCD11Xkbxj8nYYNqWUTRP+oulikkf8s/EotNSmJC0T+UPxBxRjbKPxyfTi7/Oc0/ZSelcyizvT/d+u/f0AnPP17HkMzsb8o/hpslfpV1xD86Frt/HijVP4WSn/v/XcQ/MRKfCWlUyj9iZNk/0ZzaPyZpNS7P3N0/yWr19BP80z+UPxBxRjbKP6TkziIXdsM/",
          "dtype": "f8"
         },
         "z": {
          "bdata": "+JYQRx8p9T5b+w77QXz6PocPIxgOEvQ+fH5spq3h6z7uOyjnXqLpPmJQyE5BMvQ+92oesTnF7D73q8hDLq3hPiTidA25y/Y+c6oHc/0C+D4mJKE32xb3PlB4X+IBnPE+/+DtGcqg9j660djeZfPqPlx5OEPFQek+iwz4P0IA/T5cQ2oxJZjsPsFymthBOvk+R1r2N9Dy7z7wfVQRge3pPgL4J7OggPI+Ry8Ep4SH6z5CV/ID2zP1PuYx9aEOGvk+W39nT4YS+z7OqL+zdybyPuY3JK7P6uo+R9ed6CVV8z4E6Z7CUs33PqMi4GaqbO0+mu26kA55+D6MF9TAlj71Psv+o9UO/fo+R1+jrGNg9j6zWofep7T1Phrnyri29vA+l5qD2dYe7j4Be4ACSx7vPh3P5+PbYP0+alTMh9Dp8j4u/HERO7UBP3whWXO7Qe0+lSc2EqiX9z7PbUQtRA/fPrOcswjK//U+B3eSyQf0AD8Rg4h0aY3sPtHxnIGIpe8+unTFq3NT7D4cUDwEKzjzPmAOnCQf5/M+zIL8KVOT+z7GxdGPeZTzPlIzCOATP+o+k6PdvWMB9z5NMwjgEz/aPp5MUGDIdOY+r9GBFdCw7j4obPxtvjLpPqXoZOUQTu4+z00uHU3i4j5gA8Cjyqj7PrTkDj+tG+g+p0T2gNWK4T6iPEXYTF7gPkMMbPUrBuw+Vzo38W4I8D7NopCntlXwPi4u1Hwrn+c+Vzo38W4I8D6JLQ5V0yXtPnMc06L+JvM+rn9KYzJP6D4wNAOJ7G/5PpctZR5paOk+UC3Z01Ju+D7uwqsTb0rxPgymyVwszO8+q00pwYsa7j6MWQDruIn1PisLPMvSHeg+LrCqNKjZ+D5CbKoA6rfhPhvt+cR3x/I+bbcOx4Na8z66tW8+aDvxPn78le4wp/o+sas8+Rez8D4gHPCOUur1PhD5ABRkJvo+Uv05znOV7T5QLdnTUm74Pp3kYKyBlu8+i37Db0Mk6D75D40aD4H9Prgd4YRChP8+Y63bgTPS8j7dY796Hwz3PqZFeBgD7uw+HibMCg0w6j6sUtY1H4j0PhEl86lJiuI+HL1av5ju5z66mwrNxUnuPgxg8MIQDN0+HWj4NC976j5nr10e+y3iPrgQAdWSf/A+bo2ezWVS6j61V1wG3KL+PupDQf0H1wI//+DtGcqg9j4HcyYjWDTqPjXlzwpEze0+Z1h598le9T7zjl+elvzzPjJhd7b/Nt0+/WLE0Ubb5z54nQAfd6vsPiP4rqH1su4+kDQ9Zi7v8j6xGFu0hWn1PkTbSlgfyvU+r9YuimMe9T7Yo2kIevvnPtPsbXphzfE+fvyV7jCn+j7PydXICEziPndwjPFj5Pg+AiDvayDa/z7YEIjD57HsPmmapSHsqfU+uy7sEViT6T74xq9M/gHwPs/PBNXJHPQ+QBXG2bjo9D5BlHG5aRHvPhTlSBzvmvE+/hzrNysb5T4ch4yt+ETrPprXgPzRkfA+05WJUzD+9D4wwbXBvejyPthbDtKW3/U+PC+t3e5E7z6u0P99ok3zPq3K0HHhfPE+twtUYP8R6j7ZNktNDEXjPu570nS5kfo+jR0DzVcP5z7btHSVjwryPpk+cKt+d/M+Kaj5ix+t9z5fI1QhLmvwPkjt13xiPOs+EPkAFGQm+j4kVcLU51LtPqmMUbe4pvM+sRhbtIVp9T4MDrkQc6rmPmDSnga+bOU+9g0Lfkcl7j5dPTslZMf6PnJo20jbt/c+RraH05Qv4z5QeF/iAZzxPpUnNhKol/c+yYUnAh+l8j6fnQV7OHPxPj/Tma+WnfQ+",
          "dtype": "f8"
         }
        }
       ],
       "layout": {
        "scene": {
         "xaxis": {
          "title": {
           "text": "perimeter_mean"
          }
         },
         "yaxis": {
          "title": {
           "text": "area_mean"
          }
         },
         "zaxis": {
          "title": {
           "text": "smoothness_mean"
          }
         }
        },
        "template": {
         "data": {
          "bar": [
           {
            "error_x": {
             "color": "#2a3f5f"
            },
            "error_y": {
             "color": "#2a3f5f"
            },
            "marker": {
             "line": {
              "color": "#E5ECF6",
              "width": 0.5
             },
             "pattern": {
              "fillmode": "overlay",
              "size": 10,
              "solidity": 0.2
             }
            },
            "type": "bar"
           }
          ],
          "barpolar": [
           {
            "marker": {
             "line": {
              "color": "#E5ECF6",
              "width": 0.5
             },
             "pattern": {
              "fillmode": "overlay",
              "size": 10,
              "solidity": 0.2
             }
            },
            "type": "barpolar"
           }
          ],
          "carpet": [
           {
            "aaxis": {
             "endlinecolor": "#2a3f5f",
             "gridcolor": "white",
             "linecolor": "white",
             "minorgridcolor": "white",
             "startlinecolor": "#2a3f5f"
            },
            "baxis": {
             "endlinecolor": "#2a3f5f",
             "gridcolor": "white",
             "linecolor": "white",
             "minorgridcolor": "white",
             "startlinecolor": "#2a3f5f"
            },
            "type": "carpet"
           }
          ],
          "choropleth": [
           {
            "colorbar": {
             "outlinewidth": 0,
             "ticks": ""
            },
            "type": "choropleth"
           }
          ],
          "contour": [
           {
            "colorbar": {
             "outlinewidth": 0,
             "ticks": ""
            },
            "colorscale": [
             [
              0,
              "#0d0887"
             ],
             [
              0.1111111111111111,
              "#46039f"
             ],
             [
              0.2222222222222222,
              "#7201a8"
             ],
             [
              0.3333333333333333,
              "#9c179e"
             ],
             [
              0.4444444444444444,
              "#bd3786"
             ],
             [
              0.5555555555555556,
              "#d8576b"
             ],
             [
              0.6666666666666666,
              "#ed7953"
             ],
             [
              0.7777777777777778,
              "#fb9f3a"
             ],
             [
              0.8888888888888888,
              "#fdca26"
             ],
             [
              1,
              "#f0f921"
             ]
            ],
            "type": "contour"
           }
          ],
          "contourcarpet": [
           {
            "colorbar": {
             "outlinewidth": 0,
             "ticks": ""
            },
            "type": "contourcarpet"
           }
          ],
          "heatmap": [
           {
            "colorbar": {
             "outlinewidth": 0,
             "ticks": ""
            },
            "colorscale": [
             [
              0,
              "#0d0887"
             ],
             [
              0.1111111111111111,
              "#46039f"
             ],
             [
              0.2222222222222222,
              "#7201a8"
             ],
             [
              0.3333333333333333,
              "#9c179e"
             ],
             [
              0.4444444444444444,
              "#bd3786"
             ],
             [
              0.5555555555555556,
              "#d8576b"
             ],
             [
              0.6666666666666666,
              "#ed7953"
             ],
             [
              0.7777777777777778,
              "#fb9f3a"
             ],
             [
              0.8888888888888888,
              "#fdca26"
             ],
             [
              1,
              "#f0f921"
             ]
            ],
            "type": "heatmap"
           }
          ],
          "histogram": [
           {
            "marker": {
             "pattern": {
              "fillmode": "overlay",
              "size": 10,
              "solidity": 0.2
             }
            },
            "type": "histogram"
           }
          ],
          "histogram2d": [
           {
            "colorbar": {
             "outlinewidth": 0,
             "ticks": ""
            },
            "colorscale": [
             [
              0,
              "#0d0887"
             ],
             [
              0.1111111111111111,
              "#46039f"
             ],
             [
              0.2222222222222222,
              "#7201a8"
             ],
             [
              0.3333333333333333,
              "#9c179e"
             ],
             [
              0.4444444444444444,
              "#bd3786"
             ],
             [
              0.5555555555555556,
              "#d8576b"
             ],
             [
              0.6666666666666666,
              "#ed7953"
             ],
             [
              0.7777777777777778,
              "#fb9f3a"
             ],
             [
              0.8888888888888888,
              "#fdca26"
             ],
             [
              1,
              "#f0f921"
             ]
            ],
            "type": "histogram2d"
           }
          ],
          "histogram2dcontour": [
           {
            "colorbar": {
             "outlinewidth": 0,
             "ticks": ""
            },
            "colorscale": [
             [
              0,
              "#0d0887"
             ],
             [
              0.1111111111111111,
              "#46039f"
             ],
             [
              0.2222222222222222,
              "#7201a8"
             ],
             [
              0.3333333333333333,
              "#9c179e"
             ],
             [
              0.4444444444444444,
              "#bd3786"
             ],
             [
              0.5555555555555556,
              "#d8576b"
             ],
             [
              0.6666666666666666,
              "#ed7953"
             ],
             [
              0.7777777777777778,
              "#fb9f3a"
             ],
             [
              0.8888888888888888,
              "#fdca26"
             ],
             [
              1,
              "#f0f921"
             ]
            ],
            "type": "histogram2dcontour"
           }
          ],
          "mesh3d": [
           {
            "colorbar": {
             "outlinewidth": 0,
             "ticks": ""
            },
            "type": "mesh3d"
           }
          ],
          "parcoords": [
           {
            "line": {
             "colorbar": {
              "outlinewidth": 0,
              "ticks": ""
             }
            },
            "type": "parcoords"
           }
          ],
          "pie": [
           {
            "automargin": true,
            "type": "pie"
           }
          ],
          "scatter": [
           {
            "fillpattern": {
             "fillmode": "overlay",
             "size": 10,
             "solidity": 0.2
            },
            "type": "scatter"
           }
          ],
          "scatter3d": [
           {
            "line": {
             "colorbar": {
              "outlinewidth": 0,
              "ticks": ""
             }
            },
            "marker": {
             "colorbar": {
              "outlinewidth": 0,
              "ticks": ""
             }
            },
            "type": "scatter3d"
           }
          ],
          "scattercarpet": [
           {
            "marker": {
             "colorbar": {
              "outlinewidth": 0,
              "ticks": ""
             }
            },
            "type": "scattercarpet"
           }
          ],
          "scattergeo": [
           {
            "marker": {
             "colorbar": {
              "outlinewidth": 0,
              "ticks": ""
             }
            },
            "type": "scattergeo"
           }
          ],
          "scattergl": [
           {
            "marker": {
             "colorbar": {
              "outlinewidth": 0,
              "ticks": ""
             }
            },
            "type": "scattergl"
           }
          ],
          "scattermap": [
           {
            "marker": {
             "colorbar": {
              "outlinewidth": 0,
              "ticks": ""
             }
            },
            "type": "scattermap"
           }
          ],
          "scattermapbox": [
           {
            "marker": {
             "colorbar": {
              "outlinewidth": 0,
              "ticks": ""
             }
            },
            "type": "scattermapbox"
           }
          ],
          "scatterpolar": [
           {
            "marker": {
             "colorbar": {
              "outlinewidth": 0,
              "ticks": ""
             }
            },
            "type": "scatterpolar"
           }
          ],
          "scatterpolargl": [
           {
            "marker": {
             "colorbar": {
              "outlinewidth": 0,
              "ticks": ""
             }
            },
            "type": "scatterpolargl"
           }
          ],
          "scatterternary": [
           {
            "marker": {
             "colorbar": {
              "outlinewidth": 0,
              "ticks": ""
             }
            },
            "type": "scatterternary"
           }
          ],
          "surface": [
           {
            "colorbar": {
             "outlinewidth": 0,
             "ticks": ""
            },
            "colorscale": [
             [
              0,
              "#0d0887"
             ],
             [
              0.1111111111111111,
              "#46039f"
             ],
             [
              0.2222222222222222,
              "#7201a8"
             ],
             [
              0.3333333333333333,
              "#9c179e"
             ],
             [
              0.4444444444444444,
              "#bd3786"
             ],
             [
              0.5555555555555556,
              "#d8576b"
             ],
             [
              0.6666666666666666,
              "#ed7953"
             ],
             [
              0.7777777777777778,
              "#fb9f3a"
             ],
             [
              0.8888888888888888,
              "#fdca26"
             ],
             [
              1,
              "#f0f921"
             ]
            ],
            "type": "surface"
           }
          ],
          "table": [
           {
            "cells": {
             "fill": {
              "color": "#EBF0F8"
             },
             "line": {
              "color": "white"
             }
            },
            "header": {
             "fill": {
              "color": "#C8D4E3"
             },
             "line": {
              "color": "white"
             }
            },
            "type": "table"
           }
          ]
         },
         "layout": {
          "annotationdefaults": {
           "arrowcolor": "#2a3f5f",
           "arrowhead": 0,
           "arrowwidth": 1
          },
          "autotypenumbers": "strict",
          "coloraxis": {
           "colorbar": {
            "outlinewidth": 0,
            "ticks": ""
           }
          },
          "colorscale": {
           "diverging": [
            [
             0,
             "#8e0152"
            ],
            [
             0.1,
             "#c51b7d"
            ],
            [
             0.2,
             "#de77ae"
            ],
            [
             0.3,
             "#f1b6da"
            ],
            [
             0.4,
             "#fde0ef"
            ],
            [
             0.5,
             "#f7f7f7"
            ],
            [
             0.6,
             "#e6f5d0"
            ],
            [
             0.7,
             "#b8e186"
            ],
            [
             0.8,
             "#7fbc41"
            ],
            [
             0.9,
             "#4d9221"
            ],
            [
             1,
             "#276419"
            ]
           ],
           "sequential": [
            [
             0,
             "#0d0887"
            ],
            [
             0.1111111111111111,
             "#46039f"
            ],
            [
             0.2222222222222222,
             "#7201a8"
            ],
            [
             0.3333333333333333,
             "#9c179e"
            ],
            [
             0.4444444444444444,
             "#bd3786"
            ],
            [
             0.5555555555555556,
             "#d8576b"
            ],
            [
             0.6666666666666666,
             "#ed7953"
            ],
            [
             0.7777777777777778,
             "#fb9f3a"
            ],
            [
             0.8888888888888888,
             "#fdca26"
            ],
            [
             1,
             "#f0f921"
            ]
           ],
           "sequentialminus": [
            [
             0,
             "#0d0887"
            ],
            [
             0.1111111111111111,
             "#46039f"
            ],
            [
             0.2222222222222222,
             "#7201a8"
            ],
            [
             0.3333333333333333,
             "#9c179e"
            ],
            [
             0.4444444444444444,
             "#bd3786"
            ],
            [
             0.5555555555555556,
             "#d8576b"
            ],
            [
             0.6666666666666666,
             "#ed7953"
            ],
            [
             0.7777777777777778,
             "#fb9f3a"
            ],
            [
             0.8888888888888888,
             "#fdca26"
            ],
            [
             1,
             "#f0f921"
            ]
           ]
          },
          "colorway": [
           "#636efa",
           "#EF553B",
           "#00cc96",
           "#ab63fa",
           "#FFA15A",
           "#19d3f3",
           "#FF6692",
           "#B6E880",
           "#FF97FF",
           "#FECB52"
          ],
          "font": {
           "color": "#2a3f5f"
          },
          "geo": {
           "bgcolor": "white",
           "lakecolor": "white",
           "landcolor": "#E5ECF6",
           "showlakes": true,
           "showland": true,
           "subunitcolor": "white"
          },
          "hoverlabel": {
           "align": "left"
          },
          "hovermode": "closest",
          "mapbox": {
           "style": "light"
          },
          "paper_bgcolor": "white",
          "plot_bgcolor": "#E5ECF6",
          "polar": {
           "angularaxis": {
            "gridcolor": "white",
            "linecolor": "white",
            "ticks": ""
           },
           "bgcolor": "#E5ECF6",
           "radialaxis": {
            "gridcolor": "white",
            "linecolor": "white",
            "ticks": ""
           }
          },
          "scene": {
           "xaxis": {
            "backgroundcolor": "#E5ECF6",
            "gridcolor": "white",
            "gridwidth": 2,
            "linecolor": "white",
            "showbackground": true,
            "ticks": "",
            "zerolinecolor": "white"
           },
           "yaxis": {
            "backgroundcolor": "#E5ECF6",
            "gridcolor": "white",
            "gridwidth": 2,
            "linecolor": "white",
            "showbackground": true,
            "ticks": "",
            "zerolinecolor": "white"
           },
           "zaxis": {
            "backgroundcolor": "#E5ECF6",
            "gridcolor": "white",
            "gridwidth": 2,
            "linecolor": "white",
            "showbackground": true,
            "ticks": "",
            "zerolinecolor": "white"
           }
          },
          "shapedefaults": {
           "line": {
            "color": "#2a3f5f"
           }
          },
          "ternary": {
           "aaxis": {
            "gridcolor": "white",
            "linecolor": "white",
            "ticks": ""
           },
           "baxis": {
            "gridcolor": "white",
            "linecolor": "white",
            "ticks": ""
           },
           "bgcolor": "#E5ECF6",
           "caxis": {
            "gridcolor": "white",
            "linecolor": "white",
            "ticks": ""
           }
          },
          "title": {
           "x": 0.05
          },
          "xaxis": {
           "automargin": true,
           "gridcolor": "white",
           "linecolor": "white",
           "ticks": "",
           "title": {
            "standoff": 15
           },
           "zerolinecolor": "white",
           "zerolinewidth": 2
          },
          "yaxis": {
           "automargin": true,
           "gridcolor": "white",
           "linecolor": "white",
           "ticks": "",
           "title": {
            "standoff": 15
           },
           "zerolinecolor": "white",
           "zerolinewidth": 2
          }
         }
        },
        "title": {
         "text": "Prediction Data Plot"
        }
       }
      }
     },
     "metadata": {},
     "output_type": "display_data"
    }
   ],
   "source": [
    "fig = go.Figure()\n",
    "\n",
    "# Add scatter trace for actual points with labels\n",
    "fig.add_trace(go.Scatter3d(\n",
    "    x=x_test[selected_features[0]],\n",
    "    y=x_test[selected_features[1]],\n",
    "    z=x_test[selected_features[2]],\n",
    "    mode='markers',\n",
    "    marker=dict(size=5, color=y_test, colorscale='Viridis', showscale=True),\n",
    "    text=y_test,  # Hover text to show labels\n",
    "    hoverinfo=\"text\",\n",
    "    name='Predicted'\n",
    "))\n",
    "\n",
    "# Update layout with axis labels and title\n",
    "fig.update_layout(\n",
    "    title='Prediction Data Plot',\n",
    "    scene=dict(\n",
    "        xaxis_title=selected_features[0],\n",
    "        yaxis_title=selected_features[1],\n",
    "        zaxis_title=selected_features[2]\n",
    "    )\n",
    ")\n",
    "\n",
    "fig.show()\n"
   ]
  },
  {
   "cell_type": "code",
   "execution_count": 18,
   "id": "872ef0dd",
   "metadata": {},
   "outputs": [
    {
     "data": {
      "application/vnd.plotly.v1+json": {
       "config": {
        "plotlyServerURL": "https://plot.ly"
       },
       "data": [
        {
         "hoverinfo": "text",
         "marker": {
          "color": {
           "bdata": "AAEAAQEBAQEAAAABAQAAAAAAAAEAAAEAAQAAAQEBAQABAQAAAQABAAAAAAAAAQAAAAEBAQAAAAAAAQAAAAEAAAAAAAEAAAAAAQEAAQEBAAEAAQABAAABAAEAAAEAAAEBAAAAAAAAAAAAAAAAAQEBAAAAAQEAAAAAAAEBAAABAQABAQAAAAEAAQEAAAABAQABAAEAAAABAAAAAQAAAAAAAAAAAAEAAAEBAQAA",
           "dtype": "i1"
          },
          "colorscale": [
           [
            0,
            "#440154"
           ],
           [
            0.1111111111111111,
            "#482878"
           ],
           [
            0.2222222222222222,
            "#3e4989"
           ],
           [
            0.3333333333333333,
            "#31688e"
           ],
           [
            0.4444444444444444,
            "#26828e"
           ],
           [
            0.5555555555555556,
            "#1f9e89"
           ],
           [
            0.6666666666666666,
            "#35b779"
           ],
           [
            0.7777777777777778,
            "#6ece58"
           ],
           [
            0.8888888888888888,
            "#b5de2b"
           ],
           [
            1,
            "#fde725"
           ]
          ],
          "showscale": true,
          "size": 5
         },
         "mode": "markers",
         "name": "Predicted",
         "text": {
          "bdata": "AAAAAAAAAAAAAAAAAADwPwAAAAAAAAAAAAAAAAAA8D8AAAAAAADwPwAAAAAAAPA/AAAAAAAA8D8AAAAAAADwPwAAAAAAAAAAAAAAAAAAAAAAAAAAAAAAAAAAAAAAAPA/AAAAAAAA8D8AAAAAAAAAAAAAAAAAAAAAAAAAAAAAAAAAAAAAAAAAAAAAAAAAAAAAAAAAAAAAAAAAAAAAAADwPwAAAAAAAAAAAAAAAAAAAAAAAAAAAADwPwAAAAAAAAAAAAAAAAAA8D8AAAAAAAAAAAAAAAAAAAAAAAAAAAAA8D8AAAAAAADwPwAAAAAAAPA/AAAAAAAA8D8AAAAAAAAAAAAAAAAAAPA/AAAAAAAA8D8AAAAAAAAAAAAAAAAAAAAAAAAAAAAA8D8AAAAAAAAAAAAAAAAAAPA/AAAAAAAAAAAAAAAAAAAAAAAAAAAAAAAAAAAAAAAAAAAAAAAAAAAAAAAAAAAAAAAAAAAAAAAA8D8AAAAAAAAAAAAAAAAAAAAAAAAAAAAAAAAAAAAAAADwPwAAAAAAAPA/AAAAAAAA8D8AAAAAAAAAAAAAAAAAAAAAAAAAAAAAAAAAAAAAAAAAAAAAAAAAAAAAAAAAAAAA8D8AAAAAAAAAAAAAAAAAAAAAAAAAAAAAAAAAAAAAAADwPwAAAAAAAAAAAAAAAAAAAAAAAAAAAAAAAAAAAAAAAAAAAAAAAAAAAAAAAAAAAADwPwAAAAAAAAAAAAAAAAAAAAAAAAAAAAAAAAAAAAAAAAAAAAAAAAAA8D8AAAAAAADwPwAAAAAAAAAAAAAAAAAA8D8AAAAAAADwPwAAAAAAAPA/AAAAAAAAAAAAAAAAAADwPwAAAAAAAAAAAAAAAAAA8D8AAAAAAAAAAAAAAAAAAPA/AAAAAAAAAAAAAAAAAAAAAAAAAAAAAPA/AAAAAAAAAAAAAAAAAADwPwAAAAAAAAAAAAAAAAAAAAAAAAAAAADwPwAAAAAAAAAAAAAAAAAAAAAAAAAAAADwPwAAAAAAAPA/AAAAAAAAAAAAAAAAAAAAAAAAAAAAAAAAAAAAAAAAAAAAAAAAAAAAAAAAAAAAAAAAAAAAAAAAAAAAAAAAAAAAAAAAAAAAAAAAAAAAAAAAAAAAAAAAAAAAAAAAAAAAAAAAAAAAAAAA8D8AAAAAAADwPwAAAAAAAPA/AAAAAAAAAAAAAAAAAAAAAAAAAAAAAAAAAAAAAAAA8D8AAAAAAADwPwAAAAAAAAAAAAAAAAAAAAAAAAAAAAAAAAAAAAAAAAAAAAAAAAAAAAAAAAAAAADwPwAAAAAAAPA/AAAAAAAAAAAAAAAAAAAAAAAAAAAAAPA/AAAAAAAA8D8AAAAAAAAAAAAAAAAAAPA/AAAAAAAA8D8AAAAAAAAAAAAAAAAAAAAAAAAAAAAAAAAAAAAAAADwPwAAAAAAAAAAAAAAAAAA8D8AAAAAAADwPwAAAAAAAAAAAAAAAAAAAAAAAAAAAAAAAAAAAAAAAPA/AAAAAAAA8D8AAAAAAAAAAAAAAAAAAPA/AAAAAAAAAAAAAAAAAADwPwAAAAAAAAAAAAAAAAAAAAAAAAAAAAAAAAAAAAAAAPA/AAAAAAAAAAAAAAAAAAAAAAAAAAAAAAAAAAAAAAAA8D8AAAAAAAAAAAAAAAAAAAAAAAAAAAAAAAAAAAAAAAAAAAAAAAAAAAAAAAAAAAAAAAAAAAAAAAAAAAAAAAAAAAAAAAAAAAAAAAAAAAAAAADwPwAAAAAAAAAAAAAAAAAAAAAAAAAAAADwPwAAAAAAAPA/AAAAAAAA8D8AAAAAAAAAAAAAAAAAAAAA",
          "dtype": "f8"
         },
         "type": "scatter3d",
         "x": {
          "bdata": "B64CCNkYpD/phV7DXJehP3D9G16FAqE/yY/3JPFEqD/KNODUtcmjP3EJwzQSu6U/TkZ7pX3YqT8czTweDQaoP3FvuK7uS5s/bqbkRFg0oz8xwtPdKgSdP2xfV791AKM/lAStmFVDpj9JfZ1xEiqgPxuVmkleYKM/5QDKOi1HoT/HYK6CU+ufP7nIamYv454/SjeGKnWznD96iZUdbR2rP4kRUiz2v6A/XtnyV/hbnj/DfqoC3SGqP2+Kk9qA4aA/Isu+WN/toz9dm+tUqz+eP1h4v33wuKM/CFCn3fbHqD9t0TNvdKKyP5YWuZ2AcqY/BGQxqE8PrT+IYTjk6T+dP1loFeqlHqY/2ljcir6koj8yBkAPFpeYP/PWFFqea6I/iL07Z8CSpz+MSDUejlmjP29EfJPjap0/tg5VXUiOnj+HVZENXYeYP5aplUgayKE/LpeXwh8jnz+TzArEpp2hP/CGAVImIKI/vyLwI9gdpT+G3+c1YcWTP1ZrLHTIKJk/i3QwHLBGoz/AR8cQRYinPwIag851Oqg/KTmFPA8hqT9uto7Yos6gPy9g4SAMVaA/ymVUztpVmT+3ZnipEDSiPzaWBTCN4qA/Qdoyh3u9qD99yuD6YA+iP8Fu9qS98Jo/s397b2wanD855hg4BS6hP0DOi7DuBKQ/rau/EWBWoT9yRKnjZzahP+K7cdam3J8/SNWTbVYEoD9j6OfSAIGrP0kTm3CjIKA/1bkruRPLnj/6u2Z+kKGgPxbrLtTBpaA/sfvSGdihoT8Mh4rPjmGrPwWFHpTZNZc/CT3c9bSMpj/Ig1BOZIyjPzO5eqsZuKA/6QrG+wccnj+P4JSO/+SlP6fOBz1oYJ0/Rut/qY/gpj8h22jsKYihP1t6Ie/QTaY//xQACZ4EoT925KKj0wGeP2ohULwo5KI/ek7S9MbWoT8Diur9grqjP/Cq7Av4sp4/xzJ+Y9U0oT+OAh7X8OKfP8Ga8aLf3Zo/OOUsBWpWmz9m5yjw6XSpP8Ot6dql5KA/T3ozeUk6lj9v9JXb7+qgP3CCg5Ywh50/vyqKc9Jdnz/wfvEN1sWeP7T8SFgdX54/0DF23OzZmT84+eMfR2mjP07yh2b336I/Omxso0uKoz+zq3ZtjgecP9JOs3lfBKI/onD1tldepz+Ehlh1KPmkP1JmhihBvp8/gfNxALoMmD8ajBTHyEijP2EFG6aeFKI/qrglywMbqD+dhH+BsKWrP3XFMOUEDpc/1/X9mgQeoD9I1ZNtVgSgP/8EVnVTaqM/eu1Vdu3koT+u7wi9m7SqP6S6o5AxM6w/qIncKGbBnz+LhNqv+uCgP1nYWZMDaq8/XqVdCtwupD8FGcTrXi6mP3VlfRMXv6o/JE0PB2horT/yG0BuoAqgPy83B3fhCKU/qMfjK7Pdnz8b4AcGT0GqP/N9Miu/uZw/aMGSIGb+pD+jggG8go2nPxFgNR303qQ/FCkJh4r2nD+xFySEr/SjP7B4oAKJ5qM/OLfZXzxrqj++7IJwhUGfP4eYZHpTKKU/PfEALHvaoz+prH70dmKjP7/y554juJo/ngOlEW3onj94jKynjyeeP6FLHsrq86Q/UL58JIWYnz+IYTjk6T+dP2uLUr2X7aI/gnErHAYpoD8BTOP6NZ6jPx0hU+NCM6E/7s5Nuh9gpD9YJ+2SYWGhPyaeBHim9KE/IgW51JmRmT/W00cCj1SiPwAnDA7JM6E/VPvERLuonT8CB7jmM/+lP1pd5FFeI54/GdE/28rnoD+v3D3VWXmoP1Jqk6/TNqo/Tg7Z0M4ypT/gPS6vsNqgP4blKd5PB50/",
          "dtype": "f8"
         },
         "y": {
          "bdata": "m0AS6NfJ0D9pIc3lw1vLP2qcKrPtSco//y3iVV6j2j+g+9gpL2nSP9GyJQnAuNQ/B4ndUUyb3T+Vykzf/zPaP99kFWfvR8E/nhQQleJ70D9ZT4WDEBnDPzVl02XYQM8/2Jgvu/WZ1D/alPCbH+LHP8IYgHu7G9E/lsPzwAU8yT9Ghe/k0m7HPxMDK9vMhMU/Nb3s58tPwT+icH0StbXgP99GMVvhack/DM0GzEv3xD/YTwg/CXreP6WqmawxRck/rEJKW8QZ0T9joDsaUu3DPzcKG/5k0NA/0PQMQxuC2z+nKbGy1cnsPy8fZKvUI9c/GZB1BGHs4j9nNitvPCLDPxUJxRawcNQ/SvR0qxmuzj/ZOv3jGpK7Pxy7n5jWjM8/6dIJA5GP2T9yprKsFPXQPy2ak8CM/cI/oeWNBS6CxT8948sYImK6PyRQ0Aqqtcw/BByF76B7xT/0f0zAZVPMP078O0uYucw/OrPVOpFA0j9fXGXO3G+xPw/PzfJLq70/XtkCD7MK0T+xulWkoHDYPyxnt2ihxNk/gK2C5FKd2T/V9XrEn5XIP/fn3qVNBsk/LJSTRw6mvT+RZaZAyqzOP+up8/ZNbco/WTj6lfwy3D+/lfXQd7bNP8YsueSBasA/HKHhzzXFwj9S3yv+qVrIP0Fb0ZSmpNE/9HbGPdA7zD/8J0gae7fLPy5Nk2JlkcY/fgb1C8JMxz8dj7YhSuDgPy7buxfRusc/b5Emayoaxj8DS6FBugnKP38rzPgut8k/l3bzYt7PzD/5xg5TjfzfP36QsOnlqbg/sYKzz/HK0z/ZR1Z7k+HRP/NaddP46Mk/XgHGQtKgxD9uc6ict6fUP1jUJ7bmKsQ/2PsUAIOB1z+2TcW8y/nMP1v/mN42gdU/WJryPwH6yT/PHmMYcaPEP0jiaKbufs4/SVRA8YJVzT8JQx02toXQP6HljQUugsU/QIdtqgCHyz9KElm3J4zGPxuFkGVecsA//TvnwNxxwT82KkVKd2/ZP/6P2v9iasg/FJZsO4b5tj9n8292wdnIPxJsfKPLQ8Q/P0ZFU7zJxj8CCnnqdUzFPzudihaQWcU/e9KXI0Fzvz8fYOcwYxzRP3tgugtViNA/yU6kijyp0T+YgQyHqnLCP+tK55P70c0/3bbbQdog2T97fAt2LNvSP4w6m1UVwsM/w33+LteiuT+cSZhqbeHQPwgiue3o+80/6MD9/WVg2T9g5VUvOpjgPxOpNyPINLk/5mAEAIukxz8y9k2fkQHIPy9QE58kPdE/btyTJxv7zD/ubNI5thDfPz86hihCvOA/Wfn+olOVxj+/9AE0ylHKPxTGvLwCXuU/+NeT+sp20T8h8Snl8oXWP+5s0jm2EN8/6dbi5Mvb3z+FPBkbQ9rHP7AymXKmHtM/PMJhA/3Dxz+SywvCFkDcP7yFfG2DEsM/n4B7XAV70z8N+TbXslnYPxGeGDKkfdM/miFBQUHLwz9uEMNXKsDRPwzs13Li9dE/zfXLJTKO3T8qKXtYDzPGPzy8W70mWNI/Tznx/TyW0T8ya6Um5YPRP2UIzv85oMA/NwebwaUkxj+wzDPxWYvFP6g6g7tFDtM/DvtjO055xz/qTHo1Ml3DP8i39VI7aNA/KCD11Xkbxj8nYYNqWUTRP+oulikkf8s/EotNSmJC0T+UPxBxRjbKPxyfTi7/Oc0/ZSelcyizvT/d+u/f0AnPP17HkMzsb8o/hpslfpV1xD86Frt/HijVP4WSn/v/XcQ/MRKfCWlUyj9iZNk/0ZzaPyZpNS7P3N0/yWr19BP80z+UPxBxRjbKP6TkziIXdsM/",
          "dtype": "f8"
         },
         "z": {
          "bdata": "+JYQRx8p9T5b+w77QXz6PocPIxgOEvQ+fH5spq3h6z7uOyjnXqLpPmJQyE5BMvQ+92oesTnF7D73q8hDLq3hPiTidA25y/Y+c6oHc/0C+D4mJKE32xb3PlB4X+IBnPE+/+DtGcqg9j660djeZfPqPlx5OEPFQek+iwz4P0IA/T5cQ2oxJZjsPsFymthBOvk+R1r2N9Dy7z7wfVQRge3pPgL4J7OggPI+Ry8Ep4SH6z5CV/ID2zP1PuYx9aEOGvk+W39nT4YS+z7OqL+zdybyPuY3JK7P6uo+R9ed6CVV8z4E6Z7CUs33PqMi4GaqbO0+mu26kA55+D6MF9TAlj71Psv+o9UO/fo+R1+jrGNg9j6zWofep7T1Phrnyri29vA+l5qD2dYe7j4Be4ACSx7vPh3P5+PbYP0+alTMh9Dp8j4u/HERO7UBP3whWXO7Qe0+lSc2EqiX9z7PbUQtRA/fPrOcswjK//U+B3eSyQf0AD8Rg4h0aY3sPtHxnIGIpe8+unTFq3NT7D4cUDwEKzjzPmAOnCQf5/M+zIL8KVOT+z7GxdGPeZTzPlIzCOATP+o+k6PdvWMB9z5NMwjgEz/aPp5MUGDIdOY+r9GBFdCw7j4obPxtvjLpPqXoZOUQTu4+z00uHU3i4j5gA8Cjyqj7PrTkDj+tG+g+p0T2gNWK4T6iPEXYTF7gPkMMbPUrBuw+Vzo38W4I8D7NopCntlXwPi4u1Hwrn+c+Vzo38W4I8D6JLQ5V0yXtPnMc06L+JvM+rn9KYzJP6D4wNAOJ7G/5PpctZR5paOk+UC3Z01Ju+D7uwqsTb0rxPgymyVwszO8+q00pwYsa7j6MWQDruIn1PisLPMvSHeg+LrCqNKjZ+D5CbKoA6rfhPhvt+cR3x/I+bbcOx4Na8z66tW8+aDvxPn78le4wp/o+sas8+Rez8D4gHPCOUur1PhD5ABRkJvo+Uv05znOV7T5QLdnTUm74Pp3kYKyBlu8+i37Db0Mk6D75D40aD4H9Prgd4YRChP8+Y63bgTPS8j7dY796Hwz3PqZFeBgD7uw+HibMCg0w6j6sUtY1H4j0PhEl86lJiuI+HL1av5ju5z66mwrNxUnuPgxg8MIQDN0+HWj4NC976j5nr10e+y3iPrgQAdWSf/A+bo2ezWVS6j61V1wG3KL+PupDQf0H1wI//+DtGcqg9j4HcyYjWDTqPjXlzwpEze0+Z1h598le9T7zjl+elvzzPjJhd7b/Nt0+/WLE0Ubb5z54nQAfd6vsPiP4rqH1su4+kDQ9Zi7v8j6xGFu0hWn1PkTbSlgfyvU+r9YuimMe9T7Yo2kIevvnPtPsbXphzfE+fvyV7jCn+j7PydXICEziPndwjPFj5Pg+AiDvayDa/z7YEIjD57HsPmmapSHsqfU+uy7sEViT6T74xq9M/gHwPs/PBNXJHPQ+QBXG2bjo9D5BlHG5aRHvPhTlSBzvmvE+/hzrNysb5T4ch4yt+ETrPprXgPzRkfA+05WJUzD+9D4wwbXBvejyPthbDtKW3/U+PC+t3e5E7z6u0P99ok3zPq3K0HHhfPE+twtUYP8R6j7ZNktNDEXjPu570nS5kfo+jR0DzVcP5z7btHSVjwryPpk+cKt+d/M+Kaj5ix+t9z5fI1QhLmvwPkjt13xiPOs+EPkAFGQm+j4kVcLU51LtPqmMUbe4pvM+sRhbtIVp9T4MDrkQc6rmPmDSnga+bOU+9g0Lfkcl7j5dPTslZMf6PnJo20jbt/c+RraH05Qv4z5QeF/iAZzxPpUnNhKol/c+yYUnAh+l8j6fnQV7OHPxPj/Tma+WnfQ+",
          "dtype": "f8"
         }
        },
        {
         "colorscale": [
          [
           0,
           "rgb(247,251,255)"
          ],
          [
           0.125,
           "rgb(222,235,247)"
          ],
          [
           0.25,
           "rgb(198,219,239)"
          ],
          [
           0.375,
           "rgb(158,202,225)"
          ],
          [
           0.5,
           "rgb(107,174,214)"
          ],
          [
           0.625,
           "rgb(66,146,198)"
          ],
          [
           0.75,
           "rgb(33,113,181)"
          ],
          [
           0.875,
           "rgb(8,81,156)"
          ],
          [
           1,
           "rgb(8,48,107)"
          ]
         ],
         "name": "Decision Plane",
         "opacity": 0.5,
         "type": "surface",
         "x": {
          "bdata": "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",
          "dtype": "f8",
          "shape": "30, 30"
         },
         "y": {
          "bdata": "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",
          "dtype": "f8",
          "shape": "30, 30"
         },
         "z": {
          "bdata": "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",
          "dtype": "f8",
          "shape": "30, 30"
         }
        }
       ],
       "layout": {
        "scene": {
         "xaxis": {
          "title": {
           "text": "perimeter_mean"
          }
         },
         "yaxis": {
          "title": {
           "text": "area_mean"
          }
         },
         "zaxis": {
          "title": {
           "text": "smoothness_mean"
          }
         }
        },
        "template": {
         "data": {
          "bar": [
           {
            "error_x": {
             "color": "#2a3f5f"
            },
            "error_y": {
             "color": "#2a3f5f"
            },
            "marker": {
             "line": {
              "color": "#E5ECF6",
              "width": 0.5
             },
             "pattern": {
              "fillmode": "overlay",
              "size": 10,
              "solidity": 0.2
             }
            },
            "type": "bar"
           }
          ],
          "barpolar": [
           {
            "marker": {
             "line": {
              "color": "#E5ECF6",
              "width": 0.5
             },
             "pattern": {
              "fillmode": "overlay",
              "size": 10,
              "solidity": 0.2
             }
            },
            "type": "barpolar"
           }
          ],
          "carpet": [
           {
            "aaxis": {
             "endlinecolor": "#2a3f5f",
             "gridcolor": "white",
             "linecolor": "white",
             "minorgridcolor": "white",
             "startlinecolor": "#2a3f5f"
            },
            "baxis": {
             "endlinecolor": "#2a3f5f",
             "gridcolor": "white",
             "linecolor": "white",
             "minorgridcolor": "white",
             "startlinecolor": "#2a3f5f"
            },
            "type": "carpet"
           }
          ],
          "choropleth": [
           {
            "colorbar": {
             "outlinewidth": 0,
             "ticks": ""
            },
            "type": "choropleth"
           }
          ],
          "contour": [
           {
            "colorbar": {
             "outlinewidth": 0,
             "ticks": ""
            },
            "colorscale": [
             [
              0,
              "#0d0887"
             ],
             [
              0.1111111111111111,
              "#46039f"
             ],
             [
              0.2222222222222222,
              "#7201a8"
             ],
             [
              0.3333333333333333,
              "#9c179e"
             ],
             [
              0.4444444444444444,
              "#bd3786"
             ],
             [
              0.5555555555555556,
              "#d8576b"
             ],
             [
              0.6666666666666666,
              "#ed7953"
             ],
             [
              0.7777777777777778,
              "#fb9f3a"
             ],
             [
              0.8888888888888888,
              "#fdca26"
             ],
             [
              1,
              "#f0f921"
             ]
            ],
            "type": "contour"
           }
          ],
          "contourcarpet": [
           {
            "colorbar": {
             "outlinewidth": 0,
             "ticks": ""
            },
            "type": "contourcarpet"
           }
          ],
          "heatmap": [
           {
            "colorbar": {
             "outlinewidth": 0,
             "ticks": ""
            },
            "colorscale": [
             [
              0,
              "#0d0887"
             ],
             [
              0.1111111111111111,
              "#46039f"
             ],
             [
              0.2222222222222222,
              "#7201a8"
             ],
             [
              0.3333333333333333,
              "#9c179e"
             ],
             [
              0.4444444444444444,
              "#bd3786"
             ],
             [
              0.5555555555555556,
              "#d8576b"
             ],
             [
              0.6666666666666666,
              "#ed7953"
             ],
             [
              0.7777777777777778,
              "#fb9f3a"
             ],
             [
              0.8888888888888888,
              "#fdca26"
             ],
             [
              1,
              "#f0f921"
             ]
            ],
            "type": "heatmap"
           }
          ],
          "histogram": [
           {
            "marker": {
             "pattern": {
              "fillmode": "overlay",
              "size": 10,
              "solidity": 0.2
             }
            },
            "type": "histogram"
           }
          ],
          "histogram2d": [
           {
            "colorbar": {
             "outlinewidth": 0,
             "ticks": ""
            },
            "colorscale": [
             [
              0,
              "#0d0887"
             ],
             [
              0.1111111111111111,
              "#46039f"
             ],
             [
              0.2222222222222222,
              "#7201a8"
             ],
             [
              0.3333333333333333,
              "#9c179e"
             ],
             [
              0.4444444444444444,
              "#bd3786"
             ],
             [
              0.5555555555555556,
              "#d8576b"
             ],
             [
              0.6666666666666666,
              "#ed7953"
             ],
             [
              0.7777777777777778,
              "#fb9f3a"
             ],
             [
              0.8888888888888888,
              "#fdca26"
             ],
             [
              1,
              "#f0f921"
             ]
            ],
            "type": "histogram2d"
           }
          ],
          "histogram2dcontour": [
           {
            "colorbar": {
             "outlinewidth": 0,
             "ticks": ""
            },
            "colorscale": [
             [
              0,
              "#0d0887"
             ],
             [
              0.1111111111111111,
              "#46039f"
             ],
             [
              0.2222222222222222,
              "#7201a8"
             ],
             [
              0.3333333333333333,
              "#9c179e"
             ],
             [
              0.4444444444444444,
              "#bd3786"
             ],
             [
              0.5555555555555556,
              "#d8576b"
             ],
             [
              0.6666666666666666,
              "#ed7953"
             ],
             [
              0.7777777777777778,
              "#fb9f3a"
             ],
             [
              0.8888888888888888,
              "#fdca26"
             ],
             [
              1,
              "#f0f921"
             ]
            ],
            "type": "histogram2dcontour"
           }
          ],
          "mesh3d": [
           {
            "colorbar": {
             "outlinewidth": 0,
             "ticks": ""
            },
            "type": "mesh3d"
           }
          ],
          "parcoords": [
           {
            "line": {
             "colorbar": {
              "outlinewidth": 0,
              "ticks": ""
             }
            },
            "type": "parcoords"
           }
          ],
          "pie": [
           {
            "automargin": true,
            "type": "pie"
           }
          ],
          "scatter": [
           {
            "fillpattern": {
             "fillmode": "overlay",
             "size": 10,
             "solidity": 0.2
            },
            "type": "scatter"
           }
          ],
          "scatter3d": [
           {
            "line": {
             "colorbar": {
              "outlinewidth": 0,
              "ticks": ""
             }
            },
            "marker": {
             "colorbar": {
              "outlinewidth": 0,
              "ticks": ""
             }
            },
            "type": "scatter3d"
           }
          ],
          "scattercarpet": [
           {
            "marker": {
             "colorbar": {
              "outlinewidth": 0,
              "ticks": ""
             }
            },
            "type": "scattercarpet"
           }
          ],
          "scattergeo": [
           {
            "marker": {
             "colorbar": {
              "outlinewidth": 0,
              "ticks": ""
             }
            },
            "type": "scattergeo"
           }
          ],
          "scattergl": [
           {
            "marker": {
             "colorbar": {
              "outlinewidth": 0,
              "ticks": ""
             }
            },
            "type": "scattergl"
           }
          ],
          "scattermap": [
           {
            "marker": {
             "colorbar": {
              "outlinewidth": 0,
              "ticks": ""
             }
            },
            "type": "scattermap"
           }
          ],
          "scattermapbox": [
           {
            "marker": {
             "colorbar": {
              "outlinewidth": 0,
              "ticks": ""
             }
            },
            "type": "scattermapbox"
           }
          ],
          "scatterpolar": [
           {
            "marker": {
             "colorbar": {
              "outlinewidth": 0,
              "ticks": ""
             }
            },
            "type": "scatterpolar"
           }
          ],
          "scatterpolargl": [
           {
            "marker": {
             "colorbar": {
              "outlinewidth": 0,
              "ticks": ""
             }
            },
            "type": "scatterpolargl"
           }
          ],
          "scatterternary": [
           {
            "marker": {
             "colorbar": {
              "outlinewidth": 0,
              "ticks": ""
             }
            },
            "type": "scatterternary"
           }
          ],
          "surface": [
           {
            "colorbar": {
             "outlinewidth": 0,
             "ticks": ""
            },
            "colorscale": [
             [
              0,
              "#0d0887"
             ],
             [
              0.1111111111111111,
              "#46039f"
             ],
             [
              0.2222222222222222,
              "#7201a8"
             ],
             [
              0.3333333333333333,
              "#9c179e"
             ],
             [
              0.4444444444444444,
              "#bd3786"
             ],
             [
              0.5555555555555556,
              "#d8576b"
             ],
             [
              0.6666666666666666,
              "#ed7953"
             ],
             [
              0.7777777777777778,
              "#fb9f3a"
             ],
             [
              0.8888888888888888,
              "#fdca26"
             ],
             [
              1,
              "#f0f921"
             ]
            ],
            "type": "surface"
           }
          ],
          "table": [
           {
            "cells": {
             "fill": {
              "color": "#EBF0F8"
             },
             "line": {
              "color": "white"
             }
            },
            "header": {
             "fill": {
              "color": "#C8D4E3"
             },
             "line": {
              "color": "white"
             }
            },
            "type": "table"
           }
          ]
         },
         "layout": {
          "annotationdefaults": {
           "arrowcolor": "#2a3f5f",
           "arrowhead": 0,
           "arrowwidth": 1
          },
          "autotypenumbers": "strict",
          "coloraxis": {
           "colorbar": {
            "outlinewidth": 0,
            "ticks": ""
           }
          },
          "colorscale": {
           "diverging": [
            [
             0,
             "#8e0152"
            ],
            [
             0.1,
             "#c51b7d"
            ],
            [
             0.2,
             "#de77ae"
            ],
            [
             0.3,
             "#f1b6da"
            ],
            [
             0.4,
             "#fde0ef"
            ],
            [
             0.5,
             "#f7f7f7"
            ],
            [
             0.6,
             "#e6f5d0"
            ],
            [
             0.7,
             "#b8e186"
            ],
            [
             0.8,
             "#7fbc41"
            ],
            [
             0.9,
             "#4d9221"
            ],
            [
             1,
             "#276419"
            ]
           ],
           "sequential": [
            [
             0,
             "#0d0887"
            ],
            [
             0.1111111111111111,
             "#46039f"
            ],
            [
             0.2222222222222222,
             "#7201a8"
            ],
            [
             0.3333333333333333,
             "#9c179e"
            ],
            [
             0.4444444444444444,
             "#bd3786"
            ],
            [
             0.5555555555555556,
             "#d8576b"
            ],
            [
             0.6666666666666666,
             "#ed7953"
            ],
            [
             0.7777777777777778,
             "#fb9f3a"
            ],
            [
             0.8888888888888888,
             "#fdca26"
            ],
            [
             1,
             "#f0f921"
            ]
           ],
           "sequentialminus": [
            [
             0,
             "#0d0887"
            ],
            [
             0.1111111111111111,
             "#46039f"
            ],
            [
             0.2222222222222222,
             "#7201a8"
            ],
            [
             0.3333333333333333,
             "#9c179e"
            ],
            [
             0.4444444444444444,
             "#bd3786"
            ],
            [
             0.5555555555555556,
             "#d8576b"
            ],
            [
             0.6666666666666666,
             "#ed7953"
            ],
            [
             0.7777777777777778,
             "#fb9f3a"
            ],
            [
             0.8888888888888888,
             "#fdca26"
            ],
            [
             1,
             "#f0f921"
            ]
           ]
          },
          "colorway": [
           "#636efa",
           "#EF553B",
           "#00cc96",
           "#ab63fa",
           "#FFA15A",
           "#19d3f3",
           "#FF6692",
           "#B6E880",
           "#FF97FF",
           "#FECB52"
          ],
          "font": {
           "color": "#2a3f5f"
          },
          "geo": {
           "bgcolor": "white",
           "lakecolor": "white",
           "landcolor": "#E5ECF6",
           "showlakes": true,
           "showland": true,
           "subunitcolor": "white"
          },
          "hoverlabel": {
           "align": "left"
          },
          "hovermode": "closest",
          "mapbox": {
           "style": "light"
          },
          "paper_bgcolor": "white",
          "plot_bgcolor": "#E5ECF6",
          "polar": {
           "angularaxis": {
            "gridcolor": "white",
            "linecolor": "white",
            "ticks": ""
           },
           "bgcolor": "#E5ECF6",
           "radialaxis": {
            "gridcolor": "white",
            "linecolor": "white",
            "ticks": ""
           }
          },
          "scene": {
           "xaxis": {
            "backgroundcolor": "#E5ECF6",
            "gridcolor": "white",
            "gridwidth": 2,
            "linecolor": "white",
            "showbackground": true,
            "ticks": "",
            "zerolinecolor": "white"
           },
           "yaxis": {
            "backgroundcolor": "#E5ECF6",
            "gridcolor": "white",
            "gridwidth": 2,
            "linecolor": "white",
            "showbackground": true,
            "ticks": "",
            "zerolinecolor": "white"
           },
           "zaxis": {
            "backgroundcolor": "#E5ECF6",
            "gridcolor": "white",
            "gridwidth": 2,
            "linecolor": "white",
            "showbackground": true,
            "ticks": "",
            "zerolinecolor": "white"
           }
          },
          "shapedefaults": {
           "line": {
            "color": "#2a3f5f"
           }
          },
          "ternary": {
           "aaxis": {
            "gridcolor": "white",
            "linecolor": "white",
            "ticks": ""
           },
           "baxis": {
            "gridcolor": "white",
            "linecolor": "white",
            "ticks": ""
           },
           "bgcolor": "#E5ECF6",
           "caxis": {
            "gridcolor": "white",
            "linecolor": "white",
            "ticks": ""
           }
          },
          "title": {
           "x": 0.05
          },
          "xaxis": {
           "automargin": true,
           "gridcolor": "white",
           "linecolor": "white",
           "ticks": "",
           "title": {
            "standoff": 15
           },
           "zerolinecolor": "white",
           "zerolinewidth": 2
          },
          "yaxis": {
           "automargin": true,
           "gridcolor": "white",
           "linecolor": "white",
           "ticks": "",
           "title": {
            "standoff": 15
           },
           "zerolinecolor": "white",
           "zerolinewidth": 2
          }
         }
        },
        "title": {
         "text": "Prediction Data Plot"
        }
       }
      }
     },
     "metadata": {},
     "output_type": "display_data"
    }
   ],
   "source": [
    "fig = go.Figure()\n",
    "\n",
    "# Add scatter trace for actual points with labels\n",
    "fig.add_trace(go.Scatter3d(\n",
    "    x=x_test[selected_features[0]],\n",
    "    y=x_test[selected_features[1]],\n",
    "    z=x_test[selected_features[2]],\n",
    "    mode='markers',\n",
    "    marker=dict(size=5, color=y_test, colorscale='Viridis', showscale=True),\n",
    "    text=y_test,  # Hover text to show labels\n",
    "    hoverinfo=\"text\",\n",
    "    name='Predicted'\n",
    "))\n",
    "\n",
    "# Add the SVM decision plane as a transparent surface\n",
    "fig.add_trace(go.Surface(\n",
    "    x=xx, y=yy, z=zz,\n",
    "    colorscale='Blues',\n",
    "    opacity=0.5,\n",
    "    name='Decision Plane'\n",
    "))\n",
    "\n",
    "# Update layout with axis labels and title\n",
    "fig.update_layout(\n",
    "    title='Prediction Data Plot',\n",
    "    scene=dict(\n",
    "        xaxis_title=selected_features[0],\n",
    "        yaxis_title=selected_features[1],\n",
    "        zaxis_title=selected_features[2]\n",
    "    )\n",
    ")\n",
    "\n",
    "fig.show()\n"
   ]
  },
  {
   "cell_type": "code",
   "execution_count": null,
   "id": "08da0c8a",
   "metadata": {},
   "outputs": [],
   "source": []
  }
 ],
 "metadata": {
  "kernelspec": {
   "display_name": "Python 3",
   "language": "python",
   "name": "python3"
  },
  "language_info": {
   "codemirror_mode": {
    "name": "ipython",
    "version": 3
   },
   "file_extension": ".py",
   "mimetype": "text/x-python",
   "name": "python",
   "nbconvert_exporter": "python",
   "pygments_lexer": "ipython3",
   "version": "3.11.0"
  },
  "papermill": {
   "default_parameters": {},
   "duration": 14.654443,
   "end_time": "2022-12-28T07:09:19.245350",
   "environment_variables": {},
   "exception": null,
   "input_path": "__notebook__.ipynb",
   "output_path": "__notebook__.ipynb",
   "parameters": {},
   "start_time": "2022-12-28T07:09:04.590907",
   "version": "2.3.4"
  }
 },
 "nbformat": 4,
 "nbformat_minor": 5
}
