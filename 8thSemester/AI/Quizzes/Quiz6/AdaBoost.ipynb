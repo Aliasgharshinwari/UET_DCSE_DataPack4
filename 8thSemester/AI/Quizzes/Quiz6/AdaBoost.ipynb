{
 "cells": [
  {
   "cell_type": "code",
   "execution_count": 5,
   "id": "32577937",
   "metadata": {},
   "outputs": [
    {
     "name": "stdout",
     "output_type": "stream",
     "text": [
      "Accuracy: 0.84\n",
      "\n",
      "Classification Report:\n",
      "               precision    recall  f1-score   support\n",
      "\n",
      "           0       0.89      0.89      0.89        75\n",
      "           1       0.68      0.68      0.68        25\n",
      "\n",
      "    accuracy                           0.84       100\n",
      "   macro avg       0.79      0.79      0.79       100\n",
      "weighted avg       0.84      0.84      0.84       100\n",
      "\n",
      "\n",
      "Feature Importances:\n",
      "Gender: 0.0000\n",
      "Study_Hours_per_Week: 0.2052\n",
      "Attendance_Rate: 0.3625\n",
      "Past_Exam_Scores: 0.3811\n",
      "Parental_Education_Level: 0.0000\n",
      "Internet_Access_at_Home: 0.0241\n",
      "Extracurricular_Activities: 0.0271\n"
     ]
    }
   ],
   "source": [
    "import pandas as pd\n",
    "from sklearn.model_selection import train_test_split\n",
    "from sklearn.ensemble import AdaBoostClassifier\n",
    "from sklearn.tree import DecisionTreeClassifier\n",
    "from sklearn.metrics import accuracy_score, classification_report\n",
    "\n",
    "# Load data\n",
    "df = pd.read_csv('student_performance_dataset.csv')\n",
    "\n",
    "# Step 1: Preprocess the data\n",
    "# Remove duplicates\n",
    "df = df.drop_duplicates(subset='Student_ID')\n",
    "\n",
    "df = df.drop(columns=['Final_Exam_Score'])\n",
    "# Encode categorical features\n",
    "# Gender: Male=0, Female=1\n",
    "df['Gender'] = df['Gender'].map({'Male': 0, 'Female': 1})\n",
    "\n",
    "# Parental_Education_Level (ordinal encoding)\n",
    "education_levels = ['High School', 'Bachelors', 'Masters', 'PhD']\n",
    "df['Parental_Education_Level'] = df['Parental_Education_Level'].map(\n",
    "    {level: idx for idx, level in enumerate(education_levels)}\n",
    ")\n",
    "\n",
    "# Binary encoding for Yes/No columns\n",
    "df['Internet_Access_at_Home'] = df['Internet_Access_at_Home'].map({'Yes': 1, 'No': 0})\n",
    "df['Extracurricular_Activities'] = df['Extracurricular_Activities'].map({'Yes': 1, 'No': 0})\n",
    "\n",
    "# Define features and target\n",
    "X = df.drop(['Student_ID', 'Pass_Fail'], axis=1)\n",
    "y = df['Pass_Fail'].map({'Fail': 0, 'Pass': 1})\n",
    "\n",
    "# Step 2: Split data into train and test sets\n",
    "X_train, X_test, y_train, y_test = train_test_split(X, y, test_size=0.2, random_state=42)\n",
    "\n",
    "# Step 3: Initialize AdaBoost with Decision Tree Stumps\n",
    "base_estimator = DecisionTreeClassifier(max_depth=1)  # Decision Stump\n",
    "ada_model = AdaBoostClassifier(\n",
    "    n_estimators=50,\n",
    "    learning_rate=1.0,\n",
    "    random_state=42\n",
    ")\n",
    "\n",
    "# Train the model\n",
    "ada_model.fit(X_train, y_train)\n",
    "\n",
    "# Step 4: Evaluate the model\n",
    "y_pred = ada_model.predict(X_test)\n",
    "\n",
    "# Metrics\n",
    "print(\"Accuracy:\", accuracy_score(y_test, y_pred))\n",
    "print(\"\\nClassification Report:\\n\", classification_report(y_test, y_pred))\n",
    "\n",
    "# Feature Importance\n",
    "print(\"\\nFeature Importances:\")\n",
    "for feature, importance in zip(X.columns, ada_model.feature_importances_):\n",
    "    print(f\"{feature}: {importance:.4f}\")"
   ]
  },
  {
   "cell_type": "code",
   "execution_count": null,
   "id": "9741fe57",
   "metadata": {},
   "outputs": [],
   "source": []
  }
 ],
 "metadata": {
  "kernelspec": {
   "display_name": "Python 3",
   "language": "python",
   "name": "python3"
  },
  "language_info": {
   "codemirror_mode": {
    "name": "ipython",
    "version": 3
   },
   "file_extension": ".py",
   "mimetype": "text/x-python",
   "name": "python",
   "nbconvert_exporter": "python",
   "pygments_lexer": "ipython3",
   "version": "3.11.0"
  }
 },
 "nbformat": 4,
 "nbformat_minor": 5
}
